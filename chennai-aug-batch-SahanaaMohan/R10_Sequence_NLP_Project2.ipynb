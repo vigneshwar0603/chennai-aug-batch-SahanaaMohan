{
 "cells": [
  {
   "cell_type": "markdown",
   "metadata": {
    "colab_type": "text",
    "id": "QI9jhXKPCFcJ"
   },
   "source": [
    "# Stance Detection for the Fake News Challenge\n",
    "\n",
    "## Identifying Textual Relationships with Deep Neural Nets\n",
    "\n",
    "### Check the problem context [here](https://drive.google.com/open?id=1KfWaZyQdGBw8AUTacJ2yY86Yxgw2Xwq0).\n",
    "\n",
    "### Download files required for the project from [here](https://drive.google.com/open?id=10yf39ifEwVihw4xeJJR60oeFBY30Y5J8)."
   ]
  },
  {
   "cell_type": "markdown",
   "metadata": {
    "colab_type": "text",
    "id": "vSNgdEMpenpE"
   },
   "source": [
    "## Step1: Load the given dataset  \n",
    "\n",
    "1. Mount the google drive\n",
    "\n",
    "2. Import Glove embeddings\n",
    "\n",
    "3. Import the test and train datasets"
   ]
  },
  {
   "cell_type": "markdown",
   "metadata": {
    "colab_type": "text",
    "id": "aPOZRohMiSpQ"
   },
   "source": [
    "### Mount the google drive to access required project files\n",
    "\n",
    "Run the below commands"
   ]
  },
  {
   "cell_type": "code",
   "execution_count": 0,
   "metadata": {
    "colab": {},
    "colab_type": "code",
    "id": "7AS39z1XgFpT"
   },
   "outputs": [],
   "source": [
    "from google.colab import drive"
   ]
  },
  {
   "cell_type": "code",
   "execution_count": 0,
   "metadata": {
    "colab": {},
    "colab_type": "code",
    "id": "S_7yCFdzgFsH"
   },
   "outputs": [],
   "source": [
    "drive.mount('/content/drive/')"
   ]
  },
  {
   "cell_type": "markdown",
   "metadata": {
    "colab_type": "text",
    "id": "bhZdJ4zpwWzN"
   },
   "source": [
    "#### Path for Project files on google drive\n",
    "\n",
    "**Note:** You need to change this path according where you have kept the files in google drive. "
   ]
  },
  {
   "cell_type": "code",
   "execution_count": 1,
   "metadata": {
    "colab": {},
    "colab_type": "code",
    "id": "Aol97RUogFuS"
   },
   "outputs": [],
   "source": [
    "#project_path = \"/content/drive/My Drive/Datasets/Fake News Challenge/\"\n",
    "project_path = \"\""
   ]
  },
  {
   "cell_type": "markdown",
   "metadata": {
    "colab_type": "text",
    "id": "2ly0VxAnwJ2f"
   },
   "source": [
    "### Loading the Glove Embeddings"
   ]
  },
  {
   "cell_type": "code",
   "execution_count": 2,
   "metadata": {
    "colab": {},
    "colab_type": "code",
    "id": "xmsPn6PF-cgL"
   },
   "outputs": [],
   "source": [
    "from zipfile import ZipFile\n",
    "with ZipFile(project_path+'glove.6B.zip', 'r') as z:\n",
    "    z.extractall()"
   ]
  },
  {
   "cell_type": "markdown",
   "metadata": {
    "colab_type": "text",
    "id": "TjLJEQ_PwcGi"
   },
   "source": [
    "# Load the dataset [5 Marks]\n",
    "\n",
    "1. Using [read_csv()](https://pandas.pydata.org/pandas-docs/stable/generated/pandas.read_csv.html) in pandas load the given train datasets files **`train_bodies.csv`** and **`train_stances.csv`**\n",
    "\n",
    "2. Using [merge](https://pandas.pydata.org/pandas-docs/stable/generated/pandas.DataFrame.merge.html) command in pandas merge the two datasets based on the Body ID. \n",
    "\n",
    "Note: Save the final merged dataset in a dataframe with name **`dataset`**."
   ]
  },
  {
   "cell_type": "code",
   "execution_count": 2,
   "metadata": {
    "colab": {},
    "colab_type": "code",
    "id": "7gXO1WZ-gFwm"
   },
   "outputs": [],
   "source": [
    "import pandas as pd\n",
    "import numpy as np"
   ]
  },
  {
   "cell_type": "code",
   "execution_count": 3,
   "metadata": {
    "colab": {},
    "colab_type": "code",
    "id": "kosAWskdOOT8"
   },
   "outputs": [],
   "source": [
    "train_bodies = pd.read_csv('train_bodies.csv')\n",
    "train_stances = pd.read_csv('train_stances.csv')"
   ]
  },
  {
   "cell_type": "code",
   "execution_count": 4,
   "metadata": {},
   "outputs": [
    {
     "data": {
      "text/html": [
       "<div>\n",
       "<style scoped>\n",
       "    .dataframe tbody tr th:only-of-type {\n",
       "        vertical-align: middle;\n",
       "    }\n",
       "\n",
       "    .dataframe tbody tr th {\n",
       "        vertical-align: top;\n",
       "    }\n",
       "\n",
       "    .dataframe thead th {\n",
       "        text-align: right;\n",
       "    }\n",
       "</style>\n",
       "<table border=\"1\" class=\"dataframe\">\n",
       "  <thead>\n",
       "    <tr style=\"text-align: right;\">\n",
       "      <th></th>\n",
       "      <th>Headline</th>\n",
       "      <th>Body ID</th>\n",
       "      <th>Stance</th>\n",
       "    </tr>\n",
       "  </thead>\n",
       "  <tbody>\n",
       "    <tr>\n",
       "      <th>0</th>\n",
       "      <td>Police find mass graves with at least '15 bodi...</td>\n",
       "      <td>712</td>\n",
       "      <td>unrelated</td>\n",
       "    </tr>\n",
       "    <tr>\n",
       "      <th>1</th>\n",
       "      <td>Hundreds of Palestinians flee floods in Gaza a...</td>\n",
       "      <td>158</td>\n",
       "      <td>agree</td>\n",
       "    </tr>\n",
       "    <tr>\n",
       "      <th>2</th>\n",
       "      <td>Christian Bale passes on role of Steve Jobs, a...</td>\n",
       "      <td>137</td>\n",
       "      <td>unrelated</td>\n",
       "    </tr>\n",
       "    <tr>\n",
       "      <th>3</th>\n",
       "      <td>HBO and Apple in Talks for $15/Month Apple TV ...</td>\n",
       "      <td>1034</td>\n",
       "      <td>unrelated</td>\n",
       "    </tr>\n",
       "    <tr>\n",
       "      <th>4</th>\n",
       "      <td>Spider burrowed through tourist's stomach and ...</td>\n",
       "      <td>1923</td>\n",
       "      <td>disagree</td>\n",
       "    </tr>\n",
       "  </tbody>\n",
       "</table>\n",
       "</div>"
      ],
      "text/plain": [
       "                                            Headline  Body ID     Stance\n",
       "0  Police find mass graves with at least '15 bodi...      712  unrelated\n",
       "1  Hundreds of Palestinians flee floods in Gaza a...      158      agree\n",
       "2  Christian Bale passes on role of Steve Jobs, a...      137  unrelated\n",
       "3  HBO and Apple in Talks for $15/Month Apple TV ...     1034  unrelated\n",
       "4  Spider burrowed through tourist's stomach and ...     1923   disagree"
      ]
     },
     "execution_count": 4,
     "metadata": {},
     "output_type": "execute_result"
    }
   ],
   "source": [
    "train_stances.head()"
   ]
  },
  {
   "cell_type": "code",
   "execution_count": 5,
   "metadata": {},
   "outputs": [],
   "source": [
    "dataset = train_bodies.merge(train_stances, on='Body ID')"
   ]
  },
  {
   "cell_type": "markdown",
   "metadata": {
    "colab_type": "text",
    "id": "g4ycQbBCg20S"
   },
   "source": [
    "\n",
    "<h2> Check1:</h2>\n",
    "  \n",
    "<h3> You should see the below output if you run `dataset.head()` command as given below </h3>"
   ]
  },
  {
   "cell_type": "code",
   "execution_count": 6,
   "metadata": {
    "colab": {
     "base_uri": "https://localhost:8080/",
     "height": 204
    },
    "colab_type": "code",
    "id": "IUtF7iOmj11k",
    "outputId": "f78f6146-e7b4-49c7-e8f2-c33b4611c08d"
   },
   "outputs": [
    {
     "data": {
      "text/html": [
       "<div>\n",
       "<style scoped>\n",
       "    .dataframe tbody tr th:only-of-type {\n",
       "        vertical-align: middle;\n",
       "    }\n",
       "\n",
       "    .dataframe tbody tr th {\n",
       "        vertical-align: top;\n",
       "    }\n",
       "\n",
       "    .dataframe thead th {\n",
       "        text-align: right;\n",
       "    }\n",
       "</style>\n",
       "<table border=\"1\" class=\"dataframe\">\n",
       "  <thead>\n",
       "    <tr style=\"text-align: right;\">\n",
       "      <th></th>\n",
       "      <th>Body ID</th>\n",
       "      <th>articleBody</th>\n",
       "      <th>Headline</th>\n",
       "      <th>Stance</th>\n",
       "    </tr>\n",
       "  </thead>\n",
       "  <tbody>\n",
       "    <tr>\n",
       "      <th>0</th>\n",
       "      <td>0</td>\n",
       "      <td>A small meteorite crashed into a wooded area i...</td>\n",
       "      <td>Soldier shot, Parliament locked down after gun...</td>\n",
       "      <td>unrelated</td>\n",
       "    </tr>\n",
       "    <tr>\n",
       "      <th>1</th>\n",
       "      <td>0</td>\n",
       "      <td>A small meteorite crashed into a wooded area i...</td>\n",
       "      <td>Tourist dubbed ‘Spider Man’ after spider burro...</td>\n",
       "      <td>unrelated</td>\n",
       "    </tr>\n",
       "    <tr>\n",
       "      <th>2</th>\n",
       "      <td>0</td>\n",
       "      <td>A small meteorite crashed into a wooded area i...</td>\n",
       "      <td>Luke Somers 'killed in failed rescue attempt i...</td>\n",
       "      <td>unrelated</td>\n",
       "    </tr>\n",
       "    <tr>\n",
       "      <th>3</th>\n",
       "      <td>0</td>\n",
       "      <td>A small meteorite crashed into a wooded area i...</td>\n",
       "      <td>BREAKING: Soldier shot at War Memorial in Ottawa</td>\n",
       "      <td>unrelated</td>\n",
       "    </tr>\n",
       "    <tr>\n",
       "      <th>4</th>\n",
       "      <td>0</td>\n",
       "      <td>A small meteorite crashed into a wooded area i...</td>\n",
       "      <td>Giant 8ft 9in catfish weighing 19 stone caught...</td>\n",
       "      <td>unrelated</td>\n",
       "    </tr>\n",
       "  </tbody>\n",
       "</table>\n",
       "</div>"
      ],
      "text/plain": [
       "   Body ID                                        articleBody  \\\n",
       "0        0  A small meteorite crashed into a wooded area i...   \n",
       "1        0  A small meteorite crashed into a wooded area i...   \n",
       "2        0  A small meteorite crashed into a wooded area i...   \n",
       "3        0  A small meteorite crashed into a wooded area i...   \n",
       "4        0  A small meteorite crashed into a wooded area i...   \n",
       "\n",
       "                                            Headline     Stance  \n",
       "0  Soldier shot, Parliament locked down after gun...  unrelated  \n",
       "1  Tourist dubbed ‘Spider Man’ after spider burro...  unrelated  \n",
       "2  Luke Somers 'killed in failed rescue attempt i...  unrelated  \n",
       "3   BREAKING: Soldier shot at War Memorial in Ottawa  unrelated  \n",
       "4  Giant 8ft 9in catfish weighing 19 stone caught...  unrelated  "
      ]
     },
     "execution_count": 6,
     "metadata": {},
     "output_type": "execute_result"
    }
   ],
   "source": [
    "dataset.head()"
   ]
  },
  {
   "cell_type": "markdown",
   "metadata": {
    "colab_type": "text",
    "id": "tjzVz2ifijmj"
   },
   "source": [
    "## Step2: Data Pre-processing and setting some hyper parameters needed for model\n",
    "\n",
    "\n",
    "#### Run the code given below to set the required parameters.\n",
    "\n",
    "1. `MAX_SENTS` = Maximum no.of sentences to consider in an article.\n",
    "\n",
    "2. `MAX_SENT_LENGTH` = Maximum no.of words to consider in a sentence.\n",
    "\n",
    "3. `MAX_NB_WORDS` = Maximum no.of words in the total vocabualry.\n",
    "\n",
    "4. `MAX_SENTS_HEADING` = Maximum no.of sentences to consider in a heading of an article."
   ]
  },
  {
   "cell_type": "code",
   "execution_count": 7,
   "metadata": {
    "colab": {},
    "colab_type": "code",
    "id": "KDXSdpvqjuqw"
   },
   "outputs": [],
   "source": [
    "MAX_NB_WORDS = 20000\n",
    "MAX_SENTS = 20\n",
    "MAX_SENTS_HEADING = 1\n",
    "MAX_SENT_LENGTH = 20\n",
    "VALIDATION_SPLIT = 0.2\n",
    "MAX_SEQUENCE_LENGTH = 1000\n",
    "EMBEDDING_DIM = 100"
   ]
  },
  {
   "cell_type": "markdown",
   "metadata": {
    "colab_type": "text",
    "id": "zwE7CPHdiDT-"
   },
   "source": [
    "### Download the `Punkt` from nltk using the commands given below. This is for sentence tokenization.\n",
    "\n",
    "For more info on how to use it, read [this](https://stackoverflow.com/questions/35275001/use-of-punktsentencetokenizer-in-nltk).\n",
    "\n"
   ]
  },
  {
   "cell_type": "code",
   "execution_count": 8,
   "metadata": {
    "colab": {
     "base_uri": "https://localhost:8080/",
     "height": 68
    },
    "colab_type": "code",
    "id": "lsiKmyJUZ-hU",
    "outputId": "9b4f85c8-189c-4af9-cdab-4b244a8a5a72"
   },
   "outputs": [],
   "source": [
    "import nltk\n",
    "#nltk.download('punkt')"
   ]
  },
  {
   "cell_type": "markdown",
   "metadata": {
    "colab_type": "text",
    "id": "Gqwm_GbwwnhX"
   },
   "source": [
    "# Tokenizing the text and loading the pre-trained Glove word embeddings for each token  [5 marks] "
   ]
  },
  {
   "cell_type": "markdown",
   "metadata": {
    "colab_type": "text",
    "id": "WfZLR24mm32k"
   },
   "source": [
    "Keras provides [Tokenizer API](https://keras.io/preprocessing/text/) for preparing text. Read it before going any further."
   ]
  },
  {
   "cell_type": "markdown",
   "metadata": {
    "colab_type": "text",
    "id": "fLSn9S-5oG4Z"
   },
   "source": [
    "#### Import the Tokenizer from keras preprocessing text"
   ]
  },
  {
   "cell_type": "code",
   "execution_count": 9,
   "metadata": {
    "colab": {
     "base_uri": "https://localhost:8080/",
     "height": 34
    },
    "colab_type": "code",
    "id": "S-VUgh2yoMlR",
    "outputId": "406d3d0c-c2ae-4456-dbbd-23abaf6db2cc"
   },
   "outputs": [
    {
     "name": "stderr",
     "output_type": "stream",
     "text": [
      "Using TensorFlow backend.\n"
     ]
    }
   ],
   "source": [
    "import keras\n",
    "from keras.preprocessing.text import Tokenizer"
   ]
  },
  {
   "cell_type": "markdown",
   "metadata": {
    "colab_type": "text",
    "id": "eml0Lge4oOuh"
   },
   "source": [
    "#### Initialize the Tokenizer class with maximum vocabulary count as `MAX_NB_WORDS` initialized at the start of step2. "
   ]
  },
  {
   "cell_type": "code",
   "execution_count": 10,
   "metadata": {
    "colab": {},
    "colab_type": "code",
    "id": "Qm85qirPofc2"
   },
   "outputs": [],
   "source": [
    "t = Tokenizer(num_words=MAX_NB_WORDS)"
   ]
  },
  {
   "cell_type": "markdown",
   "metadata": {
    "colab_type": "text",
    "id": "HBe1KuXDosJ7"
   },
   "source": [
    "#### Now, using fit_on_texts() from Tokenizer class, lets encode the data \n",
    "\n",
    "Note: We need to fit articleBody and Headline also to cover all the words."
   ]
  },
  {
   "cell_type": "code",
   "execution_count": 11,
   "metadata": {
    "colab": {},
    "colab_type": "code",
    "id": "Q5rk-UyBlmyA"
   },
   "outputs": [],
   "source": [
    "t.fit_on_texts(dataset.articleBody + ' ' + dataset.Headline)"
   ]
  },
  {
   "cell_type": "code",
   "execution_count": 12,
   "metadata": {},
   "outputs": [
    {
     "data": {
      "text/plain": [
       "OrderedDict([('a', 478544),\n",
       "             ('small', 5273),\n",
       "             ('meteorite', 5848),\n",
       "             ('crashed', 207),\n",
       "             ('into', 25604),\n",
       "             ('wooded', 554),\n",
       "             ('area', 7132),\n",
       "             ('in', 408093),\n",
       "             (\"nicaragua's\", 526),\n",
       "             ('capital', 6867),\n",
       "             ('of', 441773),\n",
       "             ('managua', 1833),\n",
       "             ('overnight', 749),\n",
       "             ('the', 1129192),\n",
       "             ('government', 23653),\n",
       "             ('said', 134456),\n",
       "             ('sunday', 5416),\n",
       "             ('residents', 3428),\n",
       "             ('reported', 21926),\n",
       "             ('hearing', 2514),\n",
       "             ('mysterious', 853),\n",
       "             ('boom', 1459),\n",
       "             ('that', 234452),\n",
       "             ('left', 11643),\n",
       "             ('16', 2172),\n",
       "             ('foot', 2441),\n",
       "             ('deep', 1218),\n",
       "             ('crater', 3683),\n",
       "             ('near', 12938),\n",
       "             (\"city's\", 726),\n",
       "             ('airport', 5598),\n",
       "             ('associated', 4582),\n",
       "             ('press', 9548),\n",
       "             ('reports', 24361),\n",
       "             ('spokeswoman', 2460),\n",
       "             ('rosario', 491),\n",
       "             ('murillo', 1012),\n",
       "             ('committee', 2417),\n",
       "             ('formed', 650),\n",
       "             ('by', 104742),\n",
       "             ('to', 499727),\n",
       "             ('study', 1432),\n",
       "             ('event', 4903),\n",
       "             ('determined', 1234),\n",
       "             ('it', 125904),\n",
       "             ('was', 180100),\n",
       "             ('relatively', 703),\n",
       "             ('appears', 7092),\n",
       "             ('have', 110415),\n",
       "             ('come', 8595),\n",
       "             ('off', 15561),\n",
       "             ('an', 91223),\n",
       "             ('asteroid', 2700),\n",
       "             ('passing', 1254),\n",
       "             ('close', 4953),\n",
       "             ('earth', 3332),\n",
       "             ('house', 11890),\n",
       "             ('sized', 574),\n",
       "             ('2014', 11033),\n",
       "             ('rc', 903),\n",
       "             ('which', 40671),\n",
       "             ('measured', 228),\n",
       "             ('60', 1487),\n",
       "             ('feet', 2115),\n",
       "             ('diameter', 71),\n",
       "             ('skimmed', 36),\n",
       "             ('this', 69885),\n",
       "             ('weekend', 3516),\n",
       "             ('abc', 508),\n",
       "             ('news', 29720),\n",
       "             ('nicaragua', 1656),\n",
       "             ('will', 44654),\n",
       "             ('ask', 2405),\n",
       "             ('international', 6863),\n",
       "             ('experts', 3342),\n",
       "             ('help', 6673),\n",
       "             ('local', 8747),\n",
       "             ('scientists', 1447),\n",
       "             ('understanding', 432),\n",
       "             ('what', 28456),\n",
       "             ('happened', 5157),\n",
       "             ('had', 69250),\n",
       "             ('radius', 198),\n",
       "             ('39', 1131),\n",
       "             ('and', 383593),\n",
       "             ('depth', 335),\n",
       "             ('humberto', 638),\n",
       "             ('saballos', 346),\n",
       "             ('volcanologist', 332),\n",
       "             ('with', 129916),\n",
       "             ('nicaraguan', 2414),\n",
       "             ('institute', 2007),\n",
       "             ('territorial', 714),\n",
       "             ('studies', 1537),\n",
       "             ('who', 70750),\n",
       "             ('on', 179649),\n",
       "             ('he', 131558),\n",
       "             ('is', 188664),\n",
       "             ('still', 13329),\n",
       "             ('not', 82454),\n",
       "             ('clear', 4723),\n",
       "             ('if', 30363),\n",
       "             ('disintegrated', 555),\n",
       "             ('or', 41957),\n",
       "             ('buried', 1384),\n",
       "             ('garcia', 297),\n",
       "             ('astronomy', 287),\n",
       "             ('center', 4178),\n",
       "             ('at', 97886),\n",
       "             ('national', 7634),\n",
       "             ('autonomous', 622),\n",
       "             ('university', 3258),\n",
       "             ('could', 28631),\n",
       "             ('be', 93817),\n",
       "             ('related', 3293),\n",
       "             ('forecast', 467),\n",
       "             ('pass', 1102),\n",
       "             ('planet', 519),\n",
       "             ('saturday', 4821),\n",
       "             ('night', 8348),\n",
       "             ('we', 48620),\n",
       "             ('more', 36093),\n",
       "             ('because', 17094),\n",
       "             ('ice', 373),\n",
       "             ('rock', 1268),\n",
       "             ('wilfried', 394),\n",
       "             ('strauch', 643),\n",
       "             ('adviser', 511),\n",
       "             ('very', 11340),\n",
       "             ('strange', 1851),\n",
       "             ('no', 34599),\n",
       "             ('one', 42782),\n",
       "             ('streak', 281),\n",
       "             ('light', 1918),\n",
       "             ('anyone', 5025),\n",
       "             ('has', 100062),\n",
       "             ('photo', 9048),\n",
       "             ('something', 8614),\n",
       "             ('loud', 1425),\n",
       "             ('but', 70970),\n",
       "             ('they', 61196),\n",
       "             (\"didn't\", 3678),\n",
       "             ('see', 12651),\n",
       "             ('anything', 2902),\n",
       "             ('sky', 1183),\n",
       "             ('i', 48960),\n",
       "             ('sitting', 1198),\n",
       "             ('my', 18011),\n",
       "             ('porch', 290),\n",
       "             ('saw', 4391),\n",
       "             ('nothing', 3904),\n",
       "             ('then', 20438),\n",
       "             ('all', 34207),\n",
       "             ('sudden', 970),\n",
       "             ('heard', 9335),\n",
       "             ('large', 5000),\n",
       "             ('blast', 1325),\n",
       "             ('thought', 7011),\n",
       "             ('bomb', 1183),\n",
       "             ('felt', 2933),\n",
       "             ('expansive', 432),\n",
       "             ('wave', 892),\n",
       "             ('jorge', 455),\n",
       "             ('santamaria', 373),\n",
       "             ('told', 35463),\n",
       "             ('site', 8965),\n",
       "             (\"managua's\", 514),\n",
       "             ('air', 13079),\n",
       "             ('force', 5416),\n",
       "             ('base', 1305),\n",
       "             ('only', 16209),\n",
       "             ('journalists', 2837),\n",
       "             ('from', 97682),\n",
       "             ('state', 38469),\n",
       "             ('media', 21190),\n",
       "             ('were', 48691),\n",
       "             ('allowed', 1405),\n",
       "             ('visit', 2180),\n",
       "             ('soldier', 3582),\n",
       "             ('shot', 10784),\n",
       "             ('parliament', 6992),\n",
       "             ('locked', 211),\n",
       "             ('down', 11448),\n",
       "             ('after', 53169),\n",
       "             ('gunfire', 1968),\n",
       "             ('erupts', 93),\n",
       "             ('war', 9703),\n",
       "             ('memorial', 3741),\n",
       "             ('tourist', 170),\n",
       "             ('dubbed', 594),\n",
       "             ('‘spider', 30),\n",
       "             ('man’', 49),\n",
       "             ('spider', 6319),\n",
       "             ('burrows', 248),\n",
       "             ('under', 12945),\n",
       "             ('skin', 4315),\n",
       "             ('for', 147709),\n",
       "             ('days', 10649),\n",
       "             ('luke', 1194),\n",
       "             ('somers', 2614),\n",
       "             (\"'killed\", 124),\n",
       "             ('failed', 2110),\n",
       "             ('rescue', 2027),\n",
       "             ('attempt', 1892),\n",
       "             (\"yemen'\", 70),\n",
       "             ('breaking', 1674),\n",
       "             ('ottawa', 5095),\n",
       "             ('giant', 727),\n",
       "             ('8ft', 76),\n",
       "             ('9in', 36),\n",
       "             ('catfish', 2432),\n",
       "             ('weighing', 318),\n",
       "             ('19', 2243),\n",
       "             ('stone', 1259),\n",
       "             ('caught', 5586),\n",
       "             ('italy', 765),\n",
       "             ('biggest', 1392),\n",
       "             ('ever', 4920),\n",
       "             ('reeled', 35),\n",
       "             ('rod', 236),\n",
       "             ('line', 2940),\n",
       "             ('enormous', 600),\n",
       "             ('20', 5168),\n",
       "             ('fishing', 485),\n",
       "             ('40', 4481),\n",
       "             ('minute', 1740),\n",
       "             ('boat', 652),\n",
       "             ('battle', 1670),\n",
       "             ('italian', 1033),\n",
       "             ('catches', 309),\n",
       "             ('huge', 2223),\n",
       "             ('wels', 436),\n",
       "             ('record', 2400),\n",
       "             ('coming', 5890),\n",
       "             ('store', 6214),\n",
       "             ('you', 31213),\n",
       "             ('pumpkin', 3680),\n",
       "             ('spice', 4121),\n",
       "             ('condom', 1964),\n",
       "             ('gunman', 2851),\n",
       "             ('killed', 17745),\n",
       "             ('shooting', 11369),\n",
       "             ('hill', 3176),\n",
       "             ('hunt', 603),\n",
       "             ('other', 21273),\n",
       "             ('shooters', 124),\n",
       "             ('canada', 1851),\n",
       "             ('surreal', 50),\n",
       "             ('photos', 3936),\n",
       "             ('fisherman’s', 24),\n",
       "             ('jaw', 37),\n",
       "             ('dropping', 307),\n",
       "             ('catch', 843),\n",
       "             ('likely', 6320),\n",
       "             ('people', 33087),\n",
       "             ('wondering', 395),\n",
       "             ('it’s', 11262),\n",
       "             ('real', 7753),\n",
       "             ('fisherman', 274),\n",
       "             ('lands', 138),\n",
       "             ('world', 13113),\n",
       "             ('hooked', 440),\n",
       "             ('source', 10370),\n",
       "             ('tom', 845),\n",
       "             ('brokaw', 413),\n",
       "             ('wants', 2219),\n",
       "             ('brian', 1160),\n",
       "             ('williams', 1968),\n",
       "             ('fired', 6723),\n",
       "             ('been', 75042),\n",
       "             ('canada’s', 278),\n",
       "             ('just', 24249),\n",
       "             ('steps', 946),\n",
       "             ('away', 6508),\n",
       "             ('nation’s', 353),\n",
       "             ('280', 170),\n",
       "             ('pound', 621),\n",
       "             ('makes', 3007),\n",
       "             ('set', 7532),\n",
       "             ('rumor', 3521),\n",
       "             ('debunked', 618),\n",
       "             ('robocop', 124),\n",
       "             ('style', 1050),\n",
       "             ('robots', 1495),\n",
       "             ('are', 76084),\n",
       "             ('patrolling', 285),\n",
       "             (\"microsoft's\", 506),\n",
       "             ('campus', 1370),\n",
       "             ('po', 721),\n",
       "             ('127', 169),\n",
       "             ('kg', 130),\n",
       "             ('2', 8131),\n",
       "             ('67', 594),\n",
       "             ('meters', 526),\n",
       "             ('monster', 298),\n",
       "             ('looks', 2345),\n",
       "             ('big', 5714),\n",
       "             ('enough', 4478),\n",
       "             ('swallow', 163),\n",
       "             ('man', 29694),\n",
       "             ('whole', 1454),\n",
       "             (\"somers'\", 162),\n",
       "             ('sister', 3765),\n",
       "             ('says', 19676),\n",
       "             ('yemen', 1594),\n",
       "             ('apple', 39336),\n",
       "             ('watch', 27893),\n",
       "             ('shower', 1323),\n",
       "             ('proof', 1348),\n",
       "             ('100', 4837),\n",
       "             ('000', 13455),\n",
       "             ('apps', 2251),\n",
       "             ('launch', 4281),\n",
       "             ('canadian', 6811),\n",
       "             ('building', 6384),\n",
       "             ('multiple', 2904),\n",
       "             ('shots', 8823),\n",
       "             ('comcast', 4048),\n",
       "             ('threatening', 1425),\n",
       "             ('cut', 2898),\n",
       "             ('customers', 3026),\n",
       "             ('use', 7463),\n",
       "             ('tor', 1667),\n",
       "             ('web', 2795),\n",
       "             ('browser', 944),\n",
       "             ('criminals', 596),\n",
       "             ('strikes', 5413),\n",
       "             ('city', 15334),\n",
       "             ('google', 3765),\n",
       "             ('buy', 1958),\n",
       "             ('chunk', 89),\n",
       "             ('pacific', 771),\n",
       "             ('shores', 623),\n",
       "             ('iconic', 679),\n",
       "             ('redwood', 551),\n",
       "             ('office', 7972),\n",
       "             ('park', 2089),\n",
       "             ('report', 20111),\n",
       "             ('iraqi', 12307),\n",
       "             ('social', 7849),\n",
       "             ('rumors', 6090),\n",
       "             ('claim', 7677),\n",
       "             ('leader', 13032),\n",
       "             ('slain', 399),\n",
       "             ('there', 31453),\n",
       "             ('unconfirmed', 1673),\n",
       "             ('say', 15432),\n",
       "             ('figment', 29),\n",
       "             ('your', 11895),\n",
       "             ('own', 6488),\n",
       "             ('gross', 173),\n",
       "             ('imagination', 220),\n",
       "             (\"canada's\", 469),\n",
       "             (\"'shot\", 28),\n",
       "             (\"dead'\", 30),\n",
       "             ('wounding', 99),\n",
       "             ('kurds', 2947),\n",
       "             ('fear', 1940),\n",
       "             ('isis', 41493),\n",
       "             ('chemical', 2193),\n",
       "             ('weapon', 1710),\n",
       "             ('kobani', 5121),\n",
       "             ('incident', 5701),\n",
       "             ('monstrous', 18),\n",
       "             ('last', 23996),\n",
       "             ('week', 12491),\n",
       "             ('hinted', 160),\n",
       "             ('as', 106611),\n",
       "             ('ebola', 12522),\n",
       "             ('fears', 1725),\n",
       "             ('spread', 3024),\n",
       "             ('across', 7582),\n",
       "             ('america', 3742),\n",
       "             ('today', 6922),\n",
       "             ('get', 13446),\n",
       "             ('confirmation', 1988),\n",
       "             ('daily', 7366),\n",
       "             ('caller', 228),\n",
       "             ('passenger', 811),\n",
       "             ('dulles', 322),\n",
       "             ('outside', 5354),\n",
       "             ('washington', 6419),\n",
       "             ('d', 617),\n",
       "             ('c', 1649),\n",
       "             ('apparently', 5395),\n",
       "             ('taking', 5266),\n",
       "             ('any', 21470),\n",
       "             ('chances', 563),\n",
       "             ('female', 3454),\n",
       "             ('dressed', 1883),\n",
       "             ('hazmat', 288),\n",
       "             ('suit', 696),\n",
       "             ('complete', 1033),\n",
       "             ('full', 5185),\n",
       "             ('body', 5028),\n",
       "             ('gown', 126),\n",
       "             ('mask', 463),\n",
       "             ('gloves', 543),\n",
       "             ('spotted', 1537),\n",
       "             ('wednesday', 8421),\n",
       "             ('waiting', 1505),\n",
       "             ('flight', 1321),\n",
       "             ('particularly', 1504),\n",
       "             ('liked', 316),\n",
       "             ('jcpenney', 1),\n",
       "             ('bag', 463),\n",
       "             ('maybe', 1595),\n",
       "             (\"that's\", 3151),\n",
       "             ('new', 35075),\n",
       "             ('business', 3243),\n",
       "             ('bankrupt', 30),\n",
       "             ('retailer', 166),\n",
       "             ('side', 2697),\n",
       "             ('note', 1866),\n",
       "             ('try', 2507),\n",
       "             ('halloween', 87),\n",
       "             ('stores', 1552),\n",
       "             ('need', 3582),\n",
       "             ('haz', 1),\n",
       "             ('mat', 1),\n",
       "             ('hurry', 9),\n",
       "             ('begins', 1189),\n",
       "             ('wearing', 3630),\n",
       "             ('newser', 156),\n",
       "             ('–', 11263),\n",
       "             ('wonder', 1412),\n",
       "             ('how', 14516),\n",
       "             ('long', 8715),\n",
       "             ('quarter', 1306),\n",
       "             ('pounder', 534),\n",
       "             ('cheese', 2635),\n",
       "             ('can', 20106),\n",
       "             ('two', 23128),\n",
       "             ('australians', 200),\n",
       "             ('bought', 1974),\n",
       "             ('few', 6608),\n",
       "             (\"mcdonald's\", 701),\n",
       "             ('burgers', 212),\n",
       "             ('friends', 7479),\n",
       "             ('back', 14268),\n",
       "             ('1995', 131),\n",
       "             ('when', 35715),\n",
       "             ('teens', 850),\n",
       "             ('never', 8930),\n",
       "             ('showed', 4435),\n",
       "             ('up', 37895),\n",
       "             ('so', 24630),\n",
       "             (\"kid's\", 56),\n",
       "             ('burger', 1932),\n",
       "             ('went', 11210),\n",
       "             ('uneaten—and', 56),\n",
       "             ('stayed', 536),\n",
       "             ('way', 10354),\n",
       "             (\"australia's\", 98),\n",
       "             ('network', 3042),\n",
       "             ('we’re', 1531),\n",
       "             ('pretty', 2760),\n",
       "             ('sure', 4617),\n",
       "             ('oldest', 713),\n",
       "             ('men', 5806),\n",
       "             ('casey', 283),\n",
       "             ('dean', 529),\n",
       "             ('holding', 3974),\n",
       "             ('onto', 388),\n",
       "             ('their', 36284),\n",
       "             ('friend', 5208),\n",
       "             ('started', 4899),\n",
       "             ('joke', 970),\n",
       "             ('adds', 1014),\n",
       "             ('months', 6687),\n",
       "             ('became', 3068),\n",
       "             ('years', 15018),\n",
       "             ('now', 20023),\n",
       "             ('later', 9734),\n",
       "             ('same', 8141),\n",
       "             ('did', 12599),\n",
       "             ('day', 12169),\n",
       "             ('perfectly', 737),\n",
       "             ('preserved', 264),\n",
       "             ('its', 30533),\n",
       "             ('original', 2619),\n",
       "             ('wrapping', 125),\n",
       "             ('his', 113684),\n",
       "             ('buying', 840),\n",
       "             ('mate', 197),\n",
       "             ('eduard', 278),\n",
       "             ('nitz', 275),\n",
       "             ('even', 17327),\n",
       "             ('took', 9447),\n",
       "             ('australian', 1172),\n",
       "             ('tv', 6504),\n",
       "             ('show', 9010),\n",
       "             ('project', 2017),\n",
       "             ('mold', 103),\n",
       "             ('free', 5325),\n",
       "             ('specimen', 334),\n",
       "             ('9', 6304),\n",
       "             ('pair', 1205),\n",
       "             ('offered', 2037),\n",
       "             ('take', 8262),\n",
       "             ('bite', 511),\n",
       "             ('charity', 985),\n",
       "             ('dissuaded', 56),\n",
       "             (\"show's\", 56),\n",
       "             ('hosts', 276),\n",
       "             (\"they've\", 928),\n",
       "             ('also', 35924),\n",
       "             ('facebook', 8341),\n",
       "             ('page', 5341),\n",
       "             ('called', 8314),\n",
       "             ('year', 27924),\n",
       "             ('old', 16253),\n",
       "             ('likes', 558),\n",
       "             ('than', 20816),\n",
       "             ('kanye', 619),\n",
       "             ('west', 5817),\n",
       "             ('4', 4405),\n",
       "             ('044', 56),\n",
       "             ('writing', 1660),\n",
       "             (\"they're\", 2333),\n",
       "             ('selling', 1475),\n",
       "             ('itunes', 547),\n",
       "             ('song', 998),\n",
       "             ('1', 7747),\n",
       "             ('69', 210),\n",
       "             ('giving', 1514),\n",
       "             ('proceeds', 268),\n",
       "             ('beyond', 862),\n",
       "             ('blue', 968),\n",
       "             ('helps', 605),\n",
       "             ('anxiety', 248),\n",
       "             ('depression', 118),\n",
       "             ('ago', 8419),\n",
       "             ('sold', 2698),\n",
       "             ('bottle', 560),\n",
       "             ('mcjordan', 56),\n",
       "             ('sauce', 58),\n",
       "             ('10', 9440),\n",
       "             (\"here's\", 1280),\n",
       "             ('why', 5537),\n",
       "             ('mickey', 56),\n",
       "             (\"d's\", 56),\n",
       "             ('food', 5064),\n",
       "             ('seemingly', 885),\n",
       "             ('decays', 56),\n",
       "             ('comfort', 435),\n",
       "             ('eating', 2141),\n",
       "             ('chinese', 1751),\n",
       "             ('woman', 11463),\n",
       "             ('26', 2636),\n",
       "             ('spends', 777),\n",
       "             ('entire', 1972),\n",
       "             ('kfc', 2355),\n",
       "             ('being', 24418),\n",
       "             ('dumped', 897),\n",
       "             ('boyfriend', 718),\n",
       "             ('suspected', 3933),\n",
       "             ('cases', 4633),\n",
       "             ('iraq', 18906),\n",
       "             ('untrue', 483),\n",
       "             ('fighters', 12407),\n",
       "             ('contracted', 1609),\n",
       "             (\"'incorrect'\", 60),\n",
       "             ('health', 9823),\n",
       "             ('ministry', 4143),\n",
       "             ('virus', 3738),\n",
       "             ('spreading', 751),\n",
       "             ('among', 5334),\n",
       "             ('militants', 16727),\n",
       "             ('jihadists', 2684),\n",
       "             ('seeking', 1878),\n",
       "             ('cure', 157),\n",
       "             ('mosul', 7321),\n",
       "             ('hospital', 9471),\n",
       "             (\"'have\", 69),\n",
       "             (\"ebola'\", 69),\n",
       "             ('organisation', 1418),\n",
       "             ('investigating', 1923),\n",
       "             ('lethal', 297),\n",
       "             ('disease', 2654),\n",
       "             ('cracks', 76),\n",
       "             ('five', 5909),\n",
       "             ('confirmed', 12177),\n",
       "             ('official', 13309),\n",
       "             ('confusion', 709),\n",
       "             ('swirls', 53),\n",
       "             ('details', 4722),\n",
       "             ('murky', 114),\n",
       "             ('arrest', 2923),\n",
       "             (\"leader's\", 648),\n",
       "             (\"'wife'\", 53),\n",
       "             ('outbreak', 783),\n",
       "             ('2015', 6755),\n",
       "             ('update', 3303),\n",
       "             ('may', 19196),\n",
       "             ('deadly', 1743),\n",
       "             ('sources', 9040),\n",
       "             ('allegedly', 6357),\n",
       "             ('amazon', 5057),\n",
       "             ('com', 7692),\n",
       "             ('open', 4788),\n",
       "             ('first', 24835),\n",
       "             ('physical', 1673),\n",
       "             ('manhattan', 1357),\n",
       "             ('dj', 119),\n",
       "             ('alleged', 6746),\n",
       "             ('audio', 8394),\n",
       "             ('michael', 11764),\n",
       "             ('brown', 14984),\n",
       "             ('surfaced', 1826),\n",
       "             ('weaponized', 61),\n",
       "             ('contract', 1136),\n",
       "             ('horror', 348),\n",
       "             ('reportedly', 12549),\n",
       "             ('matt', 1190),\n",
       "             ('taibbi', 1561),\n",
       "             ('leave', 3554),\n",
       "             ('absence', 2419),\n",
       "             ('look', 4925),\n",
       "             (\"'there\", 390),\n",
       "             ('limit', 303),\n",
       "             (\"depravity'\", 82),\n",
       "             ('islamic', 29775),\n",
       "             ('feed', 1410),\n",
       "             ('mother', 4753),\n",
       "             ('her', 36443),\n",
       "             ('son', 8990),\n",
       "             ('israeli', 4534),\n",
       "             ('fighter', 2841),\n",
       "             ('abducted', 2923),\n",
       "             ('read', 4165),\n",
       "             ('boko', 13863),\n",
       "             ('haram', 13226),\n",
       "             ('kidnapped', 7592),\n",
       "             ('girls', 11969),\n",
       "             ('married', 2696),\n",
       "             ('truce', 1760),\n",
       "             ('does', 5959),\n",
       "             ('probably', 4204),\n",
       "             ('anyway', 693),\n",
       "             ('kurdish', 10159),\n",
       "             ('biological', 652),\n",
       "             ('warfare', 230),\n",
       "             ('horizon', 152),\n",
       "             ('soldiers', 4407),\n",
       "             ('infected', 979),\n",
       "             ('daash', 112),\n",
       "             ('transferred', 342),\n",
       "             ('translate', 279),\n",
       "             ('trick', 271),\n",
       "             ('‘eating', 27),\n",
       "             ('son’', 80),\n",
       "             ('‘have', 57),\n",
       "             ('ebola’', 45),\n",
       "             ('aren’t', 526),\n",
       "             ('attack', 9916),\n",
       "             ('britain', 2144),\n",
       "             (\"'contract\", 62),\n",
       "             (\"virus'\", 62),\n",
       "             ('grows', 273),\n",
       "             ('6', 5322),\n",
       "             ('billion', 1434),\n",
       "             ('california', 2055),\n",
       "             ('deals', 322),\n",
       "             ('about', 44194),\n",
       "             ('setting', 391),\n",
       "             ('straight', 509),\n",
       "             ('judicial', 588),\n",
       "             (\"watch's\", 637),\n",
       "             ('farrell', 38),\n",
       "             ('terrorists', 3896),\n",
       "             ('cross', 1439),\n",
       "             ('mexican', 2252),\n",
       "             ('border', 14796),\n",
       "             ('radically', 113),\n",
       "             ('redesigned', 119),\n",
       "             ('12', 8401),\n",
       "             ('inch', 3821),\n",
       "             ('macbook', 4281),\n",
       "             ('tim', 1676),\n",
       "             ('cook', 2675),\n",
       "             ('reveals', 1208),\n",
       "             ('waterproofing', 174),\n",
       "             ('improved', 228),\n",
       "             ('getting', 3403),\n",
       "             ('dismisses', 52),\n",
       "             ('‘unfounded’', 39),\n",
       "             ('elderly', 1161),\n",
       "             ('arrested', 4605),\n",
       "             ('kidnapping', 1414),\n",
       "             ('neighbor’s', 201),\n",
       "             ('cats', 892),\n",
       "             ('making', 6259),\n",
       "             ('fur', 576),\n",
       "             ('coats', 398),\n",
       "             ('denies', 1370),\n",
       "             ('5', 5972),\n",
       "             ('bird', 706),\n",
       "             ('poop', 283),\n",
       "             ('vladimir', 573),\n",
       "             ('putin', 1084),\n",
       "             ('dna', 1405),\n",
       "             ('tests', 1439),\n",
       "             ('prove', 1181),\n",
       "             ('lebanon', 2109),\n",
       "             ('chief', 5146),\n",
       "             ('al', 27231),\n",
       "             (\"baghdadi's\", 1406),\n",
       "             ('ex', 1398),\n",
       "             ('wife', 5773),\n",
       "             ('daughter', 4584),\n",
       "             ('fake', 5482),\n",
       "             ('passports', 96),\n",
       "             ('officials', 16068),\n",
       "             ('refute', 74),\n",
       "             ('members', 7027),\n",
       "             ('reservations', 155),\n",
       "             ('trying', 6108),\n",
       "             ('considered', 1383),\n",
       "             ('platinum', 752),\n",
       "             ('model', 2721),\n",
       "             ('former', 8405),\n",
       "             ('pga', 2861),\n",
       "             ('tour', 4233),\n",
       "             ('player', 776),\n",
       "             ('tiger', 2241),\n",
       "             ('woods', 4052),\n",
       "             ('suspended', 1355),\n",
       "             ('drug', 3444),\n",
       "             ('test', 2068),\n",
       "             ('failure', 1275),\n",
       "             ('us', 22825),\n",
       "             ('journalist', 13123),\n",
       "             ('james', 10918),\n",
       "             ('foley', 19103),\n",
       "             ('hbo', 2535),\n",
       "             ('talks', 3731),\n",
       "             ('15', 3301),\n",
       "             ('month', 10768),\n",
       "             ('streaming', 1859),\n",
       "             ('service', 11202),\n",
       "             ('launching', 509),\n",
       "             ('april', 3957),\n",
       "             ('investigates', 129),\n",
       "             ('blokes', 85),\n",
       "             ('dared', 69),\n",
       "             ('eat', 1172),\n",
       "             ('indian', 1020),\n",
       "             ('civil', 2185),\n",
       "             ('servant', 235),\n",
       "             ('sacked', 431),\n",
       "             (\"'after\", 34),\n",
       "             ('24', 3451),\n",
       "             (\"sickie'\", 26),\n",
       "             ('contingency', 72),\n",
       "             ('plan', 1453),\n",
       "             ('developed', 997),\n",
       "             ('‘probing’', 57),\n",
       "             ('whether', 6564),\n",
       "             ('got', 6319),\n",
       "             ('posting', 696),\n",
       "             ('gun', 2356),\n",
       "             ('toting', 1),\n",
       "             ('child', 4789),\n",
       "             ('online', 7794),\n",
       "             ('supporters', 1056),\n",
       "             ('announced', 6086),\n",
       "             ('group’s', 1434),\n",
       "             ('youngest', 933),\n",
       "             ('died', 6875),\n",
       "             ('combat', 795),\n",
       "             ('twitter', 13355),\n",
       "             ('accounts', 2059),\n",
       "             ('linked', 2572),\n",
       "             ('sham', 212),\n",
       "             ('claimed', 9075),\n",
       "             ('“got', 4),\n",
       "             ('martyred”', 1),\n",
       "             ('father', 7922),\n",
       "             ('while', 21588),\n",
       "             ('fighting', 5674),\n",
       "             ('terrorist', 5253),\n",
       "             ('group', 26105),\n",
       "             ('syria', 23883),\n",
       "             ('posted', 9326),\n",
       "             ('smiling', 916),\n",
       "             ('boy', 5300),\n",
       "             ('military', 12279),\n",
       "             ('fatigues', 525),\n",
       "             ('weapons', 6851),\n",
       "             ('times', 10202),\n",
       "             ('almost', 4251),\n",
       "             ('british', 11774),\n",
       "             ('roughly', 1226),\n",
       "             ('emerged', 2075),\n",
       "             ('june', 2882),\n",
       "             ('charlie', 1073),\n",
       "             ('cooper', 548),\n",
       "             ('researcher', 541),\n",
       "             ('monitors', 548),\n",
       "             ('london', 7003),\n",
       "             ('based', 7769),\n",
       "             ('quilliam', 241),\n",
       "             ('counter', 1884),\n",
       "             ('extremism', 346),\n",
       "             ('think', 8434),\n",
       "             ('tank', 977),\n",
       "             ('past', 7059),\n",
       "             ('mr', 12311),\n",
       "             ('noticed', 1012),\n",
       "             ('hashtag', 746),\n",
       "             ('“shibal', 1),\n",
       "             ('albaghdadi”', 1),\n",
       "             ('—', 23438),\n",
       "             ('translates', 348),\n",
       "             ('“the', 6982),\n",
       "             ('cub', 398),\n",
       "             ('baghdadi”', 1),\n",
       "             ('commonly', 688),\n",
       "             ('refer', 237),\n",
       "             ('themselves', 2625),\n",
       "             ('lions', 60),\n",
       "             ('cubs', 35),\n",
       "             ('abu', 4841),\n",
       "             ('bakr', 2885),\n",
       "             ('baghdadi', 5514),\n",
       "             ('isis’s', 176),\n",
       "             ('self', 1206),\n",
       "             ('proclaimed', 665),\n",
       "             ('caliph', 219),\n",
       "             ('ubaidah', 471),\n",
       "             ('martyred', 89),\n",
       "             ('airstrikes', 7107),\n",
       "             ('weeks', 6138),\n",
       "             ('http', 1733),\n",
       "             ('t', 2471),\n",
       "             ('co', 4877),\n",
       "             ('n1puexi7ir', 1),\n",
       "             ('istimes1', 1),\n",
       "             ('october', 3460),\n",
       "             ('07', 71),\n",
       "             ('tweeting', 216),\n",
       "             ('young', 5924),\n",
       "             ('dead', 8160),\n",
       "             ('sept', 2534),\n",
       "             ('often', 3250),\n",
       "             ('produces', 276),\n",
       "             ('fabricated', 367),\n",
       "             ('make', 10574),\n",
       "             ('seem', 2066),\n",
       "             ('“more', 104),\n",
       "             ('brutal', 2420),\n",
       "             ('”', 72180),\n",
       "             ('appear', 2684),\n",
       "             ('directly', 1245),\n",
       "             ('account', 4978),\n",
       "             ('u', 25842),\n",
       "             ('s', 25838),\n",
       "             ('strike', 2973),\n",
       "             ('though', 8395),\n",
       "             ('identified', 5785),\n",
       "             ('“it', 2830),\n",
       "             ('seems', 3610),\n",
       "             ('like', 20908),\n",
       "             ('legitimate', 280),\n",
       "             ('thing', 4471),\n",
       "             ('telephone', 390),\n",
       "             ('interview', 4361),\n",
       "             ('thursday', 6111),\n",
       "             ('adding', 2769),\n",
       "             ('known', 10850),\n",
       "             ('“i', 6581),\n",
       "             ('would', 36314),\n",
       "             ('vouch', 35),\n",
       "             ('united', 7015),\n",
       "             ('nations', 1397),\n",
       "             ('children', 5206),\n",
       "             ('conduct', 482),\n",
       "             ('patrols', 106),\n",
       "             ('guard', 2875),\n",
       "             ('prisoners', 988),\n",
       "             ('carry', 1122),\n",
       "             ('forced', 2482),\n",
       "             ('give', 4141),\n",
       "             ('blood', 2614),\n",
       "             ('injured', 2298),\n",
       "             ('listed', 675),\n",
       "             ('un', 8946),\n",
       "             ('13', 3708),\n",
       "             ('frequently', 671),\n",
       "             ('used', 9232),\n",
       "             ('propaganda', 1421),\n",
       "             ('showing', 4268),\n",
       "             ('“uniform', 1),\n",
       "             ('parading', 35),\n",
       "             ('alongside', 2098),\n",
       "             ('adults', 113),\n",
       "             ('“everyone', 31),\n",
       "             ('nato', 286),\n",
       "             ('headquarters', 1552),\n",
       "             ('worried', 889),\n",
       "             ('shelly', 45),\n",
       "             ('whitman', 35),\n",
       "             ('executive', 1899),\n",
       "             ('director', 5264),\n",
       "             ('halifax', 35),\n",
       "             ('romeo', 63),\n",
       "             ('dallaire', 35),\n",
       "             ('initiative', 109),\n",
       "             ('“if', 1363),\n",
       "             ('send', 905),\n",
       "             ('boots', 277),\n",
       "             ('ground', 4268),\n",
       "             ('going', 11477),\n",
       "             ('face', 5097),\n",
       "             ('she', 40102),\n",
       "             ('currently', 3923),\n",
       "             ('six', 9239),\n",
       "             ('mission', 1532),\n",
       "             ('limited', 1353),\n",
       "             ('ban', 509),\n",
       "             ('deploying', 192),\n",
       "             ('troops', 2196),\n",
       "             ('‘the', 851),\n",
       "             (\"baghdadi'\", 173),\n",
       "             ('jihadist', 2678),\n",
       "             ('‘got', 16),\n",
       "             ('martyred’', 16),\n",
       "             ('least', 10421),\n",
       "             ('25', 3133),\n",
       "             ('insurgents', 1465),\n",
       "             ('clashes', 1013),\n",
       "             ('between', 8036),\n",
       "             ('islamist', 3535),\n",
       "             ('northeast', 793),\n",
       "             ('nigeria', 4885),\n",
       "             ('civilians', 2170),\n",
       "             ('elsewhere', 938),\n",
       "             ('region', 3010),\n",
       "             ('monday', 9791),\n",
       "             ('ceasefire', 4282),\n",
       "             ('agreement', 1523),\n",
       "             ('nigerian', 6143),\n",
       "             ('expected', 4508),\n",
       "             ('lead', 2376),\n",
       "             ('liberation', 154),\n",
       "             ('200', 3834),\n",
       "             ('schoolgirls', 3766),\n",
       "             ('due', 4484),\n",
       "             ('continue', 3385),\n",
       "             ('neighbouring', 592),\n",
       "             ('chad', 2070),\n",
       "             ('attacks', 5870),\n",
       "             ('over', 26831),\n",
       "             ('blamed', 898),\n",
       "             ('security', 16098),\n",
       "             ('several', 9704),\n",
       "             ('dozen', 1228),\n",
       "             ('since', 16328),\n",
       "             ('announcement', 2063),\n",
       "             ('spokesman', 7343),\n",
       "             ('work', 7950),\n",
       "             ('criminal', 2250),\n",
       "             ('gangs', 572),\n",
       "             ('lawless', 181),\n",
       "             ('army', 4537),\n",
       "             ('officer', 8096),\n",
       "             ('requested', 556),\n",
       "             ('anonymity', 1663),\n",
       "             ('tried', 2279),\n",
       "             ('enter', 1093),\n",
       "             ('town', 9519),\n",
       "             ('damboa', 606),\n",
       "             ('late', 5740),\n",
       "             ('through', 13213),\n",
       "             ('alagarno', 124),\n",
       "             ('hideout', 204),\n",
       "             ('fought', 1108),\n",
       "             ('them', 22252),\n",
       "             ('“our', 250),\n",
       "             ('gunned', 294),\n",
       "             ('entered', 1076),\n",
       "             ('unleashed', 192),\n",
       "             ('terror', 5799),\n",
       "             ('picking', 607),\n",
       "             ('ruins', 194),\n",
       "             ('armoured', 523),\n",
       "             ('vehicle', 3174),\n",
       "             ('some', 26496),\n",
       "             ('arms', 3059),\n",
       "             ('recovered', 954),\n",
       "             ('garrison', 102),\n",
       "             ('cameroon', 659),\n",
       "             ('fierce', 272),\n",
       "             ('forces', 10911),\n",
       "             ('july', 2596),\n",
       "             ('driven', 660),\n",
       "             ('out', 34743),\n",
       "             ('offensive', 576),\n",
       "             ('member', 3173),\n",
       "             ...])"
      ]
     },
     "execution_count": 12,
     "metadata": {},
     "output_type": "execute_result"
    }
   ],
   "source": [
    "t.word_counts"
   ]
  },
  {
   "cell_type": "code",
   "execution_count": 13,
   "metadata": {},
   "outputs": [
    {
     "data": {
      "text/plain": [
       "3"
      ]
     },
     "execution_count": 13,
     "metadata": {},
     "output_type": "execute_result"
    }
   ],
   "source": [
    "t.word_index['a']"
   ]
  },
  {
   "cell_type": "code",
   "execution_count": 14,
   "metadata": {},
   "outputs": [],
   "source": [
    "sequences = t.texts_to_sequences(dataset.articleBody + ' ' + dataset.Headline)"
   ]
  },
  {
   "cell_type": "markdown",
   "metadata": {
    "colab_type": "text",
    "id": "omptHX-JpBsN"
   },
   "source": [
    "#### fit_on_texts() gives the following attributes in the output as given [here](https://faroit.github.io/keras-docs/1.2.2/preprocessing/text/).\n",
    "\n",
    "* **word_counts:** dictionary mapping words (str) to the number of times they appeared on during fit. Only set after fit_on_texts was called.\n",
    "\n",
    "* **word_docs:** dictionary mapping words (str) to the number of documents/texts they appeared on during fit. Only set after fit_on_texts was called.\n",
    "\n",
    "* **word_index:** dictionary mapping words (str) to their rank/index (int). Only set after fit_on_texts was called.\n",
    "\n",
    "* **document_count:** int. Number of documents (texts/sequences) the tokenizer was trained on. Only set after fit_on_texts or fit_on_sequences was called.\n",
    "\n"
   ]
  },
  {
   "cell_type": "markdown",
   "metadata": {
    "colab_type": "text",
    "id": "SHnsT2sTtFAA"
   },
   "source": [
    "### Now, tokenize the sentences using nltk sent_tokenize() and encode the senteces with the ids we got form the above `t.word_index`\n",
    "\n",
    "Initialise 2 lists with names `texts` and `articles`.\n",
    "\n",
    "```\n",
    "texts = [] to store text of article as it is.\n",
    "\n",
    "articles = [] split the above text into a list of sentences.\n",
    "```"
   ]
  },
  {
   "cell_type": "code",
   "execution_count": 15,
   "metadata": {
    "colab": {},
    "colab_type": "code",
    "id": "ctEu-d4c4EZs"
   },
   "outputs": [],
   "source": [
    "texts = []\n",
    "articles = []"
   ]
  },
  {
   "cell_type": "code",
   "execution_count": 16,
   "metadata": {},
   "outputs": [],
   "source": [
    "from nltk.tokenize import sent_tokenize"
   ]
  },
  {
   "cell_type": "code",
   "execution_count": 17,
   "metadata": {},
   "outputs": [],
   "source": [
    "for i in range(len(dataset.articleBody)):\n",
    "    texts.append(dataset.articleBody[i])\n",
    "    articles.append(sent_tokenize(dataset.articleBody[i]))"
   ]
  },
  {
   "cell_type": "markdown",
   "metadata": {
    "colab_type": "text",
    "id": "koTVJjoO6P78"
   },
   "source": [
    "## Check 2:\n",
    "\n",
    "first element of texts and articles should be as given below. "
   ]
  },
  {
   "cell_type": "code",
   "execution_count": 18,
   "metadata": {
    "colab": {
     "base_uri": "https://localhost:8080/",
     "height": 54
    },
    "colab_type": "code",
    "id": "3mWBW99p5UW9",
    "outputId": "b335efb0-44e3-4ad8-b82b-628625451cce"
   },
   "outputs": [
    {
     "data": {
      "text/plain": [
       "'A small meteorite crashed into a wooded area in Nicaragua\\'s capital of Managua overnight, the government said Sunday. Residents reported hearing a mysterious boom that left a 16-foot deep crater near the city\\'s airport, the Associated Press reports. \\n\\nGovernment spokeswoman Rosario Murillo said a committee formed by the government to study the event determined it was a \"relatively small\" meteorite that \"appears to have come off an asteroid that was passing close to Earth.\" House-sized asteroid 2014 RC, which measured 60 feet in diameter, skimmed the Earth this weekend, ABC News reports. \\nMurillo said Nicaragua will ask international experts to help local scientists in understanding what happened.\\n\\nThe crater left by the meteorite had a radius of 39 feet and a depth of 16 feet,  said Humberto Saballos, a volcanologist with the Nicaraguan Institute of Territorial Studies who was on the committee. He said it is still not clear if the meteorite disintegrated or was buried.\\n\\nHumberto Garcia, of the Astronomy Center at the National Autonomous University of Nicaragua, said the meteorite could be related to an asteroid that was forecast to pass by the planet Saturday night.\\n\\n\"We have to study it more because it could be ice or rock,\" he said.\\n\\nWilfried Strauch, an adviser to the Institute of Territorial Studies, said it was \"very strange that no one reported a streak of light. We have to ask if anyone has a photo or something.\"\\n\\nLocal residents reported hearing a loud boom Saturday night, but said they didn\\'t see anything strange in the sky.\\n\\n\"I was sitting on my porch and I saw nothing, then all of a sudden I heard a large blast. We thought it was a bomb because we felt an expansive wave,\" Jorge Santamaria told The Associated Press.\\n\\nThe site of the crater is near Managua\\'s international airport and an air force base. Only journalists from state media were allowed to visit it.'"
      ]
     },
     "execution_count": 18,
     "metadata": {},
     "output_type": "execute_result"
    }
   ],
   "source": [
    "texts[0]"
   ]
  },
  {
   "cell_type": "code",
   "execution_count": 19,
   "metadata": {
    "colab": {
     "base_uri": "https://localhost:8080/",
     "height": 309
    },
    "colab_type": "code",
    "id": "WtIjO3ht5EKA",
    "outputId": "9d3db104-1085-49e9-c245-7e9e92b4f60c"
   },
   "outputs": [
    {
     "data": {
      "text/plain": [
       "[\"A small meteorite crashed into a wooded area in Nicaragua's capital of Managua overnight, the government said Sunday.\",\n",
       " \"Residents reported hearing a mysterious boom that left a 16-foot deep crater near the city's airport, the Associated Press reports.\",\n",
       " 'Government spokeswoman Rosario Murillo said a committee formed by the government to study the event determined it was a \"relatively small\" meteorite that \"appears to have come off an asteroid that was passing close to Earth.\"',\n",
       " 'House-sized asteroid 2014 RC, which measured 60 feet in diameter, skimmed the Earth this weekend, ABC News reports.',\n",
       " 'Murillo said Nicaragua will ask international experts to help local scientists in understanding what happened.',\n",
       " 'The crater left by the meteorite had a radius of 39 feet and a depth of 16 feet,  said Humberto Saballos, a volcanologist with the Nicaraguan Institute of Territorial Studies who was on the committee.',\n",
       " 'He said it is still not clear if the meteorite disintegrated or was buried.',\n",
       " 'Humberto Garcia, of the Astronomy Center at the National Autonomous University of Nicaragua, said the meteorite could be related to an asteroid that was forecast to pass by the planet Saturday night.',\n",
       " '\"We have to study it more because it could be ice or rock,\" he said.',\n",
       " 'Wilfried Strauch, an adviser to the Institute of Territorial Studies, said it was \"very strange that no one reported a streak of light.',\n",
       " 'We have to ask if anyone has a photo or something.\"',\n",
       " \"Local residents reported hearing a loud boom Saturday night, but said they didn't see anything strange in the sky.\",\n",
       " '\"I was sitting on my porch and I saw nothing, then all of a sudden I heard a large blast.',\n",
       " 'We thought it was a bomb because we felt an expansive wave,\" Jorge Santamaria told The Associated Press.',\n",
       " \"The site of the crater is near Managua's international airport and an air force base.\",\n",
       " 'Only journalists from state media were allowed to visit it.']"
      ]
     },
     "execution_count": 19,
     "metadata": {},
     "output_type": "execute_result"
    }
   ],
   "source": [
    "articles[0]"
   ]
  },
  {
   "cell_type": "markdown",
   "metadata": {
    "colab_type": "text",
    "id": "fpuRIA7cCfcY"
   },
   "source": [
    "# Now iterate through each article and each sentence to encode the words into ids using t.word_index  [5 marks] \n",
    "\n",
    "Here, to get words from sentence you can use `text_to_word_sequence` from keras preprocessing text.\n",
    "\n",
    "1. Import text_to_word_sequence\n",
    "\n",
    "2. Initialize a variable of shape (no.of articles, MAX_SENTS, MAX_SENT_LENGTH) with name `data` with zeros first (you can use numpy [np.zeros](https://docs.scipy.org/doc/numpy/reference/generated/numpy.zeros.html) to initialize with all zeros)and then update it while iterating through the words and sentences in each article."
   ]
  },
  {
   "cell_type": "code",
   "execution_count": 20,
   "metadata": {
    "colab": {},
    "colab_type": "code",
    "id": "YVyClBULCqWj"
   },
   "outputs": [],
   "source": [
    "from keras.preprocessing.text import text_to_word_sequence"
   ]
  },
  {
   "cell_type": "code",
   "execution_count": 21,
   "metadata": {},
   "outputs": [
    {
     "data": {
      "text/plain": [
       "(49972, 20, 20)"
      ]
     },
     "execution_count": 21,
     "metadata": {},
     "output_type": "execute_result"
    }
   ],
   "source": [
    "NO_OF_ARTICLES = len(dataset)\n",
    "data = np.zeros((NO_OF_ARTICLES, MAX_SENTS, MAX_SENT_LENGTH), dtype=int)\n",
    "data.shape"
   ]
  },
  {
   "cell_type": "code",
   "execution_count": 22,
   "metadata": {
    "scrolled": false
   },
   "outputs": [],
   "source": [
    "for i in range(NO_OF_ARTICLES):\n",
    "    article = articles[i]\n",
    "    sent_len = len(article)\n",
    "    for j in range(sent_len):\n",
    "        if j >= MAX_SENT_LENGTH:\n",
    "            break\n",
    "        sent = article[j]\n",
    "        words = text_to_word_sequence(sent)\n",
    "        for k in range(len(words)):\n",
    "            if k < MAX_SENTS:\n",
    "                data[i,j,k] = int(t.word_index[words[k]])\n",
    "            else:\n",
    "                break"
   ]
  },
  {
   "cell_type": "markdown",
   "metadata": {
    "colab_type": "text",
    "id": "bFdmiDYcE144"
   },
   "source": [
    "### Check 3:\n",
    "\n",
    "Accessing first element in data should give something like given below."
   ]
  },
  {
   "cell_type": "code",
   "execution_count": 23,
   "metadata": {
    "colab": {
     "base_uri": "https://localhost:8080/",
     "height": 1037
    },
    "colab_type": "code",
    "id": "TsFWW5C2Djog",
    "outputId": "ec1daf8f-1e56-4e3d-b6e3-b40a06c406b3",
    "scrolled": true
   },
   "outputs": [
    {
     "data": {
      "text/plain": [
       "array([[    3,   481,   427,  7211,    81,     3,  3733,   331,     5,\n",
       "         3891,   350,     4,  1431,  2958,     1,    89,    12,   464,\n",
       "            0,     0],\n",
       "       [  758,    95,  1047,     3,  2679,  1752,     7,   189,     3,\n",
       "         1217,  1075,  2030,   700,   159,     1,  3032,   448,     1,\n",
       "          555,   235],\n",
       "       [   89,  1067,  4115,  2349,    12,     3,  1092,  3306,    19,\n",
       "            1,    89,     2,  1793,     1,   521,  2009,    15,     9,\n",
       "            3,  3111],\n",
       "       [  181,  3640,   972,   200,  2556,    44,  6775,  1722,  1252,\n",
       "            5, 13317, 17936,     1,   778,    31,   740,  3990,    67,\n",
       "           85,     0],\n",
       "       [ 2349,    12,  1557,    38,  1094,   351,   775,     2,   367,\n",
       "          260,  1770,     5,  4450,    70,   494,     0,     0,     0,\n",
       "            0,     0],\n",
       "       [    1,   700,   189,    19,     1,   427,    32,     3,  7417,\n",
       "            4,  2159,  1252,     6,     3,  5270,     4,  1217,  1252,\n",
       "           12,  3363],\n",
       "       [   13,    12,    15,     8,   149,    25,   543,    64,     1,\n",
       "          427,  3727,    41,     9,  1850,     0,     0,     0,     0,\n",
       "            0,     0],\n",
       "       [ 3363,  5733,     4,     1,  5875,   614,    21,     1,   311,\n",
       "         3438,   794,     4,  1557,    12,     1,   427,    69,    23,\n",
       "          787,     2],\n",
       "       [   37,    17,     2,  1793,    15,    52,   120,    15,    69,\n",
       "           23,  4921,    41,  1963,    13,    12,     0,     0,     0,\n",
       "            0,     0],\n",
       "       [ 4736,  3338,    24,  3969,     2,     1,  1316,     4,  3072,\n",
       "         1653,    12,    15,     9,   195,  1420,     7,    58,    40,\n",
       "           95,     3],\n",
       "       [   37,    17,     2,  1094,    64,   510,    20,     3,   250,\n",
       "           41,   264,     0,     0,     0,     0,     0,     0,     0,\n",
       "            0,     0],\n",
       "       [  260,   758,    95,  1047,     3,  1806,  1752,   531,   276,\n",
       "           29,    12,    33,   703,   163,   892,  1420,     5,     1,\n",
       "         2081,     0],\n",
       "       [   35,     9,  2057,    10,   116,  5825,     6,    35,   576,\n",
       "          656,   104,    59,     4,     3,  2410,    35,   241,     3,\n",
       "          512,  1911],\n",
       "       [   37,   341,    15,     9,     3,  2082,   120,    37,   881,\n",
       "           24,  4451,  2584,  4315,  4922,    55,     1,   555,   235,\n",
       "            0,     0],\n",
       "       [    1,   255,     4,     1,   700,     8,   159,  3961,   351,\n",
       "          448,     6,    24,   155,   465,  1929,     0,     0,     0,\n",
       "            0,     0],\n",
       "       [  126,   921,    22,    47,   100,    36,  1833,     2,  1212,\n",
       "           15,     0,     0,     0,     0,     0,     0,     0,     0,\n",
       "            0,     0],\n",
       "       [    0,     0,     0,     0,     0,     0,     0,     0,     0,\n",
       "            0,     0,     0,     0,     0,     0,     0,     0,     0,\n",
       "            0,     0],\n",
       "       [    0,     0,     0,     0,     0,     0,     0,     0,     0,\n",
       "            0,     0,     0,     0,     0,     0,     0,     0,     0,\n",
       "            0,     0],\n",
       "       [    0,     0,     0,     0,     0,     0,     0,     0,     0,\n",
       "            0,     0,     0,     0,     0,     0,     0,     0,     0,\n",
       "            0,     0],\n",
       "       [    0,     0,     0,     0,     0,     0,     0,     0,     0,\n",
       "            0,     0,     0,     0,     0,     0,     0,     0,     0,\n",
       "            0,     0]])"
      ]
     },
     "execution_count": 23,
     "metadata": {},
     "output_type": "execute_result"
    }
   ],
   "source": [
    "data[0, :, :]"
   ]
  },
  {
   "cell_type": "markdown",
   "metadata": {
    "colab_type": "text",
    "id": "hTG6JySHehkT"
   },
   "source": [
    "# Repeat the same process for the `Headings` as well. Use variables with names `texts_heading` and `articles_heading` accordingly. [5 marks] "
   ]
  },
  {
   "cell_type": "code",
   "execution_count": 23,
   "metadata": {
    "colab": {},
    "colab_type": "code",
    "id": "_CliiIhLemJV"
   },
   "outputs": [],
   "source": [
    "texts_heading = []\n",
    "articles_heading  = []\n",
    "\n",
    "for i in range(len(dataset.Headline)):\n",
    "    texts_heading.append(dataset.Headline[i])\n",
    "    articles_heading.append(sent_tokenize(dataset.Headline[i]))"
   ]
  },
  {
   "cell_type": "code",
   "execution_count": 25,
   "metadata": {},
   "outputs": [
    {
     "data": {
      "text/plain": [
       "(49972, 20, 20)"
      ]
     },
     "execution_count": 25,
     "metadata": {},
     "output_type": "execute_result"
    }
   ],
   "source": [
    "data_heading = np.zeros((NO_OF_ARTICLES, MAX_SENTS, MAX_SENT_LENGTH), dtype=int)\n",
    "data_heading.shape"
   ]
  },
  {
   "cell_type": "code",
   "execution_count": 26,
   "metadata": {},
   "outputs": [],
   "source": [
    "for i in range(NO_OF_ARTICLES):\n",
    "    article = articles_heading[i]\n",
    "    sent_len = len(article)\n",
    "    for j in range(sent_len):\n",
    "        if j >= MAX_SENT_LENGTH:\n",
    "            break\n",
    "        sent = article[j]\n",
    "        words = text_to_word_sequence(sent)\n",
    "        for k in range(len(words)):\n",
    "            if k < MAX_SENTS:\n",
    "                data_heading[i,j,k] = int(t.word_index[words[k]])\n",
    "            else:\n",
    "                break"
   ]
  },
  {
   "cell_type": "markdown",
   "metadata": {
    "colab_type": "text",
    "id": "iaH0Ey1qe_Co"
   },
   "source": [
    "### Now the features are ready, lets make the labels ready for the model to process.\n",
    "\n",
    "### Convert labels into one-hot vectors\n",
    "\n",
    "You can use [get_dummies](https://pandas.pydata.org/pandas-docs/stable/generated/pandas.get_dummies.html) in pandas to create one-hot vectors."
   ]
  },
  {
   "cell_type": "code",
   "execution_count": 27,
   "metadata": {},
   "outputs": [
    {
     "data": {
      "text/plain": [
       "array(['agree', 'disagree', 'discuss', 'unrelated'], dtype=object)"
      ]
     },
     "execution_count": 27,
     "metadata": {},
     "output_type": "execute_result"
    }
   ],
   "source": [
    "np.unique(dataset.Stance)"
   ]
  },
  {
   "cell_type": "code",
   "execution_count": 28,
   "metadata": {
    "colab": {},
    "colab_type": "code",
    "id": "Zq-VcgM8fat1"
   },
   "outputs": [],
   "source": [
    "labels = pd.get_dummies(dataset.Stance)"
   ]
  },
  {
   "cell_type": "markdown",
   "metadata": {
    "colab_type": "text",
    "id": "40mA8FI2fcxZ"
   },
   "source": [
    "### Check 4:\n",
    "\n",
    "The shape of data and labels shoould match the given below numbers."
   ]
  },
  {
   "cell_type": "code",
   "execution_count": 29,
   "metadata": {
    "colab": {
     "base_uri": "https://localhost:8080/",
     "height": 51
    },
    "colab_type": "code",
    "id": "vpEWEnjFfnFR",
    "outputId": "312006c9-6dff-4704-978e-d08131b483c4"
   },
   "outputs": [
    {
     "name": "stdout",
     "output_type": "stream",
     "text": [
      "Shape of data tensor: (49972, 20, 20)\n",
      "Shape of data heading tensor: (49972, 20, 20)\n",
      "Shape of label tensor: (49972, 4)\n"
     ]
    }
   ],
   "source": [
    "print('Shape of data tensor:', data.shape)\n",
    "print('Shape of data heading tensor:', data_heading.shape)\n",
    "print('Shape of label tensor:', labels.shape)"
   ]
  },
  {
   "cell_type": "markdown",
   "metadata": {
    "colab_type": "text",
    "id": "sDOxHdR3frDu"
   },
   "source": [
    "### Shuffle the data"
   ]
  },
  {
   "cell_type": "code",
   "execution_count": 31,
   "metadata": {
    "colab": {},
    "colab_type": "code",
    "id": "-Ra-yYTvfzRt"
   },
   "outputs": [],
   "source": [
    "## get numbers upto no.of articles\n",
    "indices = np.arange(data.shape[0])\n",
    "## shuffle the numbers\n",
    "np.random.shuffle(indices)"
   ]
  },
  {
   "cell_type": "code",
   "execution_count": 32,
   "metadata": {
    "colab": {},
    "colab_type": "code",
    "id": "LKnSqwIFf3Iy",
    "scrolled": true
   },
   "outputs": [],
   "source": [
    "## shuffle the data\n",
    "data = data[indices]\n",
    "data_heading = data_heading[indices]\n",
    "## shuffle the labels according to data\n",
    "labels = labels.values[indices]"
   ]
  },
  {
   "cell_type": "code",
   "execution_count": 33,
   "metadata": {},
   "outputs": [
    {
     "data": {
      "text/plain": [
       "array([0, 0, 0, 1], dtype=uint8)"
      ]
     },
     "execution_count": 33,
     "metadata": {},
     "output_type": "execute_result"
    }
   ],
   "source": [
    "labels[0]"
   ]
  },
  {
   "cell_type": "markdown",
   "metadata": {
    "colab_type": "text",
    "id": "JcOFVfPBf9kA"
   },
   "source": [
    "### Split into train and validation sets. Split the train set 80:20 ratio to get the train and validation sets.\n",
    "\n",
    "\n",
    "Use the variable names as given below:\n",
    "\n",
    "x_train, x_val - for body of articles.\n",
    "\n",
    "x-heading_train, x_heading_val - for heading of articles.\n",
    "\n",
    "y_train - for training labels.\n",
    "\n",
    "y_val - for validation labels.\n",
    "\n"
   ]
  },
  {
   "cell_type": "code",
   "execution_count": 34,
   "metadata": {
    "colab": {},
    "colab_type": "code",
    "id": "2neh9Wcof8iR"
   },
   "outputs": [],
   "source": [
    "x_train = data[0:39978]\n",
    "x_val = data[39978:]\n",
    "\n",
    "x_heading_train = data_heading[0:39978]\n",
    "x_heading_val = data_heading[39978:]\n",
    "\n",
    "y_train = labels[0:39978]\n",
    "y_val = labels[39978:]"
   ]
  },
  {
   "cell_type": "markdown",
   "metadata": {
    "colab_type": "text",
    "id": "UTyvoHrsgMDw"
   },
   "source": [
    "### Check 5:\n",
    "\n",
    "The shape of x_train, x_val, y_train and y_val should match the below numbers."
   ]
  },
  {
   "cell_type": "code",
   "execution_count": 35,
   "metadata": {
    "colab": {
     "base_uri": "https://localhost:8080/",
     "height": 85
    },
    "colab_type": "code",
    "id": "KLEbiw2Yghe2",
    "outputId": "e2390c42-fcda-4165-ae0e-52bd515d8b1d"
   },
   "outputs": [
    {
     "name": "stdout",
     "output_type": "stream",
     "text": [
      "(39978, 20, 20)\n",
      "(39978, 4)\n",
      "(9994, 20, 20)\n",
      "(9994, 4)\n"
     ]
    }
   ],
   "source": [
    "print(x_train.shape)\n",
    "print(y_train.shape)\n",
    "\n",
    "print(x_val.shape)\n",
    "print(y_val.shape)"
   ]
  },
  {
   "cell_type": "markdown",
   "metadata": {
    "colab_type": "text",
    "id": "yNnoBtArhJ1E"
   },
   "source": [
    "### Create embedding matrix with the glove embeddings\n",
    "\n",
    "\n",
    "Run the below code to create embedding_matrix which has all the words and their glove embedding if present in glove word list."
   ]
  },
  {
   "cell_type": "code",
   "execution_count": 36,
   "metadata": {
    "colab": {
     "base_uri": "https://localhost:8080/",
     "height": 34
    },
    "colab_type": "code",
    "id": "eKqn2IL2ZF8v",
    "outputId": "076e80d8-5a98-434e-eb51-a5f02f532c7c"
   },
   "outputs": [
    {
     "name": "stdout",
     "output_type": "stream",
     "text": [
      "Loaded 140205 word vectors.\n"
     ]
    }
   ],
   "source": [
    "# load the whole embedding into memory\n",
    "embeddings_index = dict()\n",
    "f = open('glove.6B.100d.txt', encoding=\"utf8\")\n",
    "for line in f:\n",
    "    values = line.split()\n",
    "    word = values[0]\n",
    "    coefs = np.asarray(values[1:], dtype='float32')\n",
    "    embeddings_index[word] = coefs\n",
    "f.close()\n",
    "print('Loaded %s word vectors.' % len(embeddings_index))\n",
    "\n",
    "word_index = t.word_index\n",
    "# create a weight matrix for words in training docs"
   ]
  },
  {
   "cell_type": "code",
   "execution_count": 37,
   "metadata": {},
   "outputs": [],
   "source": [
    "num_words = min(MAX_NB_WORDS, len(word_index)) + 1\n",
    "embedding_matrix = np.zeros((num_words, EMBEDDING_DIM))\n",
    "\n",
    "for word, i in t.word_index.items():\n",
    "    if i > MAX_NB_WORDS:\n",
    "        continue\n",
    "    embedding_vector = embeddings_index.get(word)\n",
    "    if embedding_vector is not None:\n",
    "        embedding_matrix[i] = embedding_vector"
   ]
  },
  {
   "cell_type": "markdown",
   "metadata": {
    "colab_type": "text",
    "id": "LRi4o3ZspDFU"
   },
   "source": [
    "# Try the sequential model approach and report the accuracy score. [10 marks]  "
   ]
  },
  {
   "cell_type": "markdown",
   "metadata": {
    "colab_type": "text",
    "id": "zSZDnPWkw2ZZ"
   },
   "source": [
    "### Import layers from Keras to build the model"
   ]
  },
  {
   "cell_type": "code",
   "execution_count": 43,
   "metadata": {
    "colab": {},
    "colab_type": "code",
    "id": "5AgwQsfMrzAQ"
   },
   "outputs": [],
   "source": [
    "from keras.models import Sequential\n",
    "from keras.layers import GlobalMaxPooling1D,Dense, LSTM, Input,Embedding,Conv1D,MaxPooling1D\n",
    "from keras.models import Model"
   ]
  },
  {
   "cell_type": "code",
   "execution_count": 40,
   "metadata": {},
   "outputs": [],
   "source": [
    "from keras.preprocessing.sequence import pad_sequences\n",
    "\n",
    "data = pad_sequences(sequences, maxlen=MAX_SEQUENCE_LENGTH)\n",
    "\n",
    "indices = np.arange(data.shape[0])\n",
    "np.random.shuffle(indices)\n",
    "data = data[indices]\n",
    "num_validation_samples = int(VALIDATION_SPLIT * data.shape[0])"
   ]
  },
  {
   "cell_type": "code",
   "execution_count": 41,
   "metadata": {},
   "outputs": [],
   "source": [
    "x_train = data[:-num_validation_samples]\n",
    "x_val = data[-num_validation_samples:]"
   ]
  },
  {
   "cell_type": "markdown",
   "metadata": {
    "colab_type": "text",
    "id": "gpkVhIbx3gr1"
   },
   "source": [
    "### Model"
   ]
  },
  {
   "cell_type": "code",
   "execution_count": 44,
   "metadata": {
    "colab": {},
    "colab_type": "code",
    "id": "G_8QXh-rmPFq"
   },
   "outputs": [],
   "source": [
    "from keras.initializers import Constant\n",
    "\n",
    "embedding_layer = Embedding(num_words,\n",
    "                            EMBEDDING_DIM,\n",
    "                            embeddings_initializer=Constant(embedding_matrix),\n",
    "                            input_length=1000,\n",
    "                            trainable=False)"
   ]
  },
  {
   "cell_type": "code",
   "execution_count": 45,
   "metadata": {},
   "outputs": [],
   "source": [
    "sequence_input = Input(shape=(1000,), dtype='int32')\n",
    "embedded_sequences = embedding_layer(sequence_input)\n",
    "x = Conv1D(128, 5, activation='relu')(embedded_sequences)\n",
    "x = MaxPooling1D(5)(x)\n",
    "x = Conv1D(128, 5, activation='relu')(x)\n",
    "x = MaxPooling1D(5)(x)\n",
    "x = Conv1D(128, 5, activation='relu')(x)\n",
    "x = GlobalMaxPooling1D()(x)\n",
    "x = Dense(128, activation='relu')(x)\n",
    "preds = Dense(4, activation='softmax')(x)\n",
    "\n",
    "model = Model(sequence_input, preds)\n",
    "model.compile(loss='categorical_crossentropy',\n",
    "              optimizer='rmsprop',\n",
    "              metrics=['acc'])"
   ]
  },
  {
   "cell_type": "markdown",
   "metadata": {
    "colab_type": "text",
    "id": "C5Xrd-JQ3id7"
   },
   "source": [
    "### Compile and fit the model"
   ]
  },
  {
   "cell_type": "code",
   "execution_count": 46,
   "metadata": {
    "colab": {},
    "colab_type": "code",
    "id": "CM3yCmjQoCM3",
    "scrolled": true
   },
   "outputs": [
    {
     "name": "stdout",
     "output_type": "stream",
     "text": [
      "_________________________________________________________________\n",
      "Layer (type)                 Output Shape              Param #   \n",
      "=================================================================\n",
      "input_1 (InputLayer)         (None, 1000)              0         \n",
      "_________________________________________________________________\n",
      "embedding_1 (Embedding)      (None, 1000, 100)         2000100   \n",
      "_________________________________________________________________\n",
      "conv1d_1 (Conv1D)            (None, 996, 128)          64128     \n",
      "_________________________________________________________________\n",
      "max_pooling1d_1 (MaxPooling1 (None, 199, 128)          0         \n",
      "_________________________________________________________________\n",
      "conv1d_2 (Conv1D)            (None, 195, 128)          82048     \n",
      "_________________________________________________________________\n",
      "max_pooling1d_2 (MaxPooling1 (None, 39, 128)           0         \n",
      "_________________________________________________________________\n",
      "conv1d_3 (Conv1D)            (None, 35, 128)           82048     \n",
      "_________________________________________________________________\n",
      "global_max_pooling1d_1 (Glob (None, 128)               0         \n",
      "_________________________________________________________________\n",
      "dense_1 (Dense)              (None, 128)               16512     \n",
      "_________________________________________________________________\n",
      "dense_2 (Dense)              (None, 4)                 516       \n",
      "=================================================================\n",
      "Total params: 2,245,352\n",
      "Trainable params: 245,252\n",
      "Non-trainable params: 2,000,100\n",
      "_________________________________________________________________\n"
     ]
    }
   ],
   "source": [
    "model.summary()"
   ]
  },
  {
   "cell_type": "code",
   "execution_count": 115,
   "metadata": {
    "scrolled": true
   },
   "outputs": [
    {
     "name": "stdout",
     "output_type": "stream",
     "text": [
      "Train on 39978 samples, validate on 9994 samples\n",
      "Epoch 1/10\n",
      "39978/39978 [==============================] - 358s 9ms/step - loss: 0.8266 - acc: 0.7322 - val_loss: 0.8201 - val_acc: 0.7264\n",
      "Epoch 2/10\n",
      "39978/39978 [==============================] - 331s 8ms/step - loss: 0.8022 - acc: 0.7325 - val_loss: 0.8232 - val_acc: 0.7264\n",
      "Epoch 3/10\n",
      "39978/39978 [==============================] - 328s 8ms/step - loss: 0.7994 - acc: 0.7325 - val_loss: 0.8120 - val_acc: 0.7264\n",
      "Epoch 4/10\n",
      "39978/39978 [==============================] - 307s 8ms/step - loss: 0.7966 - acc: 0.7325 - val_loss: 0.8118 - val_acc: 0.7264\n",
      "Epoch 5/10\n",
      "39978/39978 [==============================] - 286s 7ms/step - loss: 0.7940 - acc: 0.7325 - val_loss: 0.8138 - val_acc: 0.7264\n",
      "Epoch 6/10\n",
      "39978/39978 [==============================] - 286s 7ms/step - loss: 0.7900 - acc: 0.7325 - val_loss: 0.8106 - val_acc: 0.7264\n",
      "Epoch 7/10\n",
      "39978/39978 [==============================] - 286s 7ms/step - loss: 0.7857 - acc: 0.7325 - val_loss: 0.8217 - val_acc: 0.7264\n",
      "Epoch 8/10\n",
      "39978/39978 [==============================] - 286s 7ms/step - loss: 0.7801 - acc: 0.7325 - val_loss: 0.8284 - val_acc: 0.7264\n",
      "Epoch 9/10\n",
      "39978/39978 [==============================] - 286s 7ms/step - loss: 0.7733 - acc: 0.7326 - val_loss: 0.8444 - val_acc: 0.7261\n",
      "Epoch 10/10\n",
      "39978/39978 [==============================] - 286s 7ms/step - loss: 0.7660 - acc: 0.7325 - val_loss: 0.8636 - val_acc: 0.7264\n"
     ]
    },
    {
     "data": {
      "text/plain": [
       "<keras.callbacks.History at 0x2960ea17278>"
      ]
     },
     "execution_count": 115,
     "metadata": {},
     "output_type": "execute_result"
    }
   ],
   "source": [
    "model.fit(x_train, y_train,\n",
    "          batch_size=128,\n",
    "          epochs=10,\n",
    "          validation_data=(x_val, y_val))"
   ]
  },
  {
   "cell_type": "markdown",
   "metadata": {},
   "source": [
    "#### Model Accuracy is 73% "
   ]
  },
  {
   "cell_type": "markdown",
   "metadata": {
    "colab_type": "text",
    "id": "R47A6Ysfev3l"
   },
   "source": [
    "## Build the same model with attention layers included for better performance (Optional)"
   ]
  },
  {
   "cell_type": "code",
   "execution_count": 0,
   "metadata": {
    "colab": {},
    "colab_type": "code",
    "id": "wivJ-eVkfEOm"
   },
   "outputs": [],
   "source": []
  },
  {
   "cell_type": "markdown",
   "metadata": {
    "colab_type": "text",
    "id": "olqo5ytRe7eq"
   },
   "source": [
    "## Fit the model and report the accuracy score for the model with attention layer (Optional)"
   ]
  },
  {
   "cell_type": "code",
   "execution_count": 0,
   "metadata": {
    "colab": {},
    "colab_type": "code",
    "id": "1zgxPrhzfBkv"
   },
   "outputs": [],
   "source": []
  }
 ],
 "metadata": {
  "accelerator": "GPU",
  "colab": {
   "collapsed_sections": [],
   "name": "Stance_Detection_for_the_Fake_News_Challenge_Questions.ipynb",
   "provenance": [],
   "version": "0.3.2"
  },
  "kernelspec": {
   "display_name": "Python 3",
   "language": "python",
   "name": "python3"
  },
  "language_info": {
   "codemirror_mode": {
    "name": "ipython",
    "version": 3
   },
   "file_extension": ".py",
   "mimetype": "text/x-python",
   "name": "python",
   "nbconvert_exporter": "python",
   "pygments_lexer": "ipython3",
   "version": "3.6.5"
  }
 },
 "nbformat": 4,
 "nbformat_minor": 1
}
