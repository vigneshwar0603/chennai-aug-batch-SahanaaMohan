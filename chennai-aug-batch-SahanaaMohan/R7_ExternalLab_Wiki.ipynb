{
 "cells": [
  {
   "cell_type": "markdown",
   "metadata": {
    "colab_type": "text",
    "id": "4WH1Pr4KQlCh"
   },
   "source": [
    "### Build a DNN using Keras with `RELU` and `ADAM`"
   ]
  },
  {
   "cell_type": "markdown",
   "metadata": {
    "colab_type": "text",
    "id": "TbvI8LqlQlCl",
    "slideshow": {
     "slide_type": "slide"
    }
   },
   "source": [
    "#### Load tensorflow"
   ]
  },
  {
   "cell_type": "code",
   "execution_count": 1,
   "metadata": {
    "colab": {},
    "colab_type": "code",
    "id": "SPW-a-qYQlCp"
   },
   "outputs": [
    {
     "name": "stderr",
     "output_type": "stream",
     "text": [
      "Using TensorFlow backend.\n"
     ]
    }
   ],
   "source": [
    "import keras"
   ]
  },
  {
   "cell_type": "markdown",
   "metadata": {
    "colab_type": "text",
    "id": "74cQBsi5QlCw",
    "slideshow": {
     "slide_type": "slide"
    }
   },
   "source": [
    "#### Collect Fashion mnist data from tf.keras.datasets "
   ]
  },
  {
   "cell_type": "code",
   "execution_count": 2,
   "metadata": {
    "colab": {},
    "colab_type": "code",
    "id": "8H4gOaeJQlCx"
   },
   "outputs": [],
   "source": [
    "from keras.datasets import fashion_mnist"
   ]
  },
  {
   "cell_type": "markdown",
   "metadata": {
    "colab_type": "text",
    "id": "no7aWYZyQlC1",
    "slideshow": {
     "slide_type": "slide"
    }
   },
   "source": [
    "#### Change train and test labels into one-hot vectors"
   ]
  },
  {
   "cell_type": "code",
   "execution_count": 3,
   "metadata": {
    "colab": {},
    "colab_type": "code",
    "id": "UX6otc4wQlC2"
   },
   "outputs": [],
   "source": [
    "(x_train, y_train), (x_test, y_test) = fashion_mnist.load_data()\n",
    "\n",
    "from keras.utils import np_utils\n",
    "\n",
    "y_train = np_utils.to_categorical(y_train, 10)\n",
    "y_test = np_utils.to_categorical(y_test, 10)"
   ]
  },
  {
   "cell_type": "markdown",
   "metadata": {
    "colab_type": "text",
    "id": "QjNrRTdoQlC5",
    "slideshow": {
     "slide_type": "slide"
    }
   },
   "source": [
    "#### Build the Graph"
   ]
  },
  {
   "cell_type": "markdown",
   "metadata": {
    "colab_type": "text",
    "id": "CDJ9DHVNQlC7"
   },
   "source": [
    "#### Initialize model, reshape & normalize data"
   ]
  },
  {
   "cell_type": "code",
   "execution_count": 4,
   "metadata": {
    "colab": {},
    "colab_type": "code",
    "id": "pCDQs_g1QlC8"
   },
   "outputs": [],
   "source": [
    "x_train = x_train.astype('float32')\n",
    "x_test = x_test.astype('float32')\n",
    "\n",
    "x_train /= 255\n",
    "x_test /= 255"
   ]
  },
  {
   "cell_type": "code",
   "execution_count": 5,
   "metadata": {},
   "outputs": [],
   "source": [
    "x_train = x_train.reshape(x_train.shape[0], 28, 28, 1).astype('float32')\n",
    "x_test = x_test.reshape(x_test.shape[0], 28, 28, 1).astype('float32')"
   ]
  },
  {
   "cell_type": "code",
   "execution_count": 6,
   "metadata": {},
   "outputs": [],
   "source": [
    "from keras.models import Sequential\n",
    "from keras.layers import Conv2D, MaxPool2D\n",
    "from keras.layers import Dense, Activation, Dropout, Flatten, Reshape\n",
    "\n",
    "# Define model\n",
    "model = Sequential()"
   ]
  },
  {
   "cell_type": "markdown",
   "metadata": {
    "colab_type": "text",
    "id": "kBGwTTilQlDD",
    "slideshow": {
     "slide_type": "slide"
    }
   },
   "source": [
    "#### Add two fully connected layers with 200 and 100 neurons respectively with `relu` activations. Add a dropout layer with `p=0.25`"
   ]
  },
  {
   "cell_type": "code",
   "execution_count": 7,
   "metadata": {
    "colab": {},
    "colab_type": "code",
    "id": "IXbfpfOzQlDF"
   },
   "outputs": [],
   "source": [
    "# 1st Conv Layer\n",
    "model.add(Conv2D(32, (3, 3), input_shape=(28, 28, 1)))\n",
    "model.add(Activation('relu'))\n",
    "\n",
    "# 2nd Conv Layer\n",
    "model.add(Conv2D(32, (3, 3)))\n",
    "model.add(Activation('relu'))\n",
    "\n",
    "# Fully Connected Layer\n",
    "model.add(Flatten())\n",
    "model.add(Dense(200))\n",
    "model.add(Dense(100))\n",
    "model.add(Activation('relu'))"
   ]
  },
  {
   "cell_type": "markdown",
   "metadata": {
    "colab_type": "text",
    "id": "5I8f5otcQlDJ"
   },
   "source": [
    "### Add the output layer with a fully connected layer with 10 neurons with `softmax` activation. Use `categorical_crossentropy` loss and `adam` optimizer and train the network. And, report the final validation."
   ]
  },
  {
   "cell_type": "code",
   "execution_count": 18,
   "metadata": {
    "colab": {},
    "colab_type": "code",
    "id": "E25kuP_NQlDM"
   },
   "outputs": [
    {
     "name": "stdout",
     "output_type": "stream",
     "text": [
      "Train on 60000 samples, validate on 10000 samples\n",
      "Epoch 1/10\n",
      "60000/60000 [==============================] - 252s 4ms/step - loss: 0.3777 - acc: 0.8629 - val_loss: 0.3055 - val_acc: 0.8936\n",
      "Epoch 2/10\n",
      "60000/60000 [==============================] - 244s 4ms/step - loss: 0.2390 - acc: 0.9113 - val_loss: 0.2609 - val_acc: 0.9054\n",
      "Epoch 3/10\n",
      "60000/60000 [==============================] - 242s 4ms/step - loss: 0.1825 - acc: 0.9319 - val_loss: 0.2562 - val_acc: 0.9098\n",
      "Epoch 4/10\n",
      "60000/60000 [==============================] - 236s 4ms/step - loss: 0.1375 - acc: 0.9489 - val_loss: 0.2822 - val_acc: 0.9116\n",
      "Epoch 5/10\n",
      "60000/60000 [==============================] - 232s 4ms/step - loss: 0.1013 - acc: 0.9626 - val_loss: 0.3657 - val_acc: 0.9061\n",
      "Epoch 6/10\n",
      "60000/60000 [==============================] - 232s 4ms/step - loss: 0.0790 - acc: 0.9705 - val_loss: 0.3397 - val_acc: 0.9105\n",
      "Epoch 7/10\n",
      "60000/60000 [==============================] - 234s 4ms/step - loss: 0.0619 - acc: 0.9771 - val_loss: 0.4160 - val_acc: 0.9050\n",
      "Epoch 8/10\n",
      "60000/60000 [==============================] - 236s 4ms/step - loss: 0.0514 - acc: 0.9815 - val_loss: 0.4359 - val_acc: 0.9088\n",
      "Epoch 9/10\n",
      "60000/60000 [==============================] - 237s 4ms/step - loss: 0.0439 - acc: 0.9845 - val_loss: 0.4529 - val_acc: 0.9086\n",
      "Epoch 00009: early stopping\n"
     ]
    },
    {
     "data": {
      "text/plain": [
       "<keras.callbacks.History at 0x2bdcc941c50>"
      ]
     },
     "execution_count": 18,
     "metadata": {},
     "output_type": "execute_result"
    }
   ],
   "source": [
    "# Output Layer\n",
    "model.add(Dense(10))\n",
    "model.add(Activation('softmax'))\n",
    "\n",
    "# Loss and Optimizer\n",
    "model.compile(loss='categorical_crossentropy', optimizer='adam', metrics=['accuracy'])\n",
    "    \n",
    "# Store Training Results\n",
    "early_stopping = keras.callbacks.EarlyStopping(monitor='val_acc', patience=5, verbose=1, mode='auto')\n",
    "callback_list = [early_stopping]\n",
    "\n",
    "# Train the model\n",
    "model.fit(x_train, y_train, batch_size=32, epochs=10,\n",
    "           validation_data=(x_test, y_test), callbacks=callback_list)"
   ]
  },
  {
   "cell_type": "markdown",
   "metadata": {},
   "source": [
    "### The final validation with test data gives 90% accuracy "
   ]
  },
  {
   "cell_type": "markdown",
   "metadata": {
    "colab_type": "text",
    "id": "vJl2GM7QQvs7"
   },
   "source": [
    "## Word Embeddings in Python with Gensim"
   ]
  },
  {
   "cell_type": "markdown",
   "metadata": {
    "colab_type": "text",
    "id": "9QoSmK_yQydL"
   },
   "source": [
    "In this, you will practice how to train and load word embedding models for natural language processing applications in Python using Gensim.\n"
   ]
  },
  {
   "cell_type": "markdown",
   "metadata": {
    "colab_type": "text",
    "id": "lqHUk1kBQ2Pl"
   },
   "source": [
    "1. How to train your own word2vec word embedding model on text data.\n",
    "2. How to visualize a trained word embedding model using Principal Component Analysis.\n",
    "3. How to load pre-trained word2vec word embedding models."
   ]
  },
  {
   "cell_type": "markdown",
   "metadata": {
    "colab_type": "text",
    "id": "x3EEkH5mQ6F0"
   },
   "source": [
    "### Run the below two commands to install gensim and the wiki dataset"
   ]
  },
  {
   "cell_type": "code",
   "execution_count": 8,
   "metadata": {
    "colab": {},
    "colab_type": "code",
    "id": "Z_dPUh8YQ6Yi"
   },
   "outputs": [],
   "source": [
    "#!pip install --upgrade gensim --user"
   ]
  },
  {
   "cell_type": "code",
   "execution_count": 9,
   "metadata": {
    "colab": {},
    "colab_type": "code",
    "id": "-9-xPiuTQ-nD"
   },
   "outputs": [],
   "source": [
    "#!pip install wikipedia --user"
   ]
  },
  {
   "cell_type": "markdown",
   "metadata": {
    "colab_type": "text",
    "id": "Te2mI1FHQ_I1"
   },
   "source": [
    "### Import gensim"
   ]
  },
  {
   "cell_type": "code",
   "execution_count": 10,
   "metadata": {
    "colab": {},
    "colab_type": "code",
    "id": "qQQwRUJ0RAlJ"
   },
   "outputs": [],
   "source": [
    "import gensim"
   ]
  },
  {
   "cell_type": "markdown",
   "metadata": {
    "colab_type": "text",
    "id": "5dXgBNlORBGP"
   },
   "source": [
    "### Obtain Text"
   ]
  },
  {
   "cell_type": "markdown",
   "metadata": {
    "colab_type": "text",
    "id": "xdnvuDLCRDO4"
   },
   "source": [
    "Import search and page functions from wikipedia module\n",
    "search(/key word/): search function takes keyword as argument and gives top 10 article titles matching the given keyword.\n",
    "\n",
    "page(/title of article/): page function takes page title as argument and gives content in the output."
   ]
  },
  {
   "cell_type": "code",
   "execution_count": 15,
   "metadata": {
    "colab": {},
    "colab_type": "code",
    "id": "VgB7SX-TRHNT"
   },
   "outputs": [],
   "source": [
    "## Usage: \n",
    "\n",
    "#from wikipedia import search, page\n",
    "#titles = search(\"Machine Learning\")\n",
    "#wikipage = page(titles[0])\n",
    "#print(wikipage.content)"
   ]
  },
  {
   "cell_type": "markdown",
   "metadata": {
    "colab_type": "text",
    "id": "q54h4vNaRJXe"
   },
   "source": [
    "### Print the top 10 titles for the keyword `Machine Learning`"
   ]
  },
  {
   "cell_type": "code",
   "execution_count": 16,
   "metadata": {
    "colab": {},
    "colab_type": "code",
    "id": "yuyLmsnsRK6f"
   },
   "outputs": [
    {
     "name": "stdout",
     "output_type": "stream",
     "text": [
      "10\n",
      "Machine learning\n",
      "Active learning (machine learning)\n",
      "Boosting (machine learning)\n",
      "List of datasets for machine learning research\n",
      "Deep learning\n",
      "Support-vector machine\n",
      "Outline of machine learning\n",
      "Adversarial machine learning\n",
      "Weka (machine learning)\n",
      "Learning\n"
     ]
    }
   ],
   "source": [
    "from wikipedia import search, page\n",
    "titles = search(\"Machine Learning\")\n",
    "print(len(titles))\n",
    "for title in titles:\n",
    "    print(title)"
   ]
  },
  {
   "cell_type": "markdown",
   "metadata": {
    "colab_type": "text",
    "id": "a3faXGqLRQx1"
   },
   "source": [
    "### Get the content from the first title from the above obtained 10 titles."
   ]
  },
  {
   "cell_type": "code",
   "execution_count": 17,
   "metadata": {
    "colab": {},
    "colab_type": "code",
    "id": "HOqiYzrqRQ-M"
   },
   "outputs": [
    {
     "name": "stdout",
     "output_type": "stream",
     "text": [
      "Machine learning (ML) is the scientific study of algorithms and statistical models that computer systems use to effectively perform a specific task without using explicit instructions, relying on patterns and inference instead. It is seen as a subset of artificial intelligence. Machine learning algorithms build a mathematical model of sample data, known as \"training data\", in order to make predictions or decisions without being explicitly programmed to perform the task. Machine learning algorithms are used in the applications of email filtering, detection of network intruders, and computer vision, where it is infeasible to develop an algorithm of specific instructions for performing the task. Machine learning is closely related to computational statistics, which focuses on making predictions using computers. The study of mathematical optimization delivers methods, theory and application domains to the field of machine learning. Data mining is a field of study within machine learning, and focuses on exploratory data analysis through unsupervised learning. In its application across business problems, machine learning is also referred to as predictive analytics.\n",
      "\n",
      "\n",
      "== Overview of Machine Learning ==\n",
      "The name machine learning was coined in 1959 by Arthur Samuel. Tom M. Mitchell provided a widely quoted, more formal definition of the algorithms studied in the machine learning field: \"A computer program is said to learn from experience E with respect to some class of tasks T and performance measure P if its performance at tasks in T, as measured by P,  improves with experience E.\" This definition of the tasks in which machine learning is concerned offers a fundamentally operational definition rather than defining the field in cognitive terms. This follows Alan Turing's proposal in his paper \"Computing Machinery and Intelligence\", in which the question \"Can machines think?\" is replaced with the question \"Can machines do what we (as thinking entities) can do?\". In Turing's proposal the various characteristics that could be possessed by a thinking machine and the various implications in constructing one are exposed.\n",
      "\n",
      "\n",
      "=== Machine learning tasks ===\n",
      "\n",
      "Machine learning tasks are classified into several broad categories. In supervised learning, the algorithm builds a mathematical model from a set of data that contains both the inputs and the desired outputs. For example, if the task were determining whether an image contained a certain object, the training data for a supervised learning algorithm would include images with and without that object (the input), and each image would have a label (the output) designating whether it contained the object. In special cases, the input may be only partially available, or restricted to special feedback. Semi-supervised learning algorithms develop mathematical models from incomplete training data, where a portion of the sample input doesn't have labels.\n",
      "Classification algorithms and regression algorithms are types of supervised learning. Classification algorithms are used when the outputs are restricted to a limited set of values. For a classification algorithm that filters emails, the input would be an incoming email, and the output would be the name of the folder in which to file the email. For an algorithm that identifies spam emails, the output would be the prediction of either \"spam\" or \"not spam\", represented by the Boolean values true and false. Regression algorithms are named for their continuous outputs, meaning they may have any value within a range. Examples of a continuous value are the temperature, length, or price of an object.\n",
      "In unsupervised learning, the algorithm builds a mathematical model from a set of data which contains only inputs and no desired output labels. Unsupervised learning algorithms are used to find structure in the data, like grouping or clustering of data points. Unsupervised learning can discover patterns in the data, and can group the inputs into categories, as in feature learning. Dimensionality reduction is the process of reducing the number of \"features\", or inputs, in a set of data. \n",
      "Active learning algorithms access the desired outputs (training labels) for a limited set of inputs based on a budget, and optimize the choice of inputs for which it will acquire training labels. When used interactively, these can be presented to a human user for labeling. Reinforcement learning algorithms are given feedback in the form of positive or negative reinforcement in a dynamic environment, and are used in autonomous vehicles or in learning to play a game against a human opponent. Other specialized algorithms in machine learning include topic modeling, where the computer program is given a set of natural language documents and finds other documents that cover similar topics. Machine learning algorithms can be used to find the unobservable probability density function in density estimation problems. Meta learning algorithms learn their own inductive bias based on previous experience. In developmental robotics, robot learning algorithms generate their own sequences of learning experiences, also known as a curriculum, to cumulatively acquire new skills through self-guided exploration and social interaction with humans. These robots use guidance mechanisms such as active learning, maturation, motor synergies, and imitation.\n",
      "\n",
      "\n",
      "== History and relationships to other fields ==\n",
      "\n",
      "Arthur Samuel, an American pioneer in the field of computer gaming and artificial intelligence, coined the term \"Machine Learning\" in 1959 while at IBM. \n",
      "As a scientific endeavour, machine learning grew out of the quest for artificial intelligence. Already in the early days of AI as an academic discipline, some researchers were interested in having machines learn from data. They attempted to approach the problem with various symbolic methods, as well as what were then termed \"neural networks\"; these were mostly perceptrons and other models that were later found to be reinventions of the generalized linear models of statistics. Probabilistic reasoning was also employed, especially in automated medical diagnosis.However, an increasing emphasis on the logical, knowledge-based approach caused a rift between AI and machine learning. Probabilistic systems were plagued by theoretical and practical problems of data acquisition and representation. By 1980, expert systems had come to dominate AI, and statistics was out of favor. Work on symbolic/knowledge-based learning did continue within AI, leading to inductive logic programming, but the more statistical line of research was now outside the field of AI proper, in pattern recognition and information retrieval. Neural networks research had been abandoned by AI and computer science around the same time. This line, too, was continued outside the AI/CS field, as \"connectionism\", by researchers from other disciplines including Hopfield, Rumelhart and Hinton. Their main success came in the mid-1980s with the reinvention of backpropagation.Machine learning, reorganized as a separate field, started to flourish in the 1990s. The field changed its goal from achieving artificial intelligence to tackling solvable problems of a practical nature. It shifted focus away from the symbolic approaches it had inherited from AI, and toward methods and models borrowed from statistics and probability theory. It also benefited from the increasing availability of digitized information, and the ability to distribute it via the Internet.\n",
      "\n",
      "\n",
      "=== Relation to data mining ===\n",
      "Machine learning and data mining often employ the same methods and overlap significantly, but while machine learning focuses on prediction, based on known properties learned from the training data, data mining focuses on the discovery of (previously) unknown properties in the data (this is the analysis step of knowledge discovery in databases). Data mining uses many machine learning methods, but with different goals; on the other hand, machine learning also employs data mining methods as \"unsupervised learning\" or as a preprocessing step to improve learner accuracy. Much of the confusion between these two research communities (which do often have separate conferences and separate journals, ECML PKDD being a major exception) comes from the basic assumptions they work with: in machine learning, performance is usually evaluated with respect to the ability to reproduce known knowledge, while in knowledge discovery and data mining (KDD) the key task is the discovery of previously unknown knowledge. Evaluated with respect to known knowledge, an uninformed (unsupervised) method will easily be outperformed by other supervised methods, while in a typical KDD task, supervised methods cannot be used due to the unavailability of training data.\n",
      "\n",
      "\n",
      "=== Relation to optimization ===\n",
      "Machine learning also has intimate ties to optimization: many learning problems are formulated as minimization of some loss function on a training set of examples. Loss functions express the discrepancy between the predictions of the model being trained and the actual problem instances (for example, in classification, one wants to assign a label to instances, and models are trained to correctly predict the pre-assigned labels of a set of examples). The difference between the two fields arises from the goal of generalization: while optimization algorithms can minimize the loss on a training set, machine learning is concerned with minimizing the loss on unseen samples.\n",
      "\n",
      "\n",
      "=== Relation to statistics ===\n",
      "Machine learning and statistics are closely related fields. According to Michael I. Jordan, the ideas of machine learning, from methodological principles to theoretical tools, have had a long pre-history in statistics. He also suggested the term data science as a placeholder to call the overall field.Leo Breiman distinguished two statistical modelling paradigms: data model and algorithmic model, wherein \"algorithmic model\" means more or less the machine learning algorithms like Random forest.\n",
      "Some statisticians have adopted methods from machine learning, leading to a combined field that they call statistical learning.\n",
      "\n",
      "\n",
      "== Theory ==\n",
      "\n",
      "A core objective of a learner is to generalize from its experience. Generalization in this context is the ability of a learning machine to perform accurately on new, unseen examples/tasks after having experienced a learning data set. The training examples come from some generally unknown probability distribution (considered representative of the space of occurrences) and the learner has to build a general model about this space that enables it to produce sufficiently accurate predictions in new cases.\n",
      "The computational analysis of machine learning algorithms and their performance is a branch of theoretical computer science known as computational learning theory. Because training sets are finite and the future is uncertain, learning theory usually does not yield guarantees of the performance of algorithms. Instead, probabilistic bounds on the performance are quite common. The bias–variance decomposition is one way to quantify generalization error.\n",
      "For the best performance in the context of generalization, the complexity of the hypothesis should match the complexity of the function underlying the data. If the hypothesis is less complex than the function, then the model has underfit the data. If the complexity of the model is increased in response, then the training error decreases. But if the hypothesis is too complex, then the model is subject to overfitting and generalization will be poorer.In addition to performance bounds, computational learning theorists study the time complexity and feasibility of learning. In computational learning theory, a computation is considered feasible if it can be done in polynomial time. There are two kinds of time complexity results. Positive results show that a certain class of functions can be learned in polynomial time. Negative results show that certain classes cannot be learned in polynomial time.\n",
      "\n",
      "\n",
      "== Approaches ==\n",
      "\n",
      "\n",
      "=== Types of learning algorithms ===\n",
      "The types of machine learning algorithms differ in their approach, the type of data they input and output, and the type of task or problem that they are intended to solve.\n",
      "\n",
      "\n",
      "==== Supervised and semi-supervised learning ====\n",
      "\n",
      "Supervised learning algorithms build a mathematical model of a set of data that contains both the inputs and the desired outputs. The data is known as training data, and consists of a set of training examples. Each training example has one or more inputs and a desired output, also known as a supervisory signal. In the case of semi-supervised learning algorithms, some of the training examples are missing the desired output. In the mathematical model, each training example is represented by an array or vector, and the training data by a matrix. Through iterative optimization of an objective function, supervised learning algorithms learn a function that can be used to predict the output associated with new inputs. An optimal function will allow the algorithm to correctly determine the output for inputs that were not a part of the training data. An algorithm that improves the accuracy of its outputs or predictions over time is said to have learned to perform that task.Supervised learning algorithms include classification and regression. Classification algorithms are used when the outputs are restricted to a limited set of values, and regression algorithms are used when the outputs may have any numerical value within a range. Similarity learning is an area of supervised machine learning closely related to regression and classification, but the goal is to learn from examples using a similarity function that measures how similar or related two objects are. It has applications in ranking, recommendation systems, visual identity tracking, face verification, and speaker verification.\n",
      "\n",
      "\n",
      "==== Unsupervised learning ====\n",
      "\n",
      "Unsupervised learning algorithms take a set of data that contains only inputs, and find structure in the data, like grouping or clustering of data points. The algorithms therefore learn from test data that has not been labeled, classified or categorized. Instead of responding to feedback, unsupervised learning algorithms identify commonalities in the data and react based on the presence or absence of such commonalities in each new piece of data. A central application of unsupervised learning is in the field of density estimation in statistics, though unsupervised learning encompasses other domains involving summarizing and explaining data features.\n",
      "Cluster analysis is the assignment of a set of observations into subsets (called clusters) so that observations within the same cluster are similar according to one or more predesignated criteria, while observations drawn from different clusters are dissimilar. Different clustering techniques make different assumptions on the structure of the data, often defined by some similarity metric and evaluated, for example, by internal compactness, or the similarity between members of the same cluster, and separation, the difference between clusters. Other methods are based on estimated density and graph connectivity.\n",
      "\n",
      "\n",
      "==== Reinforcement learning ====\n",
      "\n",
      "Reinforcement learning is an area of machine learning concerned with how software agents ought to take actions in an environment so as to maximize some notion of cumulative reward. Due to its generality, the field is studied in many other disciplines, such as game theory, control theory, operations research, information theory, simulation-based optimization, multi-agent systems, swarm intelligence, statistics and genetic algorithms. In machine learning, the environment is typically represented as a Markov Decision Process (MDP). Many reinforcement learning algorithms use dynamic programming techniques. Reinforcement learning algorithms do not assume knowledge of an exact mathematical model of the MDP, and are used when exact models are infeasible. Reinforcement learning algorithms are used in autonomous vehicles or in learning to play a game against a human opponent.\n",
      "\n",
      "\n",
      "=== Processes and techniques ===\n",
      "Various processes, techniques and methods can be applied to one or more types of machine learning algorithms to enhance their performance.\n",
      "\n",
      "\n",
      "==== Feature learning ====\n",
      "\n",
      "Several learning algorithms aim at discovering better representations of the inputs provided during training. Classic examples include principal components analysis and cluster analysis. Feature learning algorithms, also called representation learning algorithms, often attempt to preserve the information in their input but also transform it in a way that makes it useful, often as a pre-processing step before performing classification or predictions. This technique allows reconstruction of the inputs coming from the unknown data-generating distribution, while not being necessarily faithful to configurations that are implausible under that distribution. This replaces manual feature engineering, and allows a machine to both learn the features and use them to perform a specific task.\n",
      "Feature learning can be either supervised or unsupervised. In supervised feature learning, features are learned using labeled input data. Examples include artificial neural networks, multilayer perceptrons, and supervised dictionary learning. In unsupervised feature learning, features are learned with unlabeled input data.  Examples include dictionary learning, independent component analysis, autoencoders, matrix factorization and various forms of clustering.Manifold learning algorithms attempt to do so under the constraint that the learned representation is low-dimensional. Sparse coding algorithms attempt to do so under the constraint that the learned representation is sparse, meaning that the mathematical model has many zeros. Multilinear subspace learning algorithms aim to learn low-dimensional representations directly from tensor representations for multidimensional data, without reshaping them into higher-dimensional vectors. Deep learning algorithms discover multiple levels of representation, or a hierarchy of features, with higher-level, more abstract features defined in terms of (or generating) lower-level features. It has been argued that an intelligent machine is one that learns a representation that disentangles the underlying factors of variation that explain the observed data.Feature learning is motivated by the fact that machine learning tasks such as classification often require input that is mathematically and computationally convenient to process. However, real-world data such as images, video, and sensory data has not yielded to attempts to algorithmically define specific features. An alternative is to discover such features or representations through examination, without relying on explicit algorithms.\n",
      "\n",
      "\n",
      "==== Sparse dictionary learning ====\n",
      "\n",
      "Sparse dictionary learning is a feature learning method where a training example is represented as a linear combination of basis functions, and is assumed to be a sparse matrix. The method is strongly NP-hard and difficult to solve approximately. A popular heuristic method for sparse dictionary learning is the K-SVD algorithm. Sparse dictionary learning has been applied in several contexts. In classification, the problem is to determine to which classes a previously unseen training example belongs. For a dictionary where each class has already been built, a new training example is associated with the class that is best sparsely represented by the corresponding dictionary. Sparse dictionary learning has also been applied in image de-noising. The key idea is that a clean image patch can be sparsely represented by an image dictionary, but the noise cannot.\n",
      "\n",
      "\n",
      "==== Anomaly detection ====\n",
      "\n",
      "In data mining, anomaly detection, also known as outlier detection, is the identification of rare items, events or observations which raise suspicions by differing significantly from the majority of the data. Typically, the anomalous items represent an issue such as bank fraud, a structural defect, medical problems or errors in a text. Anomalies are referred to as outliers, novelties, noise, deviations and exceptions.In particular, in the context of abuse and network intrusion detection, the interesting objects are often not rare objects, but unexpected bursts in activity. This pattern does not adhere to the common statistical definition of an outlier as a rare object, and many outlier detection methods (in particular, unsupervised algorithms) will fail on such data, unless it has been aggregated appropriately. Instead, a cluster analysis algorithm may be able to detect the micro-clusters formed by these patterns.Three broad categories of anomaly detection techniques exist. Unsupervised anomaly detection techniques detect anomalies in an unlabeled test data set under the assumption that the majority of the instances in the data set are normal, by looking for instances that seem to fit least to the remainder of the data set. Supervised anomaly detection techniques require a data set that has been labeled as \"normal\" and \"abnormal\" and involves training a classifier (the key difference to many other statistical classification problems is the inherent unbalanced nature of outlier detection). Semi-supervised anomaly detection techniques construct a model representing normal behavior from a given normal training data set, and then test the likelihood of a test instance to be generated by the model.\n",
      "\n",
      "\n",
      "==== Decision trees ====\n",
      "\n",
      "Decision tree learning uses a decision tree as a predictive model to go from observations about an item (represented in the branches) to conclusions about the item's target value (represented in the leaves). It is one of the predictive modeling approaches used in statistics, data mining and machine learning. Tree models where the target variable can take a discrete set of values are called classification trees; in these tree structures, leaves represent class labels and branches represent conjunctions of features that lead to those class labels. Decision trees where the target variable can take continuous values (typically real numbers) are called regression trees. In decision analysis, a decision tree can be used to visually and explicitly represent decisions and decision making. In data mining, a decision tree describes data, but the resulting classification tree can be an input for decision making.\n",
      "\n",
      "\n",
      "==== Association rules ====\n",
      "\n",
      "Association rule learning is a rule-based machine learning method for discovering relationships between variables in large databases. It is intended to identify strong rules discovered in databases using some measure of \"interestingness\". This rule-based approach generates new rules as it analyzes more data. The ultimate goal, assuming the set of data is large enough, is to help a machine mimic the human brain’s feature extraction and abstract association capabilities for data that has not been categorized.Rule-based machine learning is a general term for any machine learning method that identifies, learns, or evolves \"rules\" to store, manipulate or apply knowledge. The defining characteristic of a rule-based machine learning algorithm is the identification and utilization of a set of relational rules that collectively represent the knowledge captured by the system. This is in contrast to other machine learning algorithms that commonly identify a singular model that can be universally applied to any instance in order to make a prediction. Rule-based machine learning approaches include learning classifier systems, association rule learning, and artificial immune systems.\n",
      "Based on the concept of strong rules, Rakesh Agrawal, Tomasz Imieliński and Arun Swami introduced association rules for discovering regularities between products in large-scale transaction data recorded by point-of-sale (POS) systems in supermarkets. For example, the rule \n",
      "  \n",
      "    \n",
      "      \n",
      "        {\n",
      "        \n",
      "          o\n",
      "          n\n",
      "          i\n",
      "          o\n",
      "          n\n",
      "          s\n",
      "          ,\n",
      "          p\n",
      "          o\n",
      "          t\n",
      "          a\n",
      "          t\n",
      "          o\n",
      "          e\n",
      "          s\n",
      "        \n",
      "        }\n",
      "        ⇒\n",
      "        {\n",
      "        \n",
      "          b\n",
      "          u\n",
      "          r\n",
      "          g\n",
      "          e\n",
      "          r\n",
      "        \n",
      "        }\n",
      "      \n",
      "    \n",
      "    {\\displaystyle \\{\\mathrm {onions,potatoes} \\}\\Rightarrow \\{\\mathrm {burger} \\}}\n",
      "   found in the sales data of a supermarket would indicate that if a customer buys onions and potatoes together, they are likely to also buy hamburger meat. Such information can be used as the basis for decisions about marketing activities such as promotional pricing or product placements. In addition to market basket analysis, association rules are employed today in application areas including Web usage mining, intrusion detection, continuous production, and bioinformatics. In contrast with sequence mining, association rule learning typically does not consider the order of items either within a transaction or across transactions.\n",
      "Learning classifier systems (LCS) are a family of rule-based machine learning algorithms that combine a discovery component, typically a genetic algorithm, with a learning component, performing either supervised learning, reinforcement learning, or unsupervised learning. They seek to identify a set of context-dependent rules that collectively store and apply knowledge in a piecewise manner in order to make predictions.Inductive logic programming (ILP) is an approach to rule-learning using logic programming as a uniform representation for input examples, background knowledge, and hypotheses. Given an encoding of the known background knowledge and a set of examples represented as a logical database of facts, an ILP system will derive a hypothesized logic program that entails all positive and no negative examples. Inductive programming is a related field that considers any kind of programming languages for representing hypotheses (and not only logic programming), such as functional programs.\n",
      "Inductive logic programming is particularly useful in bioinformatics and natural language processing. Gordon Plotkin and Ehud Shapiro laid the initial theoretical foundation for inductive machine learning in a logical setting. Shapiro built their first implementation (Model Inference System) in 1981: a Prolog program that inductively inferred logic programs from positive and negative examples. The term inductive here refers to philosophical induction, suggesting a theory to explain observed facts, rather than mathematical induction, proving a property for all members of a well-ordered set.\n",
      "\n",
      "\n",
      "=== Models ===\n",
      "\n",
      "\n",
      "==== Artificial neural networks ====\n",
      "\n",
      "Artificial neural networks (ANNs), or connectionist systems, are computing systems vaguely inspired by the biological neural networks that constitute animal brains. The neural network itself is not an algorithm, but rather a framework for many different machine learning algorithms to work together and process complex data inputs. Such systems \"learn\" to perform tasks by considering examples, generally without being programmed with any task-specific rules.\n",
      "An ANN is a model based on a collection of connected units or nodes called \"artificial neurons\", which loosely model the neurons in a biological brain. Each connection, like the synapses in a biological brain, can transmit information, a \"signal\", from one artificial neuron to another. An artificial neuron that receives a signal can process it and then signal additional artificial neurons connected to it. In common ANN implementations, the signal at a connection between artificial neurons is a real number, and the output of each artificial neuron is computed by some non-linear function of the sum of its inputs. The connections between artificial neurons are called \"edges\". Artificial neurons and edges typically have a weight that adjusts as learning proceeds. The weight increases or decreases the strength of the signal at a connection. Artificial neurons may have a threshold such that the signal is only sent if the aggregate signal crosses that threshold. Typically, artificial neurons are aggregated into layers. Different layers may perform different kinds of transformations on their inputs. Signals travel from the first layer (the input layer), to the last layer (the output layer), possibly after traversing the layers multiple times.\n",
      "The original goal of the ANN approach was to solve problems in the same way that a human brain would. However, over time, attention moved to performing specific tasks, leading to deviations from biology. Artificial neural networks have been used on a variety of tasks, including computer vision, speech recognition, machine translation, social network filtering, playing board and video games and medical diagnosis.\n",
      "Deep learning consists of multiple hidden layers in an artificial neural network. This approach tries to model the way the human brain processes light and sound into vision and hearing. Some successful applications of deep learning are computer vision and speech recognition.\n",
      "\n",
      "\n",
      "==== Support vector machines ====\n",
      "\n",
      "Support vector machines (SVMs), also known as support vector networks, are a set of related supervised learning methods used for classification and regression. Given a set of training examples, each marked as belonging to one of two categories, an SVM training algorithm builds a model that predicts whether a new example falls into one category or the other.  An SVM training algorithm is a non-probabilistic, binary, linear classifier, although methods such as Platt scaling exist to use SVM in a probabilistic classification setting. In addition to performing linear classification, SVMs can efficiently perform a non-linear classification using what is called the kernel trick, implicitly mapping their inputs into high-dimensional feature spaces.\n",
      "\n",
      "\n",
      "==== Bayesian networks ====\n",
      "\n",
      "A Bayesian network, belief network or directed acyclic graphical model is a probabilistic graphical model that represents a set of random variables and their conditional independence with a directed acyclic graph (DAG). For example, a Bayesian network could represent the probabilistic relationships between diseases and symptoms. Given symptoms, the network can be used to compute the probabilities of the presence of various diseases. Efficient algorithms exist that perform inference and learning. Bayesian networks that model sequences of variables, like speech signals or protein sequences, are called dynamic Bayesian networks. Generalizations of Bayesian networks that can represent and solve decision problems under uncertainty are called influence diagrams.\n",
      "\n",
      "\n",
      "==== Genetic algorithms ====\n",
      "\n",
      "A genetic algorithm (GA) is a search algorithm and heuristic technique that mimics the process of natural selection, using methods such as mutation and crossover to generate new genotypes in the hope of finding good solutions to a given problem. In machine learning, genetic algorithms were used in the 1980s and 1990s. Conversely, machine learning techniques have been used to improve the performance of genetic and evolutionary algorithms.\n",
      "\n",
      "\n",
      "== Applications ==\n",
      "Applications for machine learning include:\n",
      "\n",
      "In 2006, the online movie company Netflix held the first \"Netflix Prize\" competition to find a program to better predict user preferences and improve the accuracy on its existing Cinematch movie recommendation algorithm by at least 10%.  A joint team made up of researchers from AT&T Labs-Research in collaboration with the teams Big Chaos and Pragmatic Theory built an ensemble model to win the Grand Prize in 2009 for $1 million. Shortly after the prize was awarded, Netflix realized that viewers' ratings were not the best indicators of their viewing patterns (\"everything is a recommendation\") and they changed their recommendation engine accordingly. In 2010 The Wall Street Journal wrote about the firm Rebellion Research and their use of machine learning to predict the financial crisis. In 2012, co-founder of Sun Microsystems, Vinod Khosla, predicted that 80% of medical doctors jobs would be lost in the next two decades to automated machine learning medical diagnostic software. In 2014, it was reported that a machine learning algorithm had been applied in the field of art history to study fine art paintings, and that it may have revealed previously unrecognized influences between artists.\n",
      "\n",
      "\n",
      "== Limitations ==\n",
      "Although machine learning has been transformative in some fields, machine-learning programs often fail to deliver expected results. Reasons for this are numerous: lack of (suitable) data, lack of access to the data, data bias, privacy problems, badly chosen tasks and algorithms, wrong tools and people, lack of resources, and evaluation problems.In 2018, a self-driving car from Uber failed to detect a pedestrian, who was killed after a collision. Attempts to use machine learning in healthcare with the IBM Watson system failed to deliver even after years of time and billions of investment.\n",
      "\n",
      "\n",
      "=== Bias ===\n",
      "\n",
      "Machine learning approaches in particular can suffer from different data biases. A machine learning system trained on current customers only may not be able to predict the needs of new customer groups that are not represented in the training data. When trained on man-made data, machine learning is likely to pick up the same constitutional and unconscious biases already present in society. Language models learned from data have been shown to contain human-like biases. Machine learning systems used for criminal risk assessment have been found to be biased against black people. In 2015, Google photos would often tag black people as gorillas, and in 2018 this still was not well resolved, but Google reportedly was still using the workaround to remove all gorilla from the training data, and thus was not able to recognize real gorillas at all. Similar issues with recognizing non-white people have been found in many other systems. In 2016, Microsoft tested a chatbot that learned from Twitter, and it quickly picked up racist and sexist language. Because of such challenges, the effective use of machine learning may take longer to be adopted in other domains. Concern for reducing bias in machine learning and propelling its use for human good is increasingly expressed by artificial intelligence scientists, including Fei-Fei Li, who reminds engineers that \"There’s nothing artificial about AI...It’s inspired by people, it’s created by people, and—most importantly—it impacts people. It is a powerful tool we are only just beginning to understand, and that is a profound responsibility.”\n",
      "\n",
      "\n",
      "== Model assessments ==\n",
      "Classification machine learning models can be validated by accuracy estimation techniques like the Holdout method, which splits the data in a training and test set (conventionally 2/3 training set and 1/3 test set designation) and evaluates the performance of the training model on the test set. In comparison, the N-fold-cross-validation method randomly splits the data in k subsets where the k-1 instances of the data are used to train the model while the kth instance is used to test the predictive ability of the training model. In addition to the holdout and cross-validation methods, bootstrap, which samples n instances with replacement from the dataset, can be used to assess model accuracy.In addition to overall accuracy, investigators frequently report sensitivity and specificity meaning True Positive Rate (TPR) and True Negative Rate (TNR) respectively. Similarly, investigators sometimes report the False Positive Rate (FPR) as well as the False Negative Rate (FNR). However, these rates are ratios that fail to reveal their numerators and denominators. The Total Operating Characteristic (TOC) is an effective method to express a model's diagnostic ability. TOC shows the numerators and denominators of the previously mentioned rates, thus TOC provides more information than the commonly used Receiver Operating Characteristic (ROC) and ROC's associated Area Under the Curve (AUC).\n",
      "\n",
      "\n",
      "== Ethics ==\n",
      "Machine learning poses a host of ethical questions. Systems which are trained on datasets collected with biases may exhibit these biases upon use (algorithmic bias), thus digitizing cultural prejudices. For example, using job hiring data from a firm with racist hiring policies may lead to a machine learning system duplicating the bias by scoring job applicants against similarity to previous successful applicants. Responsible collection of data and documentation of algorithmic rules used by a system thus is a critical part of machine learning.\n",
      "Because language contains biases, machines trained on language corpora will necessarily also learn bias.Other forms of ethical challenges, not related to personal biases, are more seen in health care. There are concerns among health care professionals that these systems might not be designed in the public's interest, but as income generating machines. This is especially true in the United States where there is a perpetual ethical dilemma of improving health care, but also increasing profits. For example, the algorithms could be designed to provide patients with unnecessary tests or medication in which the algorithm's proprietary owners hold stakes in. There is huge potential for machine learning in health care to provide professionals a great tool to diagnose, medicate, and even plan recovery paths for patients, but this will not happen until the personal biases mentioned previously, and these \"greed\" biases are addressed.\n",
      "\n",
      "\n",
      "== Software ==\n",
      "Software suites containing a variety of machine learning algorithms include the following :\n",
      "\n",
      "\n",
      "=== Free and open-source software ===\n",
      "\n",
      "\n",
      "=== Proprietary software with free and open-source editions ===\n",
      "\n",
      "\n",
      "=== Proprietary software ===\n",
      "\n",
      "\n",
      "== Journals ==\n",
      "Journal of Machine Learning Research\n",
      "Machine Learning\n",
      "Neural Computation\n",
      "Nature Machine Intelligence\n",
      "\n",
      "\n",
      "== Conferences ==\n",
      "Conference on Neural Information Processing Systems\n",
      "International Conference on Machine Learning\n",
      "\n",
      "\n",
      "== See also ==\n",
      "\n",
      "\n",
      "== References ==\n",
      "\n",
      "\n",
      "== Further reading ==\n",
      "\n",
      "Artificial Intelligence: A Modern Approach (3rd Edition)\n",
      "\n",
      "\n",
      "== External links ==\n",
      "International Machine Learning Society\n",
      "mloss is an academic database of open-source machine learning software.\n",
      "Machine Learning Crash Course by Google. This is a free course on machine learning through the use of TensorFlow.\n"
     ]
    }
   ],
   "source": [
    "wikipage = page(titles[0])\n",
    "print(wikipage.content)"
   ]
  },
  {
   "cell_type": "markdown",
   "metadata": {
    "colab_type": "text",
    "id": "C8ugHUzSRTFH"
   },
   "source": [
    "### Create a list with name `documents` and append all the words in the 10 pages' content using the above 10 titles."
   ]
  },
  {
   "cell_type": "code",
   "execution_count": 28,
   "metadata": {},
   "outputs": [],
   "source": [
    "import re, string\n",
    "\n",
    "def clean_str(string):\n",
    "  \"\"\"\n",
    "  String cleaning before vectorization\n",
    "  \"\"\"\n",
    "  try:    \n",
    "    string = re.sub(r'^https?:\\/\\/<>.*[\\r\\n]*', '', string, flags=re.MULTILINE)\n",
    "    string = re.sub(r\"[^A-Za-z]\", \" \", string)         \n",
    "    words = string.strip().lower().split()    \n",
    "    words = [w for w in words if len(w)>=1]\n",
    "    return \" \".join(words)\t\n",
    "  except:\n",
    "    return \"\""
   ]
  },
  {
   "cell_type": "code",
   "execution_count": 30,
   "metadata": {
    "colab": {},
    "colab_type": "code",
    "id": "nBKXHtfCRTZw"
   },
   "outputs": [
    {
     "name": "stdout",
     "output_type": "stream",
     "text": [
      "10\n",
      "['machine', 'learning', 'ml', 'is', 'the', 'scientific', 'study', 'of', 'algorithms', 'and', 'statistical', 'models', 'that', 'computer', 'systems', 'use', 'to', 'effectively', 'perform', 'a', 'specific', 'task', 'without', 'using', 'explicit', 'instructions', 'relying', 'on', 'patterns', 'and', 'inference', 'instead', 'it', 'is', 'seen', 'as', 'a', 'subset', 'of', 'artificial', 'intelligence', 'machine', 'learning', 'algorithms', 'build', 'a', 'mathematical', 'model', 'of', 'sample', 'data', 'known', 'as', 'training', 'data', 'in', 'order', 'to', 'make', 'predictions', 'or', 'decisions', 'without', 'being', 'explicitly', 'programmed', 'to', 'perform', 'the', 'task', 'machine', 'learning', 'algorithms', 'are', 'used', 'in', 'the', 'applications', 'of', 'email', 'filtering', 'detection', 'of', 'network', 'intruders', 'and', 'computer', 'vision', 'where', 'it', 'is', 'infeasible', 'to', 'develop', 'an', 'algorithm', 'of', 'specific', 'instructions', 'for', 'performing', 'the', 'task', 'machine', 'learning', 'is', 'closely', 'related', 'to', 'computational', 'statistics', 'which', 'focuses', 'on', 'making', 'predictions', 'using', 'computers', 'the', 'study', 'of', 'mathematical', 'optimization', 'delivers', 'methods', 'theory', 'and', 'application', 'domains', 'to', 'the', 'field', 'of', 'machine', 'learning', 'data', 'mining', 'is', 'a', 'field', 'of', 'study', 'within', 'machine', 'learning', 'and', 'focuses', 'on', 'exploratory', 'data', 'analysis', 'through', 'unsupervised', 'learning', 'in', 'its', 'application', 'across', 'business', 'problems', 'machine', 'learning', 'is', 'also', 'referred', 'to', 'as', 'predictive', 'analytics', 'overview', 'of', 'machine', 'learning', 'the', 'name', 'machine', 'learning', 'was', 'coined', 'in', 'by', 'arthur', 'samuel', 'tom', 'm', 'mitchell', 'provided', 'a', 'widely', 'quoted', 'more', 'formal', 'definition', 'of', 'the', 'algorithms', 'studied', 'in', 'the', 'machine', 'learning', 'field', 'a', 'computer', 'program', 'is', 'said', 'to', 'learn', 'from', 'experience', 'e', 'with', 'respect', 'to', 'some', 'class', 'of', 'tasks', 't', 'and', 'performance', 'measure', 'p', 'if', 'its', 'performance', 'at', 'tasks', 'in', 't', 'as', 'measured', 'by', 'p', 'improves', 'with', 'experience', 'e', 'this', 'definition', 'of', 'the', 'tasks', 'in', 'which', 'machine', 'learning', 'is', 'concerned', 'offers', 'a', 'fundamentally', 'operational', 'definition', 'rather', 'than', 'defining', 'the', 'field', 'in', 'cognitive', 'terms', 'this', 'follows', 'alan', 'turing', 's', 'proposal', 'in', 'his', 'paper', 'computing', 'machinery', 'and', 'intelligence', 'in', 'which', 'the', 'question', 'can', 'machines', 'think', 'is', 'replaced', 'with', 'the', 'question', 'can', 'machines', 'do', 'what', 'we', 'as', 'thinking', 'entities', 'can', 'do', 'in', 'turing', 's', 'proposal', 'the', 'various', 'characteristics', 'that', 'could', 'be', 'possessed', 'by', 'a', 'thinking', 'machine', 'and', 'the', 'various', 'implications', 'in', 'constructing', 'one', 'are', 'exposed', 'machine', 'learning', 'tasks', 'machine', 'learning', 'tasks', 'are', 'classified', 'into', 'several', 'broad', 'categories', 'in', 'supervised', 'learning', 'the', 'algorithm', 'builds', 'a', 'mathematical', 'model', 'from', 'a', 'set', 'of', 'data', 'that', 'contains', 'both', 'the', 'inputs', 'and', 'the', 'desired', 'outputs', 'for', 'example', 'if', 'the', 'task', 'were', 'determining', 'whether', 'an', 'image', 'contained', 'a', 'certain', 'object', 'the', 'training', 'data', 'for', 'a', 'supervised', 'learning', 'algorithm', 'would', 'include', 'images', 'with', 'and', 'without', 'that', 'object', 'the', 'input', 'and', 'each', 'image', 'would', 'have', 'a', 'label', 'the', 'output', 'designating', 'whether', 'it', 'contained', 'the', 'object', 'in', 'special', 'cases', 'the', 'input', 'may', 'be', 'only', 'partially', 'available', 'or', 'restricted', 'to', 'special', 'feedback', 'semi', 'supervised', 'learning', 'algorithms', 'develop', 'mathematical', 'models', 'from', 'incomplete', 'training', 'data', 'where', 'a', 'portion', 'of', 'the', 'sample', 'input', 'doesn', 't', 'have', 'labels', 'classification', 'algorithms', 'and', 'regression', 'algorithms', 'are', 'types', 'of', 'supervised', 'learning', 'classification', 'algorithms', 'are', 'used', 'when', 'the', 'outputs', 'are', 'restricted', 'to', 'a', 'limited', 'set', 'of', 'values', 'for', 'a', 'classification', 'algorithm', 'that', 'filters', 'emails', 'the', 'input', 'would', 'be', 'an', 'incoming', 'email', 'and', 'the', 'output', 'would', 'be', 'the', 'name', 'of', 'the', 'folder', 'in', 'which', 'to', 'file', 'the', 'email', 'for', 'an', 'algorithm', 'that', 'identifies', 'spam', 'emails', 'the', 'output', 'would', 'be', 'the', 'prediction', 'of', 'either', 'spam', 'or', 'not', 'spam', 'represented', 'by', 'the', 'boolean', 'values', 'true', 'and', 'false', 'regression', 'algorithms', 'are', 'named', 'for', 'their', 'continuous', 'outputs', 'meaning', 'they', 'may', 'have', 'any', 'value', 'within', 'a', 'range', 'examples', 'of', 'a', 'continuous', 'value', 'are', 'the', 'temperature', 'length', 'or', 'price', 'of', 'an', 'object', 'in', 'unsupervised', 'learning', 'the', 'algorithm', 'builds', 'a', 'mathematical', 'model', 'from', 'a', 'set', 'of', 'data', 'which', 'contains', 'only', 'inputs', 'and', 'no', 'desired', 'output', 'labels', 'unsupervised', 'learning', 'algorithms', 'are', 'used', 'to', 'find', 'structure', 'in', 'the', 'data', 'like', 'grouping', 'or', 'clustering', 'of', 'data', 'points', 'unsupervised', 'learning', 'can', 'discover', 'patterns', 'in', 'the', 'data', 'and', 'can', 'group', 'the', 'inputs', 'into', 'categories', 'as', 'in', 'feature', 'learning', 'dimensionality', 'reduction', 'is', 'the', 'process', 'of', 'reducing', 'the', 'number', 'of', 'features', 'or', 'inputs', 'in', 'a', 'set', 'of', 'data', 'active', 'learning', 'algorithms', 'access', 'the', 'desired', 'outputs', 'training', 'labels', 'for', 'a', 'limited', 'set', 'of', 'inputs', 'based', 'on', 'a', 'budget', 'and', 'optimize', 'the', 'choice', 'of', 'inputs', 'for', 'which', 'it', 'will', 'acquire', 'training', 'labels', 'when', 'used', 'interactively', 'these', 'can', 'be', 'presented', 'to', 'a', 'human', 'user', 'for', 'labeling', 'reinforcement', 'learning', 'algorithms', 'are', 'given', 'feedback', 'in', 'the', 'form', 'of', 'positive', 'or', 'negative', 'reinforcement', 'in', 'a', 'dynamic', 'environment', 'and', 'are', 'used', 'in', 'autonomous', 'vehicles', 'or', 'in', 'learning', 'to', 'play', 'a', 'game', 'against', 'a', 'human', 'opponent', 'other', 'specialized', 'algorithms', 'in', 'machine', 'learning', 'include', 'topic', 'modeling', 'where', 'the', 'computer', 'program', 'is', 'given', 'a', 'set', 'of', 'natural', 'language', 'documents', 'and', 'finds', 'other', 'documents', 'that', 'cover', 'similar', 'topics', 'machine', 'learning', 'algorithms', 'can', 'be', 'used', 'to', 'find', 'the', 'unobservable', 'probability', 'density', 'function', 'in', 'density', 'estimation', 'problems', 'meta', 'learning', 'algorithms', 'learn', 'their', 'own', 'inductive', 'bias', 'based', 'on', 'previous', 'experience', 'in', 'developmental', 'robotics', 'robot', 'learning', 'algorithms', 'generate', 'their', 'own', 'sequences', 'of', 'learning', 'experiences', 'also', 'known', 'as', 'a', 'curriculum', 'to', 'cumulatively', 'acquire', 'new', 'skills', 'through', 'self', 'guided', 'exploration', 'and', 'social', 'interaction', 'with', 'humans', 'these', 'robots', 'use', 'guidance', 'mechanisms', 'such', 'as', 'active', 'learning', 'maturation', 'motor', 'synergies', 'and', 'imitation', 'history', 'and', 'relationships', 'to', 'other', 'fields', 'arthur', 'samuel', 'an', 'american', 'pioneer', 'in', 'the', 'field', 'of', 'computer', 'gaming', 'and', 'artificial', 'intelligence', 'coined', 'the', 'term', 'machine', 'learning', 'in', 'while', 'at', 'ibm', 'as', 'a', 'scientific', 'endeavour', 'machine', 'learning', 'grew', 'out', 'of', 'the', 'quest', 'for', 'artificial', 'intelligence', 'already', 'in', 'the', 'early', 'days', 'of', 'ai', 'as', 'an', 'academic', 'discipline', 'some', 'researchers', 'were', 'interested', 'in', 'having', 'machines', 'learn', 'from', 'data', 'they', 'attempted', 'to', 'approach', 'the', 'problem', 'with', 'various', 'symbolic', 'methods', 'as', 'well', 'as', 'what', 'were', 'then', 'termed', 'neural', 'networks', 'these', 'were', 'mostly', 'perceptrons', 'and', 'other', 'models', 'that', 'were', 'later', 'found', 'to', 'be', 'reinventions', 'of', 'the', 'generalized', 'linear', 'models', 'of', 'statistics', 'probabilistic', 'reasoning', 'was', 'also', 'employed', 'especially', 'in', 'automated', 'medical', 'diagnosis', 'however', 'an', 'increasing', 'emphasis', 'on', 'the', 'logical', 'knowledge', 'based', 'approach', 'caused', 'a', 'rift', 'between', 'ai', 'and', 'machine', 'learning', 'probabilistic', 'systems', 'were', 'plagued', 'by', 'theoretical', 'and', 'practical', 'problems', 'of', 'data', 'acquisition', 'and', 'representation', 'by', 'expert', 'systems', 'had', 'come', 'to', 'dominate', 'ai', 'and', 'statistics', 'was', 'out', 'of', 'favor', 'work', 'on', 'symbolic', 'knowledge', 'based', 'learning', 'did', 'continue', 'within', 'ai', 'leading', 'to', 'inductive', 'logic', 'programming', 'but', 'the', 'more', 'statistical', 'line', 'of', 'research', 'was', 'now', 'outside', 'the', 'field', 'of', 'ai', 'proper', 'in', 'pattern', 'recognition', 'and', 'information', 'retrieval', 'neural', 'networks', 'research', 'had', 'been', 'abandoned', 'by', 'ai', 'and', 'computer', 'science', 'around', 'the', 'same', 'time', 'this', 'line', 'too', 'was', 'continued', 'outside', 'the', 'ai', 'cs', 'field', 'as', 'connectionism', 'by', 'researchers', 'from', 'other', 'disciplines', 'including', 'hopfield', 'rumelhart', 'and', 'hinton', 'their', 'main', 'success', 'came', 'in', 'the', 'mid', 's', 'with', 'the', 'reinvention', 'of', 'backpropagation', 'machine', 'learning', 'reorganized', 'as', 'a', 'separate', 'field', 'started', 'to', 'flourish', 'in', 'the', 's', 'the', 'field', 'changed', 'its', 'goal', 'from', 'achieving', 'artificial', 'intelligence', 'to', 'tackling', 'solvable', 'problems', 'of', 'a', 'practical', 'nature', 'it', 'shifted', 'focus', 'away', 'from', 'the', 'symbolic', 'approaches', 'it', 'had', 'inherited', 'from', 'ai', 'and', 'toward', 'methods', 'and', 'models', 'borrowed', 'from', 'statistics', 'and', 'probability', 'theory', 'it', 'also', 'benefited', 'from', 'the', 'increasing', 'availability', 'of', 'digitized', 'information', 'and', 'the', 'ability', 'to', 'distribute', 'it', 'via', 'the', 'internet', 'relation', 'to', 'data', 'mining', 'machine', 'learning', 'and', 'data', 'mining', 'often', 'employ', 'the', 'same', 'methods', 'and', 'overlap', 'significantly', 'but', 'while', 'machine', 'learning', 'focuses', 'on', 'prediction', 'based', 'on', 'known', 'properties', 'learned', 'from', 'the', 'training', 'data', 'data', 'mining', 'focuses', 'on', 'the', 'discovery', 'of', 'previously', 'unknown', 'properties', 'in', 'the', 'data', 'this', 'is', 'the', 'analysis', 'step', 'of', 'knowledge', 'discovery', 'in', 'databases', 'data', 'mining', 'uses', 'many', 'machine', 'learning', 'methods', 'but', 'with', 'different', 'goals', 'on', 'the', 'other', 'hand', 'machine', 'learning', 'also', 'employs', 'data', 'mining', 'methods', 'as', 'unsupervised', 'learning', 'or', 'as', 'a', 'preprocessing', 'step', 'to', 'improve', 'learner', 'accuracy', 'much', 'of', 'the', 'confusion', 'between', 'these', 'two', 'research', 'communities', 'which', 'do', 'often', 'have', 'separate', 'conferences', 'and', 'separate', 'journals', 'ecml', 'pkdd', 'being', 'a', 'major', 'exception', 'comes', 'from', 'the', 'basic', 'assumptions', 'they', 'work', 'with', 'in', 'machine', 'learning', 'performance', 'is', 'usually', 'evaluated', 'with', 'respect', 'to', 'the', 'ability', 'to', 'reproduce', 'known', 'knowledge', 'while', 'in', 'knowledge', 'discovery', 'and', 'data', 'mining', 'kdd', 'the', 'key', 'task', 'is', 'the', 'discovery', 'of', 'previously', 'unknown', 'knowledge', 'evaluated', 'with', 'respect', 'to', 'known', 'knowledge', 'an', 'uninformed', 'unsupervised', 'method', 'will', 'easily', 'be', 'outperformed', 'by', 'other', 'supervised', 'methods', 'while', 'in', 'a', 'typical', 'kdd', 'task', 'supervised', 'methods', 'cannot', 'be', 'used', 'due', 'to', 'the', 'unavailability', 'of', 'training', 'data', 'relation', 'to', 'optimization', 'machine', 'learning', 'also', 'has', 'intimate', 'ties', 'to', 'optimization', 'many', 'learning', 'problems', 'are', 'formulated', 'as', 'minimization', 'of', 'some', 'loss', 'function', 'on', 'a', 'training', 'set', 'of', 'examples', 'loss', 'functions', 'express', 'the', 'discrepancy', 'between', 'the', 'predictions', 'of', 'the', 'model', 'being', 'trained', 'and', 'the', 'actual', 'problem', 'instances', 'for', 'example', 'in', 'classification', 'one', 'wants', 'to', 'assign', 'a', 'label', 'to', 'instances', 'and', 'models', 'are', 'trained', 'to', 'correctly', 'predict', 'the', 'pre', 'assigned', 'labels', 'of', 'a', 'set', 'of', 'examples', 'the', 'difference', 'between', 'the', 'two', 'fields', 'arises', 'from', 'the', 'goal', 'of', 'generalization', 'while', 'optimization', 'algorithms', 'can', 'minimize', 'the', 'loss', 'on', 'a', 'training', 'set', 'machine', 'learning', 'is', 'concerned', 'with', 'minimizing', 'the', 'loss', 'on', 'unseen', 'samples', 'relation', 'to', 'statistics', 'machine', 'learning', 'and', 'statistics', 'are', 'closely', 'related', 'fields', 'according', 'to', 'michael', 'i', 'jordan', 'the', 'ideas', 'of', 'machine', 'learning', 'from', 'methodological', 'principles', 'to', 'theoretical', 'tools', 'have', 'had', 'a', 'long', 'pre', 'history', 'in', 'statistics', 'he', 'also', 'suggested', 'the', 'term', 'data', 'science', 'as', 'a', 'placeholder', 'to', 'call', 'the', 'overall', 'field', 'leo', 'breiman', 'distinguished', 'two', 'statistical', 'modelling', 'paradigms', 'data', 'model', 'and', 'algorithmic', 'model', 'wherein', 'algorithmic', 'model', 'means', 'more', 'or', 'less', 'the', 'machine', 'learning', 'algorithms', 'like', 'random', 'forest', 'some', 'statisticians', 'have', 'adopted', 'methods', 'from', 'machine', 'learning', 'leading', 'to', 'a', 'combined', 'field', 'that', 'they', 'call', 'statistical', 'learning', 'theory', 'a', 'core', 'objective', 'of', 'a', 'learner', 'is', 'to', 'generalize', 'from', 'its', 'experience', 'generalization', 'in', 'this', 'context', 'is', 'the', 'ability', 'of', 'a', 'learning', 'machine', 'to', 'perform', 'accurately', 'on', 'new', 'unseen', 'examples', 'tasks', 'after', 'having', 'experienced', 'a', 'learning', 'data', 'set', 'the', 'training', 'examples', 'come', 'from', 'some', 'generally', 'unknown', 'probability', 'distribution', 'considered', 'representative', 'of', 'the', 'space', 'of', 'occurrences', 'and', 'the', 'learner', 'has', 'to', 'build', 'a', 'general', 'model', 'about', 'this', 'space', 'that', 'enables', 'it', 'to', 'produce', 'sufficiently', 'accurate', 'predictions', 'in', 'new', 'cases', 'the', 'computational', 'analysis', 'of', 'machine', 'learning', 'algorithms', 'and', 'their', 'performance', 'is', 'a', 'branch', 'of', 'theoretical', 'computer', 'science', 'known', 'as', 'computational', 'learning', 'theory', 'because', 'training', 'sets', 'are', 'finite', 'and', 'the', 'future', 'is', 'uncertain', 'learning', 'theory', 'usually', 'does', 'not', 'yield', 'guarantees', 'of', 'the', 'performance', 'of', 'algorithms', 'instead', 'probabilistic', 'bounds', 'on', 'the', 'performance', 'are', 'quite', 'common', 'the', 'bias', 'variance', 'decomposition', 'is', 'one', 'way', 'to', 'quantify', 'generalization', 'error', 'for', 'the', 'best', 'performance', 'in', 'the', 'context', 'of', 'generalization', 'the', 'complexity', 'of', 'the', 'hypothesis', 'should', 'match', 'the', 'complexity', 'of', 'the', 'function', 'underlying', 'the', 'data', 'if', 'the', 'hypothesis', 'is', 'less', 'complex', 'than', 'the', 'function', 'then', 'the', 'model', 'has', 'underfit', 'the', 'data', 'if', 'the', 'complexity', 'of', 'the', 'model', 'is', 'increased', 'in', 'response', 'then', 'the', 'training', 'error', 'decreases', 'but', 'if', 'the', 'hypothesis', 'is', 'too', 'complex', 'then', 'the', 'model', 'is', 'subject', 'to', 'overfitting', 'and', 'generalization', 'will', 'be', 'poorer', 'in', 'addition', 'to', 'performance', 'bounds', 'computational', 'learning', 'theorists', 'study', 'the', 'time', 'complexity', 'and', 'feasibility', 'of', 'learning', 'in', 'computational', 'learning', 'theory', 'a', 'computation', 'is', 'considered', 'feasible', 'if', 'it', 'can', 'be', 'done', 'in', 'polynomial', 'time', 'there', 'are', 'two', 'kinds', 'of', 'time', 'complexity', 'results', 'positive', 'results', 'show', 'that', 'a', 'certain', 'class', 'of', 'functions', 'can', 'be', 'learned', 'in', 'polynomial', 'time', 'negative', 'results', 'show', 'that', 'certain', 'classes', 'cannot', 'be', 'learned', 'in', 'polynomial', 'time', 'approaches', 'types', 'of', 'learning', 'algorithms', 'the', 'types', 'of', 'machine', 'learning', 'algorithms', 'differ', 'in', 'their', 'approach', 'the', 'type', 'of', 'data', 'they', 'input', 'and', 'output', 'and', 'the', 'type', 'of', 'task', 'or', 'problem', 'that', 'they', 'are', 'intended', 'to', 'solve', 'supervised', 'and', 'semi', 'supervised', 'learning', 'supervised', 'learning', 'algorithms', 'build', 'a', 'mathematical', 'model', 'of', 'a', 'set', 'of', 'data', 'that', 'contains', 'both', 'the', 'inputs', 'and', 'the', 'desired', 'outputs', 'the', 'data', 'is', 'known', 'as', 'training', 'data', 'and', 'consists', 'of', 'a', 'set', 'of', 'training', 'examples', 'each', 'training', 'example', 'has', 'one', 'or', 'more', 'inputs', 'and', 'a', 'desired', 'output', 'also', 'known', 'as', 'a', 'supervisory', 'signal', 'in', 'the', 'case', 'of', 'semi', 'supervised', 'learning', 'algorithms', 'some', 'of', 'the', 'training', 'examples', 'are', 'missing', 'the', 'desired', 'output', 'in', 'the', 'mathematical', 'model', 'each', 'training', 'example', 'is', 'represented', 'by', 'an', 'array', 'or', 'vector', 'and', 'the', 'training', 'data', 'by', 'a', 'matrix', 'through', 'iterative', 'optimization', 'of', 'an', 'objective', 'function', 'supervised', 'learning', 'algorithms', 'learn', 'a', 'function', 'that', 'can', 'be', 'used', 'to', 'predict', 'the', 'output', 'associated', 'with', 'new', 'inputs', 'an', 'optimal', 'function', 'will', 'allow', 'the', 'algorithm', 'to', 'correctly', 'determine', 'the', 'output', 'for', 'inputs', 'that', 'were', 'not', 'a', 'part', 'of', 'the', 'training', 'data', 'an', 'algorithm', 'that', 'improves', 'the', 'accuracy', 'of', 'its', 'outputs', 'or', 'predictions', 'over', 'time', 'is', 'said', 'to', 'have', 'learned', 'to', 'perform', 'that', 'task', 'supervised', 'learning', 'algorithms', 'include', 'classification', 'and', 'regression', 'classification', 'algorithms', 'are', 'used', 'when', 'the', 'outputs', 'are', 'restricted', 'to', 'a', 'limited', 'set', 'of', 'values', 'and', 'regression', 'algorithms', 'are', 'used', 'when', 'the', 'outputs', 'may', 'have', 'any', 'numerical', 'value', 'within', 'a', 'range', 'similarity', 'learning', 'is', 'an', 'area', 'of', 'supervised', 'machine', 'learning', 'closely', 'related', 'to', 'regression', 'and', 'classification', 'but', 'the', 'goal', 'is', 'to', 'learn', 'from', 'examples', 'using', 'a', 'similarity', 'function', 'that', 'measures', 'how', 'similar', 'or', 'related', 'two', 'objects', 'are', 'it', 'has', 'applications', 'in', 'ranking', 'recommendation', 'systems', 'visual', 'identity', 'tracking', 'face', 'verification', 'and', 'speaker', 'verification', 'unsupervised', 'learning', 'unsupervised', 'learning', 'algorithms', 'take', 'a', 'set', 'of', 'data', 'that', 'contains', 'only', 'inputs', 'and', 'find', 'structure', 'in', 'the', 'data', 'like', 'grouping', 'or', 'clustering', 'of', 'data', 'points', 'the', 'algorithms', 'therefore', 'learn', 'from', 'test', 'data', 'that', 'has', 'not', 'been', 'labeled', 'classified', 'or', 'categorized', 'instead', 'of', 'responding', 'to', 'feedback', 'unsupervised', 'learning', 'algorithms', 'identify', 'commonalities', 'in', 'the', 'data', 'and', 'react', 'based', 'on', 'the', 'presence', 'or', 'absence', 'of', 'such', 'commonalities', 'in', 'each', 'new', 'piece', 'of', 'data', 'a', 'central', 'application', 'of', 'unsupervised', 'learning', 'is', 'in', 'the', 'field', 'of', 'density', 'estimation', 'in', 'statistics', 'though', 'unsupervised', 'learning', 'encompasses', 'other', 'domains', 'involving', 'summarizing', 'and', 'explaining', 'data', 'features', 'cluster', 'analysis', 'is', 'the', 'assignment', 'of', 'a', 'set', 'of', 'observations', 'into', 'subsets', 'called', 'clusters', 'so', 'that', 'observations', 'within', 'the', 'same', 'cluster', 'are', 'similar', 'according', 'to', 'one', 'or', 'more', 'predesignated', 'criteria', 'while', 'observations', 'drawn', 'from', 'different', 'clusters', 'are', 'dissimilar', 'different', 'clustering', 'techniques', 'make', 'different', 'assumptions', 'on', 'the', 'structure', 'of', 'the', 'data', 'often', 'defined', 'by', 'some', 'similarity', 'metric', 'and', 'evaluated', 'for', 'example', 'by', 'internal', 'compactness', 'or', 'the', 'similarity', 'between', 'members', 'of', 'the', 'same', 'cluster', 'and', 'separation', 'the', 'difference', 'between', 'clusters', 'other', 'methods', 'are', 'based', 'on', 'estimated', 'density', 'and', 'graph', 'connectivity', 'reinforcement', 'learning', 'reinforcement', 'learning', 'is', 'an', 'area', 'of', 'machine', 'learning', 'concerned', 'with', 'how', 'software', 'agents', 'ought', 'to', 'take', 'actions', 'in', 'an', 'environment', 'so', 'as', 'to', 'maximize', 'some', 'notion', 'of', 'cumulative', 'reward', 'due', 'to', 'its', 'generality', 'the', 'field', 'is', 'studied', 'in', 'many', 'other', 'disciplines', 'such', 'as', 'game', 'theory', 'control', 'theory', 'operations', 'research', 'information', 'theory', 'simulation', 'based', 'optimization', 'multi', 'agent', 'systems', 'swarm', 'intelligence', 'statistics', 'and', 'genetic', 'algorithms', 'in', 'machine', 'learning', 'the', 'environment', 'is', 'typically', 'represented', 'as', 'a', 'markov', 'decision', 'process', 'mdp', 'many', 'reinforcement', 'learning', 'algorithms', 'use', 'dynamic', 'programming', 'techniques', 'reinforcement', 'learning', 'algorithms', 'do', 'not', 'assume', 'knowledge', 'of', 'an', 'exact', 'mathematical', 'model', 'of', 'the', 'mdp', 'and', 'are', 'used', 'when', 'exact', 'models', 'are', 'infeasible', 'reinforcement', 'learning', 'algorithms', 'are', 'used', 'in', 'autonomous', 'vehicles', 'or', 'in', 'learning', 'to', 'play', 'a', 'game', 'against', 'a', 'human', 'opponent', 'processes', 'and', 'techniques', 'various', 'processes', 'techniques', 'and', 'methods', 'can', 'be', 'applied', 'to', 'one', 'or', 'more', 'types', 'of', 'machine', 'learning', 'algorithms', 'to', 'enhance', 'their', 'performance', 'feature', 'learning', 'several', 'learning', 'algorithms', 'aim', 'at', 'discovering', 'better', 'representations', 'of', 'the', 'inputs', 'provided', 'during', 'training', 'classic', 'examples', 'include', 'principal', 'components', 'analysis', 'and', 'cluster', 'analysis', 'feature', 'learning', 'algorithms', 'also', 'called', 'representation', 'learning', 'algorithms', 'often', 'attempt', 'to', 'preserve', 'the', 'information', 'in', 'their', 'input', 'but', 'also', 'transform', 'it', 'in', 'a', 'way', 'that', 'makes', 'it', 'useful', 'often', 'as', 'a', 'pre', 'processing', 'step', 'before', 'performing', 'classification', 'or', 'predictions', 'this', 'technique', 'allows', 'reconstruction', 'of', 'the', 'inputs', 'coming', 'from', 'the', 'unknown', 'data', 'generating', 'distribution', 'while', 'not', 'being', 'necessarily', 'faithful', 'to', 'configurations', 'that', 'are', 'implausible', 'under', 'that', 'distribution', 'this', 'replaces', 'manual', 'feature', 'engineering', 'and', 'allows', 'a', 'machine', 'to', 'both', 'learn', 'the', 'features', 'and', 'use', 'them', 'to', 'perform', 'a', 'specific', 'task', 'feature', 'learning', 'can', 'be', 'either', 'supervised', 'or', 'unsupervised', 'in', 'supervised', 'feature', 'learning', 'features', 'are', 'learned', 'using', 'labeled', 'input', 'data', 'examples', 'include', 'artificial', 'neural', 'networks', 'multilayer', 'perceptrons', 'and', 'supervised', 'dictionary', 'learning', 'in', 'unsupervised', 'feature', 'learning', 'features', 'are', 'learned', 'with', 'unlabeled', 'input', 'data', 'examples', 'include', 'dictionary', 'learning', 'independent', 'component', 'analysis', 'autoencoders', 'matrix', 'factorization', 'and', 'various', 'forms', 'of', 'clustering', 'manifold', 'learning', 'algorithms', 'attempt', 'to', 'do', 'so', 'under', 'the', 'constraint', 'that', 'the', 'learned', 'representation', 'is', 'low', 'dimensional', 'sparse', 'coding', 'algorithms', 'attempt', 'to', 'do', 'so', 'under', 'the', 'constraint', 'that', 'the', 'learned', 'representation', 'is', 'sparse', 'meaning', 'that', 'the', 'mathematical', 'model', 'has', 'many', 'zeros', 'multilinear', 'subspace', 'learning', 'algorithms', 'aim', 'to', 'learn', 'low', 'dimensional', 'representations', 'directly', 'from', 'tensor', 'representations', 'for', 'multidimensional', 'data', 'without', 'reshaping', 'them', 'into', 'higher', 'dimensional', 'vectors', 'deep', 'learning', 'algorithms', 'discover', 'multiple', 'levels', 'of', 'representation', 'or', 'a', 'hierarchy', 'of', 'features', 'with', 'higher', 'level', 'more', 'abstract', 'features', 'defined', 'in', 'terms', 'of', 'or', 'generating', 'lower', 'level', 'features', 'it', 'has', 'been', 'argued', 'that', 'an', 'intelligent', 'machine', 'is', 'one', 'that', 'learns', 'a', 'representation', 'that', 'disentangles', 'the', 'underlying', 'factors', 'of', 'variation', 'that', 'explain', 'the', 'observed', 'data', 'feature', 'learning', 'is', 'motivated', 'by', 'the', 'fact', 'that', 'machine', 'learning', 'tasks', 'such', 'as', 'classification', 'often', 'require', 'input', 'that', 'is', 'mathematically', 'and', 'computationally', 'convenient', 'to', 'process', 'however', 'real', 'world', 'data', 'such', 'as', 'images', 'video', 'and', 'sensory', 'data', 'has', 'not', 'yielded', 'to', 'attempts', 'to', 'algorithmically', 'define', 'specific', 'features', 'an', 'alternative', 'is', 'to', 'discover', 'such', 'features', 'or', 'representations', 'through', 'examination', 'without', 'relying', 'on', 'explicit', 'algorithms', 'sparse', 'dictionary', 'learning', 'sparse', 'dictionary', 'learning', 'is', 'a', 'feature', 'learning', 'method', 'where', 'a', 'training', 'example', 'is', 'represented', 'as', 'a', 'linear', 'combination', 'of', 'basis', 'functions', 'and', 'is', 'assumed', 'to', 'be', 'a', 'sparse', 'matrix', 'the', 'method', 'is', 'strongly', 'np', 'hard', 'and', 'difficult', 'to', 'solve', 'approximately', 'a', 'popular', 'heuristic', 'method', 'for', 'sparse', 'dictionary', 'learning', 'is', 'the', 'k', 'svd', 'algorithm', 'sparse', 'dictionary', 'learning', 'has', 'been', 'applied', 'in', 'several', 'contexts', 'in', 'classification', 'the', 'problem', 'is', 'to', 'determine', 'to', 'which', 'classes', 'a', 'previously', 'unseen', 'training', 'example', 'belongs', 'for', 'a', 'dictionary', 'where', 'each', 'class', 'has', 'already', 'been', 'built', 'a', 'new', 'training', 'example', 'is', 'associated', 'with', 'the', 'class', 'that', 'is', 'best', 'sparsely', 'represented', 'by', 'the', 'corresponding', 'dictionary', 'sparse', 'dictionary', 'learning', 'has', 'also', 'been', 'applied', 'in', 'image', 'de', 'noising', 'the', 'key', 'idea', 'is', 'that', 'a', 'clean', 'image', 'patch', 'can', 'be', 'sparsely', 'represented', 'by', 'an', 'image', 'dictionary', 'but', 'the', 'noise', 'cannot', 'anomaly', 'detection', 'in', 'data', 'mining', 'anomaly', 'detection', 'also', 'known', 'as', 'outlier', 'detection', 'is', 'the', 'identification', 'of', 'rare', 'items', 'events', 'or', 'observations', 'which', 'raise', 'suspicions', 'by', 'differing', 'significantly', 'from', 'the', 'majority', 'of', 'the', 'data', 'typically', 'the', 'anomalous', 'items', 'represent', 'an', 'issue', 'such', 'as', 'bank', 'fraud', 'a', 'structural', 'defect', 'medical', 'problems', 'or', 'errors', 'in', 'a', 'text', 'anomalies', 'are', 'referred', 'to', 'as', 'outliers', 'novelties', 'noise', 'deviations', 'and', 'exceptions', 'in', 'particular', 'in', 'the', 'context', 'of', 'abuse', 'and', 'network', 'intrusion', 'detection', 'the', 'interesting', 'objects', 'are', 'often', 'not', 'rare', 'objects', 'but', 'unexpected', 'bursts', 'in', 'activity', 'this', 'pattern', 'does', 'not', 'adhere', 'to', 'the', 'common', 'statistical', 'definition', 'of', 'an', 'outlier', 'as', 'a', 'rare', 'object', 'and', 'many', 'outlier', 'detection', 'methods', 'in', 'particular', 'unsupervised', 'algorithms', 'will', 'fail', 'on', 'such', 'data', 'unless', 'it', 'has', 'been', 'aggregated', 'appropriately', 'instead', 'a', 'cluster', 'analysis', 'algorithm', 'may', 'be', 'able', 'to', 'detect', 'the', 'micro', 'clusters', 'formed', 'by', 'these', 'patterns', 'three', 'broad', 'categories', 'of', 'anomaly', 'detection', 'techniques', 'exist', 'unsupervised', 'anomaly', 'detection', 'techniques', 'detect', 'anomalies', 'in', 'an', 'unlabeled', 'test', 'data', 'set', 'under', 'the', 'assumption', 'that', 'the', 'majority', 'of', 'the', 'instances', 'in', 'the', 'data', 'set', 'are', 'normal', 'by', 'looking', 'for', 'instances', 'that', 'seem', 'to', 'fit', 'least', 'to', 'the', 'remainder', 'of', 'the', 'data', 'set', 'supervised', 'anomaly', 'detection', 'techniques', 'require', 'a', 'data', 'set', 'that', 'has', 'been', 'labeled', 'as', 'normal', 'and', 'abnormal', 'and', 'involves', 'training', 'a', 'classifier', 'the', 'key', 'difference', 'to', 'many', 'other', 'statistical', 'classification', 'problems', 'is', 'the', 'inherent', 'unbalanced', 'nature', 'of', 'outlier', 'detection', 'semi', 'supervised', 'anomaly', 'detection', 'techniques', 'construct', 'a', 'model', 'representing', 'normal', 'behavior', 'from', 'a', 'given', 'normal', 'training', 'data', 'set', 'and', 'then', 'test', 'the', 'likelihood', 'of', 'a', 'test', 'instance', 'to', 'be', 'generated', 'by', 'the', 'model', 'decision', 'trees', 'decision', 'tree', 'learning', 'uses', 'a', 'decision', 'tree', 'as', 'a', 'predictive', 'model', 'to', 'go', 'from', 'observations', 'about', 'an', 'item', 'represented', 'in', 'the', 'branches', 'to', 'conclusions', 'about', 'the', 'item', 's', 'target', 'value', 'represented', 'in', 'the', 'leaves', 'it', 'is', 'one', 'of', 'the', 'predictive', 'modeling', 'approaches', 'used', 'in', 'statistics', 'data', 'mining', 'and', 'machine', 'learning', 'tree', 'models', 'where', 'the', 'target', 'variable', 'can', 'take', 'a', 'discrete', 'set', 'of', 'values', 'are', 'called', 'classification', 'trees', 'in', 'these', 'tree', 'structures', 'leaves', 'represent', 'class', 'labels', 'and', 'branches', 'represent', 'conjunctions', 'of', 'features', 'that', 'lead', 'to', 'those', 'class', 'labels', 'decision', 'trees', 'where', 'the', 'target', 'variable', 'can', 'take', 'continuous', 'values', 'typically', 'real', 'numbers', 'are', 'called', 'regression', 'trees', 'in', 'decision', 'analysis', 'a', 'decision', 'tree', 'can', 'be', 'used', 'to', 'visually', 'and', 'explicitly', 'represent', 'decisions', 'and', 'decision', 'making', 'in', 'data', 'mining', 'a', 'decision', 'tree', 'describes', 'data', 'but', 'the', 'resulting', 'classification', 'tree', 'can', 'be', 'an', 'input', 'for', 'decision', 'making', 'association', 'rules', 'association', 'rule', 'learning', 'is', 'a', 'rule', 'based', 'machine', 'learning', 'method', 'for', 'discovering', 'relationships', 'between', 'variables', 'in', 'large', 'databases', 'it', 'is', 'intended', 'to', 'identify', 'strong', 'rules', 'discovered', 'in', 'databases', 'using', 'some', 'measure', 'of', 'interestingness', 'this', 'rule', 'based', 'approach', 'generates', 'new', 'rules', 'as', 'it', 'analyzes', 'more', 'data', 'the', 'ultimate', 'goal', 'assuming', 'the', 'set', 'of', 'data', 'is', 'large', 'enough', 'is', 'to', 'help', 'a', 'machine', 'mimic', 'the', 'human', 'brain', 's', 'feature', 'extraction', 'and', 'abstract', 'association', 'capabilities', 'for', 'data', 'that', 'has', 'not', 'been', 'categorized', 'rule', 'based', 'machine', 'learning', 'is', 'a', 'general', 'term', 'for', 'any', 'machine', 'learning', 'method', 'that', 'identifies', 'learns', 'or', 'evolves', 'rules', 'to', 'store', 'manipulate', 'or', 'apply', 'knowledge', 'the', 'defining', 'characteristic', 'of', 'a', 'rule', 'based', 'machine', 'learning', 'algorithm', 'is', 'the', 'identification', 'and', 'utilization', 'of', 'a', 'set', 'of', 'relational', 'rules', 'that', 'collectively', 'represent', 'the', 'knowledge', 'captured', 'by', 'the', 'system', 'this', 'is', 'in', 'contrast', 'to', 'other', 'machine', 'learning', 'algorithms', 'that', 'commonly', 'identify', 'a', 'singular', 'model', 'that', 'can', 'be', 'universally', 'applied', 'to', 'any', 'instance', 'in', 'order', 'to', 'make', 'a', 'prediction', 'rule', 'based', 'machine', 'learning', 'approaches', 'include', 'learning', 'classifier', 'systems', 'association', 'rule', 'learning', 'and', 'artificial', 'immune', 'systems', 'based', 'on', 'the', 'concept', 'of', 'strong', 'rules', 'rakesh', 'agrawal', 'tomasz', 'imieli', 'ski', 'and', 'arun', 'swami', 'introduced', 'association', 'rules', 'for', 'discovering', 'regularities', 'between', 'products', 'in', 'large', 'scale', 'transaction', 'data', 'recorded', 'by', 'point', 'of', 'sale', 'pos', 'systems', 'in', 'supermarkets', 'for', 'example', 'the', 'rule', 'o', 'n', 'i', 'o', 'n', 's', 'p', 'o', 't', 'a', 't', 'o', 'e', 's', 'b', 'u', 'r', 'g', 'e', 'r', 'displaystyle', 'mathrm', 'onions', 'potatoes', 'rightarrow', 'mathrm', 'burger', 'found', 'in', 'the', 'sales', 'data', 'of', 'a', 'supermarket', 'would', 'indicate', 'that', 'if', 'a', 'customer', 'buys', 'onions', 'and', 'potatoes', 'together', 'they', 'are', 'likely', 'to', 'also', 'buy', 'hamburger', 'meat', 'such', 'information', 'can', 'be', 'used', 'as', 'the', 'basis', 'for', 'decisions', 'about', 'marketing', 'activities', 'such', 'as', 'promotional', 'pricing', 'or', 'product', 'placements', 'in', 'addition', 'to', 'market', 'basket', 'analysis', 'association', 'rules', 'are', 'employed', 'today', 'in', 'application', 'areas', 'including', 'web', 'usage', 'mining', 'intrusion', 'detection', 'continuous', 'production', 'and', 'bioinformatics', 'in', 'contrast', 'with', 'sequence', 'mining', 'association', 'rule', 'learning', 'typically', 'does', 'not', 'consider', 'the', 'order', 'of', 'items', 'either', 'within', 'a', 'transaction', 'or', 'across', 'transactions', 'learning', 'classifier', 'systems', 'lcs', 'are', 'a', 'family', 'of', 'rule', 'based', 'machine', 'learning', 'algorithms', 'that', 'combine', 'a', 'discovery', 'component', 'typically', 'a', 'genetic', 'algorithm', 'with', 'a', 'learning', 'component', 'performing', 'either', 'supervised', 'learning', 'reinforcement', 'learning', 'or', 'unsupervised', 'learning', 'they', 'seek', 'to', 'identify', 'a', 'set', 'of', 'context', 'dependent', 'rules', 'that', 'collectively', 'store', 'and', 'apply', 'knowledge', 'in', 'a', 'piecewise', 'manner', 'in', 'order', 'to', 'make', 'predictions', 'inductive', 'logic', 'programming', 'ilp', 'is', 'an', 'approach', 'to', 'rule', 'learning', 'using', 'logic', 'programming', 'as', 'a', 'uniform', 'representation', 'for', 'input', 'examples', 'background', 'knowledge', 'and', 'hypotheses', 'given', 'an', 'encoding', 'of', 'the', 'known', 'background', 'knowledge', 'and', 'a', 'set', 'of', 'examples', 'represented', 'as', 'a', 'logical', 'database', 'of', 'facts', 'an', 'ilp', 'system', 'will', 'derive', 'a', 'hypothesized', 'logic', 'program', 'that', 'entails', 'all', 'positive', 'and', 'no', 'negative', 'examples', 'inductive', 'programming', 'is', 'a', 'related', 'field', 'that', 'considers', 'any', 'kind', 'of', 'programming', 'languages', 'for', 'representing', 'hypotheses', 'and', 'not', 'only', 'logic', 'programming', 'such', 'as', 'functional', 'programs', 'inductive', 'logic', 'programming', 'is', 'particularly', 'useful', 'in', 'bioinformatics', 'and', 'natural', 'language', 'processing', 'gordon', 'plotkin', 'and', 'ehud', 'shapiro', 'laid', 'the', 'initial', 'theoretical', 'foundation', 'for', 'inductive', 'machine', 'learning', 'in', 'a', 'logical', 'setting', 'shapiro', 'built', 'their', 'first', 'implementation', 'model', 'inference', 'system', 'in', 'a', 'prolog', 'program', 'that', 'inductively', 'inferred', 'logic', 'programs', 'from', 'positive', 'and', 'negative', 'examples', 'the', 'term', 'inductive', 'here', 'refers', 'to', 'philosophical', 'induction', 'suggesting', 'a', 'theory', 'to', 'explain', 'observed', 'facts', 'rather', 'than', 'mathematical', 'induction', 'proving', 'a', 'property', 'for', 'all', 'members', 'of', 'a', 'well', 'ordered', 'set', 'models', 'artificial', 'neural', 'networks', 'artificial', 'neural', 'networks', 'anns', 'or', 'connectionist', 'systems', 'are', 'computing', 'systems', 'vaguely', 'inspired', 'by', 'the', 'biological', 'neural', 'networks', 'that', 'constitute', 'animal', 'brains', 'the', 'neural', 'network', 'itself', 'is', 'not', 'an', 'algorithm', 'but', 'rather', 'a', 'framework', 'for', 'many', 'different', 'machine', 'learning', 'algorithms', 'to', 'work', 'together', 'and', 'process', 'complex', 'data', 'inputs', 'such', 'systems', 'learn', 'to', 'perform', 'tasks', 'by', 'considering', 'examples', 'generally', 'without', 'being', 'programmed', 'with', 'any', 'task', 'specific', 'rules', 'an', 'ann', 'is', 'a', 'model', 'based', 'on', 'a', 'collection', 'of', 'connected', 'units', 'or', 'nodes', 'called', 'artificial', 'neurons', 'which', 'loosely', 'model', 'the', 'neurons', 'in', 'a', 'biological', 'brain', 'each', 'connection', 'like', 'the', 'synapses', 'in', 'a', 'biological', 'brain', 'can', 'transmit', 'information', 'a', 'signal', 'from', 'one', 'artificial', 'neuron', 'to', 'another', 'an', 'artificial', 'neuron', 'that', 'receives', 'a', 'signal', 'can', 'process', 'it', 'and', 'then', 'signal', 'additional', 'artificial', 'neurons', 'connected', 'to', 'it', 'in', 'common', 'ann', 'implementations', 'the', 'signal', 'at', 'a', 'connection', 'between', 'artificial', 'neurons', 'is', 'a', 'real', 'number', 'and', 'the', 'output', 'of', 'each', 'artificial', 'neuron', 'is', 'computed', 'by', 'some', 'non', 'linear', 'function', 'of', 'the', 'sum', 'of', 'its', 'inputs', 'the', 'connections', 'between', 'artificial', 'neurons', 'are', 'called', 'edges', 'artificial', 'neurons', 'and', 'edges', 'typically', 'have', 'a', 'weight', 'that', 'adjusts', 'as', 'learning', 'proceeds', 'the', 'weight', 'increases', 'or', 'decreases', 'the', 'strength', 'of', 'the', 'signal', 'at', 'a', 'connection', 'artificial', 'neurons', 'may', 'have', 'a', 'threshold', 'such', 'that', 'the', 'signal', 'is', 'only', 'sent', 'if', 'the', 'aggregate', 'signal', 'crosses', 'that', 'threshold', 'typically', 'artificial', 'neurons', 'are', 'aggregated', 'into', 'layers', 'different', 'layers', 'may', 'perform', 'different', 'kinds', 'of', 'transformations', 'on', 'their', 'inputs', 'signals', 'travel', 'from', 'the', 'first', 'layer', 'the', 'input', 'layer', 'to', 'the', 'last', 'layer', 'the', 'output', 'layer', 'possibly', 'after', 'traversing', 'the', 'layers', 'multiple', 'times', 'the', 'original', 'goal', 'of', 'the', 'ann', 'approach', 'was', 'to', 'solve', 'problems', 'in', 'the', 'same', 'way', 'that', 'a', 'human', 'brain', 'would', 'however', 'over', 'time', 'attention', 'moved', 'to', 'performing', 'specific', 'tasks', 'leading', 'to', 'deviations', 'from', 'biology', 'artificial', 'neural', 'networks', 'have', 'been', 'used', 'on', 'a', 'variety', 'of', 'tasks', 'including', 'computer', 'vision', 'speech', 'recognition', 'machine', 'translation', 'social', 'network', 'filtering', 'playing', 'board', 'and', 'video', 'games', 'and', 'medical', 'diagnosis', 'deep', 'learning', 'consists', 'of', 'multiple', 'hidden', 'layers', 'in', 'an', 'artificial', 'neural', 'network', 'this', 'approach', 'tries', 'to', 'model', 'the', 'way', 'the', 'human', 'brain', 'processes', 'light', 'and', 'sound', 'into', 'vision', 'and', 'hearing', 'some', 'successful', 'applications', 'of', 'deep', 'learning', 'are', 'computer', 'vision', 'and', 'speech', 'recognition', 'support', 'vector', 'machines', 'support', 'vector', 'machines', 'svms', 'also', 'known', 'as', 'support', 'vector', 'networks', 'are', 'a', 'set', 'of', 'related', 'supervised', 'learning', 'methods', 'used', 'for', 'classification', 'and', 'regression', 'given', 'a', 'set', 'of', 'training', 'examples', 'each', 'marked', 'as', 'belonging', 'to', 'one', 'of', 'two', 'categories', 'an', 'svm', 'training', 'algorithm', 'builds', 'a', 'model', 'that', 'predicts', 'whether', 'a', 'new', 'example', 'falls', 'into', 'one', 'category', 'or', 'the', 'other', 'an', 'svm', 'training', 'algorithm', 'is', 'a', 'non', 'probabilistic', 'binary', 'linear', 'classifier', 'although', 'methods', 'such', 'as', 'platt', 'scaling', 'exist', 'to', 'use', 'svm', 'in', 'a', 'probabilistic', 'classification', 'setting', 'in', 'addition', 'to', 'performing', 'linear', 'classification', 'svms', 'can', 'efficiently', 'perform', 'a', 'non', 'linear', 'classification', 'using', 'what', 'is', 'called', 'the', 'kernel', 'trick', 'implicitly', 'mapping', 'their', 'inputs', 'into', 'high', 'dimensional', 'feature', 'spaces', 'bayesian', 'networks', 'a', 'bayesian', 'network', 'belief', 'network', 'or', 'directed', 'acyclic', 'graphical', 'model', 'is', 'a', 'probabilistic', 'graphical', 'model', 'that', 'represents', 'a', 'set', 'of', 'random', 'variables', 'and', 'their', 'conditional', 'independence', 'with', 'a', 'directed', 'acyclic', 'graph', 'dag', 'for', 'example', 'a', 'bayesian', 'network', 'could', 'represent', 'the', 'probabilistic', 'relationships', 'between', 'diseases', 'and', 'symptoms', 'given', 'symptoms', 'the', 'network', 'can', 'be', 'used', 'to', 'compute', 'the', 'probabilities', 'of', 'the', 'presence', 'of', 'various', 'diseases', 'efficient', 'algorithms', 'exist', 'that', 'perform', 'inference', 'and', 'learning', 'bayesian', 'networks', 'that', 'model', 'sequences', 'of', 'variables', 'like', 'speech', 'signals', 'or', 'protein', 'sequences', 'are', 'called', 'dynamic', 'bayesian', 'networks', 'generalizations', 'of', 'bayesian', 'networks', 'that', 'can', 'represent', 'and', 'solve', 'decision', 'problems', 'under', 'uncertainty', 'are', 'called', 'influence', 'diagrams', 'genetic', 'algorithms', 'a', 'genetic', 'algorithm', 'ga', 'is', 'a', 'search', 'algorithm', 'and', 'heuristic', 'technique', 'that', 'mimics', 'the', 'process', 'of', 'natural', 'selection', 'using', 'methods', 'such', 'as', 'mutation', 'and', 'crossover', 'to', 'generate', 'new', 'genotypes', 'in', 'the', 'hope', 'of', 'finding', 'good', 'solutions', 'to', 'a', 'given', 'problem', 'in', 'machine', 'learning', 'genetic', 'algorithms', 'were', 'used', 'in', 'the', 's', 'and', 's', 'conversely', 'machine', 'learning', 'techniques', 'have', 'been', 'used', 'to', 'improve', 'the', 'performance', 'of', 'genetic', 'and', 'evolutionary', 'algorithms', 'applications', 'applications', 'for', 'machine', 'learning', 'include', 'in', 'the', 'online', 'movie', 'company', 'netflix', 'held', 'the', 'first', 'netflix', 'prize', 'competition', 'to', 'find', 'a', 'program', 'to', 'better', 'predict', 'user', 'preferences', 'and', 'improve', 'the', 'accuracy', 'on', 'its', 'existing', 'cinematch', 'movie', 'recommendation', 'algorithm', 'by', 'at', 'least', 'a', 'joint', 'team', 'made', 'up', 'of', 'researchers', 'from', 'at', 't', 'labs', 'research', 'in', 'collaboration', 'with', 'the', 'teams', 'big', 'chaos', 'and', 'pragmatic', 'theory', 'built', 'an', 'ensemble', 'model', 'to', 'win', 'the', 'grand', 'prize', 'in', 'for', 'million', 'shortly', 'after', 'the', 'prize', 'was', 'awarded', 'netflix', 'realized', 'that', 'viewers', 'ratings', 'were', 'not', 'the', 'best', 'indicators', 'of', 'their', 'viewing', 'patterns', 'everything', 'is', 'a', 'recommendation', 'and', 'they', 'changed', 'their', 'recommendation', 'engine', 'accordingly', 'in', 'the', 'wall', 'street', 'journal', 'wrote', 'about', 'the', 'firm', 'rebellion', 'research', 'and', 'their', 'use', 'of', 'machine', 'learning', 'to', 'predict', 'the', 'financial', 'crisis', 'in', 'co', 'founder', 'of', 'sun', 'microsystems', 'vinod', 'khosla', 'predicted', 'that', 'of', 'medical', 'doctors', 'jobs', 'would', 'be', 'lost', 'in', 'the', 'next', 'two', 'decades', 'to', 'automated', 'machine', 'learning', 'medical', 'diagnostic', 'software', 'in', 'it', 'was', 'reported', 'that', 'a', 'machine', 'learning', 'algorithm', 'had', 'been', 'applied', 'in', 'the', 'field', 'of', 'art', 'history', 'to', 'study', 'fine', 'art', 'paintings', 'and', 'that', 'it', 'may', 'have', 'revealed', 'previously', 'unrecognized', 'influences', 'between', 'artists', 'limitations', 'although', 'machine', 'learning', 'has', 'been', 'transformative', 'in', 'some', 'fields', 'machine', 'learning', 'programs', 'often', 'fail', 'to', 'deliver', 'expected', 'results', 'reasons', 'for', 'this', 'are', 'numerous', 'lack', 'of', 'suitable', 'data', 'lack', 'of', 'access', 'to', 'the', 'data', 'data', 'bias', 'privacy', 'problems', 'badly', 'chosen', 'tasks', 'and', 'algorithms', 'wrong', 'tools', 'and', 'people', 'lack', 'of', 'resources', 'and', 'evaluation', 'problems', 'in', 'a', 'self', 'driving', 'car', 'from', 'uber', 'failed', 'to', 'detect', 'a', 'pedestrian', 'who', 'was', 'killed', 'after', 'a', 'collision', 'attempts', 'to', 'use', 'machine', 'learning', 'in', 'healthcare', 'with', 'the', 'ibm', 'watson', 'system', 'failed', 'to', 'deliver', 'even', 'after', 'years', 'of', 'time', 'and', 'billions', 'of', 'investment', 'bias', 'machine', 'learning', 'approaches', 'in', 'particular', 'can', 'suffer', 'from', 'different', 'data', 'biases', 'a', 'machine', 'learning', 'system', 'trained', 'on', 'current', 'customers', 'only', 'may', 'not', 'be', 'able', 'to', 'predict', 'the', 'needs', 'of', 'new', 'customer', 'groups', 'that', 'are', 'not', 'represented', 'in', 'the', 'training', 'data', 'when', 'trained', 'on', 'man', 'made', 'data', 'machine', 'learning', 'is', 'likely', 'to', 'pick', 'up', 'the', 'same', 'constitutional', 'and', 'unconscious', 'biases', 'already', 'present', 'in', 'society', 'language', 'models', 'learned', 'from', 'data', 'have', 'been', 'shown', 'to', 'contain', 'human', 'like', 'biases', 'machine', 'learning', 'systems', 'used', 'for', 'criminal', 'risk', 'assessment', 'have', 'been', 'found', 'to', 'be', 'biased', 'against', 'black', 'people', 'in', 'google', 'photos', 'would', 'often', 'tag', 'black', 'people', 'as', 'gorillas', 'and', 'in', 'this', 'still', 'was', 'not', 'well', 'resolved', 'but', 'google', 'reportedly', 'was', 'still', 'using', 'the', 'workaround', 'to', 'remove', 'all', 'gorilla', 'from', 'the', 'training', 'data', 'and', 'thus', 'was', 'not', 'able', 'to', 'recognize', 'real', 'gorillas', 'at', 'all', 'similar', 'issues', 'with', 'recognizing', 'non', 'white', 'people', 'have', 'been', 'found', 'in', 'many', 'other', 'systems', 'in', 'microsoft', 'tested', 'a', 'chatbot', 'that', 'learned', 'from', 'twitter', 'and', 'it', 'quickly', 'picked', 'up', 'racist', 'and', 'sexist', 'language', 'because', 'of', 'such', 'challenges', 'the', 'effective', 'use', 'of', 'machine', 'learning', 'may', 'take', 'longer', 'to', 'be', 'adopted', 'in', 'other', 'domains', 'concern', 'for', 'reducing', 'bias', 'in', 'machine', 'learning', 'and', 'propelling', 'its', 'use', 'for', 'human', 'good', 'is', 'increasingly', 'expressed', 'by', 'artificial', 'intelligence', 'scientists', 'including', 'fei', 'fei', 'li', 'who', 'reminds', 'engineers', 'that', 'there', 's', 'nothing', 'artificial', 'about', 'ai', 'it', 's', 'inspired', 'by', 'people', 'it', 's', 'created', 'by', 'people', 'and', 'most', 'importantly', 'it', 'impacts', 'people', 'it', 'is', 'a', 'powerful', 'tool', 'we', 'are', 'only', 'just', 'beginning', 'to', 'understand', 'and', 'that', 'is', 'a', 'profound', 'responsibility', 'model', 'assessments', 'classification', 'machine', 'learning', 'models', 'can', 'be', 'validated', 'by', 'accuracy', 'estimation', 'techniques', 'like', 'the', 'holdout', 'method', 'which', 'splits', 'the', 'data', 'in', 'a', 'training', 'and', 'test', 'set', 'conventionally', 'training', 'set', 'and', 'test', 'set', 'designation', 'and', 'evaluates', 'the', 'performance', 'of', 'the', 'training', 'model', 'on', 'the', 'test', 'set', 'in', 'comparison', 'the', 'n', 'fold', 'cross', 'validation', 'method', 'randomly', 'splits', 'the', 'data', 'in', 'k', 'subsets', 'where', 'the', 'k', 'instances', 'of', 'the', 'data', 'are', 'used', 'to', 'train', 'the', 'model', 'while', 'the', 'kth', 'instance', 'is', 'used', 'to', 'test', 'the', 'predictive', 'ability', 'of', 'the', 'training', 'model', 'in', 'addition', 'to', 'the', 'holdout', 'and', 'cross', 'validation', 'methods', 'bootstrap', 'which', 'samples', 'n', 'instances', 'with', 'replacement', 'from', 'the', 'dataset', 'can', 'be', 'used', 'to', 'assess', 'model', 'accuracy', 'in', 'addition', 'to', 'overall', 'accuracy', 'investigators', 'frequently', 'report', 'sensitivity', 'and', 'specificity', 'meaning', 'true', 'positive', 'rate', 'tpr', 'and', 'true', 'negative', 'rate', 'tnr', 'respectively', 'similarly', 'investigators', 'sometimes', 'report', 'the', 'false', 'positive', 'rate', 'fpr', 'as', 'well', 'as', 'the', 'false', 'negative', 'rate', 'fnr', 'however', 'these', 'rates', 'are', 'ratios', 'that', 'fail', 'to', 'reveal', 'their', 'numerators', 'and', 'denominators', 'the', 'total', 'operating', 'characteristic', 'toc', 'is', 'an', 'effective', 'method', 'to', 'express', 'a', 'model', 's', 'diagnostic', 'ability', 'toc', 'shows', 'the', 'numerators', 'and', 'denominators', 'of', 'the', 'previously', 'mentioned', 'rates', 'thus', 'toc', 'provides', 'more', 'information', 'than', 'the', 'commonly', 'used', 'receiver', 'operating', 'characteristic', 'roc', 'and', 'roc', 's', 'associated', 'area', 'under', 'the', 'curve', 'auc', 'ethics', 'machine', 'learning', 'poses', 'a', 'host', 'of', 'ethical', 'questions', 'systems', 'which', 'are', 'trained', 'on', 'datasets', 'collected', 'with', 'biases', 'may', 'exhibit', 'these', 'biases', 'upon', 'use', 'algorithmic', 'bias', 'thus', 'digitizing', 'cultural', 'prejudices', 'for', 'example', 'using', 'job', 'hiring', 'data', 'from', 'a', 'firm', 'with', 'racist', 'hiring', 'policies', 'may', 'lead', 'to', 'a', 'machine', 'learning', 'system', 'duplicating', 'the', 'bias', 'by', 'scoring', 'job', 'applicants', 'against', 'similarity', 'to', 'previous', 'successful', 'applicants', 'responsible', 'collection', 'of', 'data', 'and', 'documentation', 'of', 'algorithmic', 'rules', 'used', 'by', 'a', 'system', 'thus', 'is', 'a', 'critical', 'part', 'of', 'machine', 'learning', 'because', 'language', 'contains', 'biases', 'machines', 'trained', 'on', 'language', 'corpora', 'will', 'necessarily', 'also', 'learn', 'bias', 'other', 'forms', 'of', 'ethical', 'challenges', 'not', 'related', 'to', 'personal', 'biases', 'are', 'more', 'seen', 'in', 'health', 'care', 'there', 'are', 'concerns', 'among', 'health', 'care', 'professionals', 'that', 'these', 'systems', 'might', 'not', 'be', 'designed', 'in', 'the', 'public', 's', 'interest', 'but', 'as', 'income', 'generating', 'machines', 'this', 'is', 'especially', 'true', 'in', 'the', 'united', 'states', 'where', 'there', 'is', 'a', 'perpetual', 'ethical', 'dilemma', 'of', 'improving', 'health', 'care', 'but', 'also', 'increasing', 'profits', 'for', 'example', 'the', 'algorithms', 'could', 'be', 'designed', 'to', 'provide', 'patients', 'with', 'unnecessary', 'tests', 'or', 'medication', 'in', 'which', 'the', 'algorithm', 's', 'proprietary', 'owners', 'hold', 'stakes', 'in', 'there', 'is', 'huge', 'potential', 'for', 'machine', 'learning', 'in', 'health', 'care', 'to', 'provide', 'professionals', 'a', 'great', 'tool', 'to', 'diagnose', 'medicate', 'and', 'even', 'plan', 'recovery', 'paths', 'for', 'patients', 'but', 'this', 'will', 'not', 'happen', 'until', 'the', 'personal', 'biases', 'mentioned', 'previously', 'and', 'these', 'greed', 'biases', 'are', 'addressed', 'software', 'software', 'suites', 'containing', 'a', 'variety', 'of', 'machine', 'learning', 'algorithms', 'include', 'the', 'following', 'free', 'and', 'open', 'source', 'software', 'proprietary', 'software', 'with', 'free', 'and', 'open', 'source', 'editions', 'proprietary', 'software', 'journals', 'journal', 'of', 'machine', 'learning', 'research', 'machine', 'learning', 'neural', 'computation', 'nature', 'machine', 'intelligence', 'conferences', 'conference', 'on', 'neural', 'information', 'processing', 'systems', 'international', 'conference', 'on', 'machine', 'learning', 'see', 'also', 'references', 'further', 'reading', 'artificial', 'intelligence', 'a', 'modern', 'approach', 'rd', 'edition', 'external', 'links', 'international', 'machine', 'learning', 'society', 'mloss', 'is', 'an', 'academic', 'database', 'of', 'open', 'source', 'machine', 'learning', 'software', 'machine', 'learning', 'crash', 'course', 'by', 'google', 'this', 'is', 'a', 'free', 'course', 'on', 'machine', 'learning', 'through', 'the', 'use', 'of', 'tensorflow']\n"
     ]
    }
   ],
   "source": [
    "documents = []\n",
    "\n",
    "for title in titles:\n",
    "    clean_doc = clean_str(page(title).content)\n",
    "    documents.append(clean_doc.split(' '))\n",
    "\n",
    "print(len(documents))\n",
    "print(documents[0])"
   ]
  },
  {
   "cell_type": "markdown",
   "metadata": {
    "colab_type": "text",
    "id": "eyo1zvzERVgG"
   },
   "source": [
    "### Build the gensim model for word2vec with by considering all the words with frequency >=1 with embedding size=50"
   ]
  },
  {
   "cell_type": "code",
   "execution_count": 31,
   "metadata": {
    "colab": {},
    "colab_type": "code",
    "id": "hMkxm5eHRVts"
   },
   "outputs": [],
   "source": [
    "#Build the model\n",
    "model = gensim.models.Word2Vec(documents, #Word list\n",
    "                               min_count=1, #Ignore all words with total frequency lower than this                           \n",
    "                               workers=4, #Number of CPUs\n",
    "                               size=50,  #Embedding size\n",
    "                               window=5, #Maximum Distance between current and predicted word\n",
    "                               iter=10   #Number of iterations over the text corpus\n",
    "                              )  "
   ]
  },
  {
   "cell_type": "markdown",
   "metadata": {
    "colab_type": "text",
    "id": "FyLV4F6uRYZx"
   },
   "source": [
    "### Exploring the model"
   ]
  },
  {
   "cell_type": "markdown",
   "metadata": {
    "colab_type": "text",
    "id": "XxUuShBTRaYH"
   },
   "source": [
    "#### Check how many words in the model"
   ]
  },
  {
   "cell_type": "code",
   "execution_count": 33,
   "metadata": {
    "colab": {},
    "colab_type": "code",
    "id": "S4lMhzWlRamw"
   },
   "outputs": [
    {
     "name": "stdout",
     "output_type": "stream",
     "text": [
      "Number of words: 4996\n"
     ]
    },
    {
     "name": "stderr",
     "output_type": "stream",
     "text": [
      "C:\\AIML\\Anaconda3\\lib\\site-packages\\ipykernel_launcher.py:1: DeprecationWarning: Call to deprecated `syn0` (Attribute will be removed in 4.0.0, use self.vectors instead).\n",
      "  \"\"\"Entry point for launching an IPython kernel.\n"
     ]
    }
   ],
   "source": [
    "print('Number of words:',model.wv.syn0.shape[0])"
   ]
  },
  {
   "cell_type": "markdown",
   "metadata": {
    "colab_type": "text",
    "id": "KshrfDklReIl"
   },
   "source": [
    "### Get an embedding for word `SVM`"
   ]
  },
  {
   "cell_type": "code",
   "execution_count": 35,
   "metadata": {
    "colab": {},
    "colab_type": "code",
    "id": "YiwT1OjARg6e"
   },
   "outputs": [
    {
     "data": {
      "text/plain": [
       "array([ 0.2695292 , -0.07491785,  0.22683716, -0.8812913 , -0.04476273,\n",
       "        0.8587758 , -0.5732648 , -0.6432545 ,  0.09135519,  0.49277425,\n",
       "        0.8205995 ,  0.9822047 ,  0.41738817, -1.251793  , -0.42116922,\n",
       "       -0.66463006,  0.5399261 ,  0.71219796,  0.13837677, -0.9004556 ,\n",
       "        0.7570285 , -0.6750986 , -0.62499577,  0.42589387,  0.02156076,\n",
       "       -0.08103542,  0.5092484 ,  0.59049386, -0.43134278,  1.0235611 ,\n",
       "       -0.29856876,  1.0840778 ,  0.66862845,  0.33343843,  0.5420241 ,\n",
       "       -0.8272531 , -0.164085  ,  1.2281519 , -2.0486572 , -0.9192366 ,\n",
       "       -0.4527347 , -0.24418233, -1.6572928 ,  0.20031801,  0.69819236,\n",
       "       -0.40072313,  0.10640454, -0.7934537 ,  0.23233157, -0.72280496],\n",
       "      dtype=float32)"
      ]
     },
     "execution_count": 35,
     "metadata": {},
     "output_type": "execute_result"
    }
   ],
   "source": [
    "model.wv['svm']"
   ]
  },
  {
   "cell_type": "markdown",
   "metadata": {
    "colab_type": "text",
    "id": "7COLA1LzRhTj"
   },
   "source": [
    "### Finding most similar words for word `learning`"
   ]
  },
  {
   "cell_type": "code",
   "execution_count": 36,
   "metadata": {
    "colab": {},
    "colab_type": "code",
    "id": "tEsMKWY6Ri3n"
   },
   "outputs": [
    {
     "data": {
      "text/plain": [
       "[('machine', 0.9976972937583923),\n",
       " ('networks', 0.9962754249572754),\n",
       " ('deep', 0.996139407157898),\n",
       " ('supervised', 0.9956562519073486),\n",
       " ('neural', 0.9956175684928894),\n",
       " ('algorithms', 0.9950774908065796),\n",
       " ('belief', 0.992693305015564),\n",
       " ('build', 0.9909639358520508),\n",
       " ('focuses', 0.9900330901145935),\n",
       " ('part', 0.9884830713272095)]"
      ]
     },
     "execution_count": 36,
     "metadata": {},
     "output_type": "execute_result"
    }
   ],
   "source": [
    "model.wv.most_similar('learning')"
   ]
  },
  {
   "cell_type": "markdown",
   "metadata": {
    "colab_type": "text",
    "id": "K8QjNuDKRlvt"
   },
   "source": [
    "### Find the word which is not like others from `machine, svm, ball, learning`"
   ]
  },
  {
   "cell_type": "code",
   "execution_count": 40,
   "metadata": {
    "colab": {},
    "colab_type": "code",
    "id": "oBudwDHtRl3u"
   },
   "outputs": [
    {
     "data": {
      "text/plain": [
       "'ball'"
      ]
     },
     "execution_count": 40,
     "metadata": {},
     "output_type": "execute_result"
    }
   ],
   "source": [
    "words = list(['machine', 'svm', 'ball', 'learning'])\n",
    "model.wv.doesnt_match(words)"
   ]
  },
  {
   "cell_type": "markdown",
   "metadata": {
    "colab_type": "text",
    "id": "cjNQ0yMNRn6D"
   },
   "source": [
    "### Save the model with name `word2vec-wiki-10`"
   ]
  },
  {
   "cell_type": "code",
   "execution_count": 41,
   "metadata": {
    "colab": {},
    "colab_type": "code",
    "id": "bynMebY5RoLn"
   },
   "outputs": [],
   "source": [
    "model.save('word2vec-wiki-10')"
   ]
  },
  {
   "cell_type": "markdown",
   "metadata": {
    "colab_type": "text",
    "id": "cDeem0T5RqTn"
   },
   "source": [
    "### Load the model `word2vec-wiki-10`"
   ]
  },
  {
   "cell_type": "code",
   "execution_count": 43,
   "metadata": {
    "colab": {},
    "colab_type": "code",
    "id": "VJJk04KfRqen"
   },
   "outputs": [],
   "source": [
    "model = gensim.models.Word2Vec.load('word2vec-wiki-10')"
   ]
  },
  {
   "cell_type": "code",
   "execution_count": 45,
   "metadata": {},
   "outputs": [
    {
     "data": {
      "text/plain": [
       "'support'"
      ]
     },
     "execution_count": 45,
     "metadata": {},
     "output_type": "execute_result"
    }
   ],
   "source": [
    "#Testing the loaded model\n",
    "words = list(['regression', 'classification', 'support', 'algorithm'])\n",
    "model.wv.doesnt_match(words)"
   ]
  }
 ],
 "metadata": {
  "colab": {
   "collapsed_sections": [],
   "name": "R7_ExternalLab_Questions.ipynb",
   "provenance": [],
   "version": "0.3.2"
  },
  "kernelspec": {
   "display_name": "Python 3",
   "language": "python",
   "name": "python3"
  },
  "language_info": {
   "codemirror_mode": {
    "name": "ipython",
    "version": 3
   },
   "file_extension": ".py",
   "mimetype": "text/x-python",
   "name": "python",
   "nbconvert_exporter": "python",
   "pygments_lexer": "ipython3",
   "version": "3.6.5"
  }
 },
 "nbformat": 4,
 "nbformat_minor": 1
}
