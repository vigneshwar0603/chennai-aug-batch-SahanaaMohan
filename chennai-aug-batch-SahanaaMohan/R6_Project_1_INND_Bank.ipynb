{
 "cells": [
  {
   "cell_type": "markdown",
   "metadata": {
    "colab_type": "text",
    "id": "YYk8NG3yOIT9"
   },
   "source": [
    "### A MNIST-like fashion product database\n",
    "\n",
    "In this, we classify the images into respective classes given in the dataset. We use a Neural Net and a Deep Neural Net in Keras to solve this and check the accuracy scores."
   ]
  },
  {
   "cell_type": "markdown",
   "metadata": {
    "colab_type": "text",
    "id": "tFO6PuxzOIT_",
    "slideshow": {
     "slide_type": "slide"
    }
   },
   "source": [
    "### 1. Read the dataset"
   ]
  },
  {
   "cell_type": "code",
   "execution_count": 36,
   "metadata": {
    "colab": {},
    "colab_type": "code",
    "id": "efNjNImfOIUC"
   },
   "outputs": [],
   "source": [
    "import tensorflow as tf\n",
    "tf.set_random_seed(42)"
   ]
  },
  {
   "cell_type": "code",
   "execution_count": 2,
   "metadata": {
    "colab": {},
    "colab_type": "code",
    "id": "l9C4aAIGOIUH",
    "outputId": "5ef9aff6-a7bd-4b26-cba6-8750955f6ca3"
   },
   "outputs": [
    {
     "data": {
      "text/plain": [
       "'1.12.0'"
      ]
     },
     "execution_count": 2,
     "metadata": {},
     "output_type": "execute_result"
    }
   ],
   "source": [
    "tf.__version__"
   ]
  },
  {
   "cell_type": "code",
   "execution_count": 3,
   "metadata": {},
   "outputs": [],
   "source": [
    "#Reset Default graph - Needed only for Jupyter notebook\n",
    "tf.reset_default_graph()"
   ]
  },
  {
   "cell_type": "code",
   "execution_count": 4,
   "metadata": {},
   "outputs": [],
   "source": [
    "import pandas as pd\n",
    "data = pd.read_csv('bank.csv')"
   ]
  },
  {
   "cell_type": "code",
   "execution_count": 5,
   "metadata": {
    "colab": {},
    "colab_type": "code",
    "id": "qnbx7TyQOIUY"
   },
   "outputs": [
    {
     "data": {
      "text/plain": [
       "Index(['RowNumber', 'CustomerId', 'Surname', 'CreditScore', 'Geography',\n",
       "       'Gender', 'Age', 'Tenure', 'Balance', 'NumOfProducts', 'HasCrCard',\n",
       "       'IsActiveMember', 'EstimatedSalary', 'Exited'],\n",
       "      dtype='object')"
      ]
     },
     "execution_count": 5,
     "metadata": {},
     "output_type": "execute_result"
    }
   ],
   "source": [
    "data.columns"
   ]
  },
  {
   "cell_type": "markdown",
   "metadata": {},
   "source": [
    "# 2. Drop the columns which are unique for all users like IDs"
   ]
  },
  {
   "cell_type": "code",
   "execution_count": 6,
   "metadata": {
    "colab": {},
    "colab_type": "code",
    "id": "UbiHj5YPOIUc",
    "outputId": "87e1b9cd-07f0-45cb-e706-0d51ad742d72",
    "slideshow": {
     "slide_type": "fragment"
    }
   },
   "outputs": [],
   "source": [
    "#dropping row number and customer id\n",
    "data = data.iloc[:, 3:]"
   ]
  },
  {
   "cell_type": "code",
   "execution_count": 7,
   "metadata": {},
   "outputs": [],
   "source": [
    "from sklearn.preprocessing import LabelEncoder\n",
    "encoder =  LabelEncoder()\n",
    "\n",
    "data['Geography']= encoder.fit_transform(data['Geography'])\n",
    "data['Gender']= encoder.fit_transform(data['Gender'])"
   ]
  },
  {
   "cell_type": "code",
   "execution_count": 8,
   "metadata": {},
   "outputs": [
    {
     "data": {
      "text/html": [
       "<div>\n",
       "<style scoped>\n",
       "    .dataframe tbody tr th:only-of-type {\n",
       "        vertical-align: middle;\n",
       "    }\n",
       "\n",
       "    .dataframe tbody tr th {\n",
       "        vertical-align: top;\n",
       "    }\n",
       "\n",
       "    .dataframe thead th {\n",
       "        text-align: right;\n",
       "    }\n",
       "</style>\n",
       "<table border=\"1\" class=\"dataframe\">\n",
       "  <thead>\n",
       "    <tr style=\"text-align: right;\">\n",
       "      <th></th>\n",
       "      <th>CreditScore</th>\n",
       "      <th>Geography</th>\n",
       "      <th>Gender</th>\n",
       "      <th>Age</th>\n",
       "      <th>Tenure</th>\n",
       "      <th>Balance</th>\n",
       "      <th>NumOfProducts</th>\n",
       "      <th>HasCrCard</th>\n",
       "      <th>IsActiveMember</th>\n",
       "      <th>EstimatedSalary</th>\n",
       "      <th>Exited</th>\n",
       "    </tr>\n",
       "  </thead>\n",
       "  <tbody>\n",
       "    <tr>\n",
       "      <th>0</th>\n",
       "      <td>619</td>\n",
       "      <td>0</td>\n",
       "      <td>0</td>\n",
       "      <td>42</td>\n",
       "      <td>2</td>\n",
       "      <td>0.00</td>\n",
       "      <td>1</td>\n",
       "      <td>1</td>\n",
       "      <td>1</td>\n",
       "      <td>101348.88</td>\n",
       "      <td>1</td>\n",
       "    </tr>\n",
       "    <tr>\n",
       "      <th>1</th>\n",
       "      <td>608</td>\n",
       "      <td>2</td>\n",
       "      <td>0</td>\n",
       "      <td>41</td>\n",
       "      <td>1</td>\n",
       "      <td>83807.86</td>\n",
       "      <td>1</td>\n",
       "      <td>0</td>\n",
       "      <td>1</td>\n",
       "      <td>112542.58</td>\n",
       "      <td>0</td>\n",
       "    </tr>\n",
       "    <tr>\n",
       "      <th>2</th>\n",
       "      <td>502</td>\n",
       "      <td>0</td>\n",
       "      <td>0</td>\n",
       "      <td>42</td>\n",
       "      <td>8</td>\n",
       "      <td>159660.80</td>\n",
       "      <td>3</td>\n",
       "      <td>1</td>\n",
       "      <td>0</td>\n",
       "      <td>113931.57</td>\n",
       "      <td>1</td>\n",
       "    </tr>\n",
       "    <tr>\n",
       "      <th>3</th>\n",
       "      <td>699</td>\n",
       "      <td>0</td>\n",
       "      <td>0</td>\n",
       "      <td>39</td>\n",
       "      <td>1</td>\n",
       "      <td>0.00</td>\n",
       "      <td>2</td>\n",
       "      <td>0</td>\n",
       "      <td>0</td>\n",
       "      <td>93826.63</td>\n",
       "      <td>0</td>\n",
       "    </tr>\n",
       "    <tr>\n",
       "      <th>4</th>\n",
       "      <td>850</td>\n",
       "      <td>2</td>\n",
       "      <td>0</td>\n",
       "      <td>43</td>\n",
       "      <td>2</td>\n",
       "      <td>125510.82</td>\n",
       "      <td>1</td>\n",
       "      <td>1</td>\n",
       "      <td>1</td>\n",
       "      <td>79084.10</td>\n",
       "      <td>0</td>\n",
       "    </tr>\n",
       "  </tbody>\n",
       "</table>\n",
       "</div>"
      ],
      "text/plain": [
       "   CreditScore  Geography  Gender  Age  Tenure    Balance  NumOfProducts  \\\n",
       "0          619          0       0   42       2       0.00              1   \n",
       "1          608          2       0   41       1   83807.86              1   \n",
       "2          502          0       0   42       8  159660.80              3   \n",
       "3          699          0       0   39       1       0.00              2   \n",
       "4          850          2       0   43       2  125510.82              1   \n",
       "\n",
       "   HasCrCard  IsActiveMember  EstimatedSalary  Exited  \n",
       "0          1               1        101348.88       1  \n",
       "1          0               1        112542.58       0  \n",
       "2          1               0        113931.57       1  \n",
       "3          0               0         93826.63       0  \n",
       "4          1               1         79084.10       0  "
      ]
     },
     "execution_count": 8,
     "metadata": {},
     "output_type": "execute_result"
    }
   ],
   "source": [
    "data.head()"
   ]
  },
  {
   "cell_type": "code",
   "execution_count": 9,
   "metadata": {
    "colab": {},
    "colab_type": "code",
    "id": "vBlfYlANOIUk"
   },
   "outputs": [
    {
     "data": {
      "text/plain": [
       "(10000, 11)"
      ]
     },
     "execution_count": 9,
     "metadata": {},
     "output_type": "execute_result"
    }
   ],
   "source": [
    "data.shape"
   ]
  },
  {
   "cell_type": "markdown",
   "metadata": {},
   "source": [
    "# Distinguish the feature and target set"
   ]
  },
  {
   "cell_type": "code",
   "execution_count": 10,
   "metadata": {
    "colab": {},
    "colab_type": "code",
    "id": "RHV3b9mzOIUq",
    "outputId": "27bdfe58-91ee-4677-fe49-e742ad306c70",
    "scrolled": true,
    "slideshow": {
     "slide_type": "fragment"
    }
   },
   "outputs": [],
   "source": [
    "features = data.drop('Exited', axis=1)"
   ]
  },
  {
   "cell_type": "code",
   "execution_count": 11,
   "metadata": {},
   "outputs": [],
   "source": [
    "target = data[\"Exited\"]"
   ]
  },
  {
   "cell_type": "code",
   "execution_count": 12,
   "metadata": {
    "colab": {},
    "colab_type": "code",
    "id": "AvDML2OoOIUx",
    "outputId": "9dafc94e-61a8-4089-be03-d143163d68aa"
   },
   "outputs": [
    {
     "name": "stdout",
     "output_type": "stream",
     "text": [
      "Number of examples:  10000\n",
      "Number of features for each example:  10\n"
     ]
    }
   ],
   "source": [
    "print('Number of examples: ', features.shape[0])\n",
    "print('Number of features for each example: ', features.shape[1])"
   ]
  },
  {
   "cell_type": "markdown",
   "metadata": {},
   "source": [
    "# Divide the data set into Train and test sets"
   ]
  },
  {
   "cell_type": "code",
   "execution_count": 13,
   "metadata": {
    "colab": {},
    "colab_type": "code",
    "id": "Ac06XZZTOIU6"
   },
   "outputs": [],
   "source": [
    "from sklearn.model_selection import train_test_split\n",
    "X_train, X_test, y_train, y_test = train_test_split(features, target, test_size=0.3, random_state=10)"
   ]
  },
  {
   "cell_type": "markdown",
   "metadata": {},
   "source": [
    "# Normalize the train and test data "
   ]
  },
  {
   "cell_type": "code",
   "execution_count": 14,
   "metadata": {
    "colab": {},
    "colab_type": "code",
    "id": "O59C_-IgOIVB"
   },
   "outputs": [],
   "source": [
    "#Input features\n",
    "x = tf.placeholder(shape=[None,10],dtype=tf.float32, name='x-input')\n",
    "\n",
    "#Normalize the data\n",
    "x_n = tf.nn.l2_normalize(x,1)\n",
    "\n",
    "#Actual Prices\n",
    "y_ = tf.placeholder(shape=[None],dtype=tf.float32, name='y-input')"
   ]
  },
  {
   "cell_type": "markdown",
   "metadata": {},
   "source": [
    "# Initialize & build the model"
   ]
  },
  {
   "cell_type": "code",
   "execution_count": 15,
   "metadata": {
    "colab": {},
    "colab_type": "code",
    "id": "kndfpdidOIVI"
   },
   "outputs": [],
   "source": [
    "W = tf.Variable(tf.zeros(shape=[10,1]), name=\"Weights\")\n",
    "b = tf.Variable(tf.zeros(shape=[1]),name=\"Bias\")"
   ]
  },
  {
   "cell_type": "code",
   "execution_count": 16,
   "metadata": {
    "colab": {},
    "colab_type": "code",
    "id": "JNLR8tcBOIVP"
   },
   "outputs": [],
   "source": [
    "y = tf.add(tf.matmul(x_n,W),b,name='output')"
   ]
  },
  {
   "cell_type": "code",
   "execution_count": 17,
   "metadata": {},
   "outputs": [],
   "source": [
    "loss = tf.reduce_mean(tf.square(y-y_),name='Loss')"
   ]
  },
  {
   "cell_type": "markdown",
   "metadata": {},
   "source": [
    "# Optimize the model"
   ]
  },
  {
   "cell_type": "code",
   "execution_count": 18,
   "metadata": {
    "colab": {},
    "colab_type": "code",
    "id": "yLXUE9jWOIVV"
   },
   "outputs": [],
   "source": [
    "train_op = tf.train.GradientDescentOptimizer(0.01).minimize(loss)"
   ]
  },
  {
   "cell_type": "code",
   "execution_count": 19,
   "metadata": {
    "colab": {},
    "colab_type": "code",
    "id": "pJUqA5T4OIVc"
   },
   "outputs": [],
   "source": [
    "#Lets start graph Execution\n",
    "sess = tf.Session()\n",
    "\n",
    "# variables need to be initialized before we can use them\n",
    "sess.run(tf.global_variables_initializer())\n",
    "\n",
    "#how many times data need to be shown to model\n",
    "training_epochs = 1000"
   ]
  },
  {
   "cell_type": "code",
   "execution_count": 22,
   "metadata": {},
   "outputs": [
    {
     "name": "stdout",
     "output_type": "stream",
     "text": [
      "Training loss at step:  0  is  0.1477429\n",
      "Training loss at step:  100  is  0.14775684\n",
      "Training loss at step:  200  is  0.14777452\n",
      "Training loss at step:  300  is  0.1477813\n",
      "Training loss at step:  400  is  0.14778502\n",
      "Training loss at step:  500  is  0.1477785\n",
      "Training loss at step:  600  is  0.14777309\n",
      "Training loss at step:  700  is  0.14776982\n",
      "Training loss at step:  800  is  0.1477662\n",
      "Training loss at step:  900  is  0.1477598\n"
     ]
    }
   ],
   "source": [
    "for epoch in range(training_epochs):\n",
    "            \n",
    "    #Calculate train_op and loss\n",
    "    _, train_loss = sess.run([train_op,loss],feed_dict={x:features, y_:target})\n",
    "    \n",
    "    if epoch % 100 == 0:\n",
    "        print ('Training loss at step: ', epoch, ' is ', train_loss)"
   ]
  },
  {
   "cell_type": "markdown",
   "metadata": {},
   "source": [
    "# Predict the results using 0.5 as a threshold "
   ]
  },
  {
   "cell_type": "code",
   "execution_count": 73,
   "metadata": {},
   "outputs": [],
   "source": [
    "model = tf.keras.models.Sequential()\n",
    "#Normalize input data\n",
    "model.add(tf.keras.layers.BatchNormalization(input_shape=(10,)))\n",
    "\n",
    "#Add Dense layer for prediction - Keras declares weights and bias automatically\n",
    "model.add(tf.keras.layers.Dense(1))\n",
    "\n",
    "#Compile the model - add Loss and Gradient Descent optimizer\n",
    "model.compile(optimizer='sgd', loss='mse', metrics=['accuracy'])"
   ]
  },
  {
   "cell_type": "code",
   "execution_count": 61,
   "metadata": {},
   "outputs": [
    {
     "name": "stdout",
     "output_type": "stream",
     "text": [
      "Epoch 1/100\n",
      "10000/10000 [==============================] - 1s 83us/step - loss: 0.3758 - acc: 0.7377\n",
      "Epoch 2/100\n",
      "10000/10000 [==============================] - 0s 38us/step - loss: 0.1411 - acc: 0.8012\n",
      "Epoch 3/100\n",
      "10000/10000 [==============================] - 0s 38us/step - loss: 0.1405 - acc: 0.8032\n",
      "Epoch 4/100\n",
      "10000/10000 [==============================] - 0s 40us/step - loss: 0.1407 - acc: 0.8044\n",
      "Epoch 5/100\n",
      "10000/10000 [==============================] - 0s 40us/step - loss: 0.1403 - acc: 0.8040\n",
      "Epoch 6/100\n",
      "10000/10000 [==============================] - 0s 40us/step - loss: 0.1402 - acc: 0.8037\n",
      "Epoch 7/100\n",
      "10000/10000 [==============================] - 0s 39us/step - loss: 0.1402 - acc: 0.8042\n",
      "Epoch 8/100\n",
      "10000/10000 [==============================] - 0s 39us/step - loss: 0.1407 - acc: 0.8038\n",
      "Epoch 9/100\n",
      "10000/10000 [==============================] - 0s 39us/step - loss: 0.1405 - acc: 0.8032\n",
      "Epoch 10/100\n",
      "10000/10000 [==============================] - 0s 40us/step - loss: 0.1404 - acc: 0.8031\n",
      "Epoch 11/100\n",
      "10000/10000 [==============================] - 0s 38us/step - loss: 0.1405 - acc: 0.8034\n",
      "Epoch 12/100\n",
      "10000/10000 [==============================] - 0s 40us/step - loss: 0.1402 - acc: 0.8049\n",
      "Epoch 13/100\n",
      "10000/10000 [==============================] - 0s 40us/step - loss: 0.1407 - acc: 0.8028\n",
      "Epoch 14/100\n",
      "10000/10000 [==============================] - 0s 40us/step - loss: 0.1407 - acc: 0.8034\n",
      "Epoch 15/100\n",
      "10000/10000 [==============================] - 0s 40us/step - loss: 0.1408 - acc: 0.8032\n",
      "Epoch 16/100\n",
      "10000/10000 [==============================] - 0s 38us/step - loss: 0.1402 - acc: 0.8048\n",
      "Epoch 17/100\n",
      "10000/10000 [==============================] - 0s 45us/step - loss: 0.1402 - acc: 0.8038\n",
      "Epoch 18/100\n",
      "10000/10000 [==============================] - 0s 40us/step - loss: 0.1402 - acc: 0.8044\n",
      "Epoch 19/100\n",
      "10000/10000 [==============================] - 0s 41us/step - loss: 0.1405 - acc: 0.8039\n",
      "Epoch 20/100\n",
      "10000/10000 [==============================] - 0s 43us/step - loss: 0.1406 - acc: 0.8045\n",
      "Epoch 21/100\n",
      "10000/10000 [==============================] - 0s 45us/step - loss: 0.1402 - acc: 0.8064\n",
      "Epoch 22/100\n",
      "10000/10000 [==============================] - 0s 48us/step - loss: 0.1405 - acc: 0.8035\n",
      "Epoch 23/100\n",
      "10000/10000 [==============================] - 0s 39us/step - loss: 0.1404 - acc: 0.8023\n",
      "Epoch 24/100\n",
      "10000/10000 [==============================] - 0s 42us/step - loss: 0.1405 - acc: 0.8066\n",
      "Epoch 25/100\n",
      "10000/10000 [==============================] - 0s 41us/step - loss: 0.1408 - acc: 0.8034\n",
      "Epoch 26/100\n",
      "10000/10000 [==============================] - 0s 45us/step - loss: 0.1405 - acc: 0.8035\n",
      "Epoch 27/100\n",
      "10000/10000 [==============================] - 0s 42us/step - loss: 0.1402 - acc: 0.8015\n",
      "Epoch 28/100\n",
      "10000/10000 [==============================] - 0s 41us/step - loss: 0.1404 - acc: 0.8039\n",
      "Epoch 29/100\n",
      "10000/10000 [==============================] - 0s 45us/step - loss: 0.1402 - acc: 0.8025\n",
      "Epoch 30/100\n",
      "10000/10000 [==============================] - 0s 40us/step - loss: 0.1404 - acc: 0.8017\n",
      "Epoch 31/100\n",
      "10000/10000 [==============================] - 0s 42us/step - loss: 0.1402 - acc: 0.8065\n",
      "Epoch 32/100\n",
      "10000/10000 [==============================] - 0s 42us/step - loss: 0.1410 - acc: 0.8036\n",
      "Epoch 33/100\n",
      "10000/10000 [==============================] - 0s 41us/step - loss: 0.1405 - acc: 0.8024\n",
      "Epoch 34/100\n",
      "10000/10000 [==============================] - 0s 43us/step - loss: 0.1399 - acc: 0.8048\n",
      "Epoch 35/100\n",
      "10000/10000 [==============================] - 0s 50us/step - loss: 0.1407 - acc: 0.8020\n",
      "Epoch 36/100\n",
      "10000/10000 [==============================] - 0s 48us/step - loss: 0.1406 - acc: 0.8026\n",
      "Epoch 37/100\n",
      "10000/10000 [==============================] - 0s 42us/step - loss: 0.1403 - acc: 0.8043\n",
      "Epoch 38/100\n",
      "10000/10000 [==============================] - 0s 41us/step - loss: 0.1410 - acc: 0.8017\n",
      "Epoch 39/100\n",
      "10000/10000 [==============================] - 0s 40us/step - loss: 0.1406 - acc: 0.8031\n",
      "Epoch 40/100\n",
      "10000/10000 [==============================] - 0s 41us/step - loss: 0.1408 - acc: 0.8043\n",
      "Epoch 41/100\n",
      "10000/10000 [==============================] - 0s 41us/step - loss: 0.1397 - acc: 0.8043\n",
      "Epoch 42/100\n",
      "10000/10000 [==============================] - 0s 41us/step - loss: 0.1406 - acc: 0.8015\n",
      "Epoch 43/100\n",
      "10000/10000 [==============================] - 0s 41us/step - loss: 0.1403 - acc: 0.8032\n",
      "Epoch 44/100\n",
      "10000/10000 [==============================] - 0s 45us/step - loss: 0.1406 - acc: 0.8043\n",
      "Epoch 45/100\n",
      "10000/10000 [==============================] - 0s 43us/step - loss: 0.1401 - acc: 0.8046\n",
      "Epoch 46/100\n",
      "10000/10000 [==============================] - 0s 44us/step - loss: 0.1404 - acc: 0.8035\n",
      "Epoch 47/100\n",
      "10000/10000 [==============================] - 0s 40us/step - loss: 0.1408 - acc: 0.8037\n",
      "Epoch 48/100\n",
      "10000/10000 [==============================] - 0s 38us/step - loss: 0.1406 - acc: 0.8037\n",
      "Epoch 49/100\n",
      "10000/10000 [==============================] - 0s 37us/step - loss: 0.1404 - acc: 0.8041\n",
      "Epoch 50/100\n",
      "10000/10000 [==============================] - 0s 38us/step - loss: 0.1403 - acc: 0.8031\n",
      "Epoch 51/100\n",
      "10000/10000 [==============================] - 0s 36us/step - loss: 0.1403 - acc: 0.8034\n",
      "Epoch 52/100\n",
      "10000/10000 [==============================] - 0s 38us/step - loss: 0.1403 - acc: 0.8044\n",
      "Epoch 53/100\n",
      "10000/10000 [==============================] - 0s 37us/step - loss: 0.1406 - acc: 0.8039\n",
      "Epoch 54/100\n",
      "10000/10000 [==============================] - 0s 37us/step - loss: 0.1408 - acc: 0.8043\n",
      "Epoch 55/100\n",
      "10000/10000 [==============================] - 0s 39us/step - loss: 0.1404 - acc: 0.8027\n",
      "Epoch 56/100\n",
      "10000/10000 [==============================] - 0s 37us/step - loss: 0.1405 - acc: 0.8044\n",
      "Epoch 57/100\n",
      "10000/10000 [==============================] - 0s 36us/step - loss: 0.1404 - acc: 0.8031\n",
      "Epoch 58/100\n",
      "10000/10000 [==============================] - 0s 37us/step - loss: 0.1407 - acc: 0.8036\n",
      "Epoch 59/100\n",
      "10000/10000 [==============================] - 0s 37us/step - loss: 0.1406 - acc: 0.8037\n",
      "Epoch 60/100\n",
      "10000/10000 [==============================] - 0s 36us/step - loss: 0.1403 - acc: 0.8040\n",
      "Epoch 61/100\n",
      "10000/10000 [==============================] - 0s 37us/step - loss: 0.1405 - acc: 0.8018\n",
      "Epoch 62/100\n",
      "10000/10000 [==============================] - 0s 37us/step - loss: 0.1401 - acc: 0.8057\n",
      "Epoch 63/100\n",
      "10000/10000 [==============================] - 0s 37us/step - loss: 0.1406 - acc: 0.8021: 0s - loss: 0.1376 - acc: 0.\n",
      "Epoch 64/100\n",
      "10000/10000 [==============================] - 0s 43us/step - loss: 0.1404 - acc: 0.8048\n",
      "Epoch 65/100\n",
      "10000/10000 [==============================] - 0s 45us/step - loss: 0.1400 - acc: 0.8056\n",
      "Epoch 66/100\n",
      "10000/10000 [==============================] - 0s 45us/step - loss: 0.1405 - acc: 0.8040\n",
      "Epoch 67/100\n",
      "10000/10000 [==============================] - 0s 43us/step - loss: 0.1408 - acc: 0.8044\n",
      "Epoch 68/100\n",
      "10000/10000 [==============================] - 0s 36us/step - loss: 0.1405 - acc: 0.8021\n",
      "Epoch 69/100\n",
      "10000/10000 [==============================] - 0s 38us/step - loss: 0.1400 - acc: 0.8049\n",
      "Epoch 70/100\n",
      "10000/10000 [==============================] - 0s 47us/step - loss: 0.1408 - acc: 0.8029\n",
      "Epoch 71/100\n",
      "10000/10000 [==============================] - 0s 47us/step - loss: 0.1404 - acc: 0.8034\n",
      "Epoch 72/100\n",
      "10000/10000 [==============================] - 0s 39us/step - loss: 0.1403 - acc: 0.8051\n",
      "Epoch 73/100\n",
      "10000/10000 [==============================] - 0s 40us/step - loss: 0.1406 - acc: 0.8039\n",
      "Epoch 74/100\n",
      "10000/10000 [==============================] - 0s 36us/step - loss: 0.1403 - acc: 0.8038\n",
      "Epoch 75/100\n",
      "10000/10000 [==============================] - 0s 34us/step - loss: 0.1406 - acc: 0.8025\n",
      "Epoch 76/100\n",
      "10000/10000 [==============================] - 0s 38us/step - loss: 0.1411 - acc: 0.8031\n",
      "Epoch 77/100\n",
      "10000/10000 [==============================] - 0s 36us/step - loss: 0.1401 - acc: 0.8033\n",
      "Epoch 78/100\n",
      "10000/10000 [==============================] - 0s 37us/step - loss: 0.1407 - acc: 0.8023\n",
      "Epoch 79/100\n",
      "10000/10000 [==============================] - 0s 38us/step - loss: 0.1398 - acc: 0.8042\n",
      "Epoch 80/100\n",
      "10000/10000 [==============================] - 0s 36us/step - loss: 0.1409 - acc: 0.8025\n",
      "Epoch 81/100\n"
     ]
    },
    {
     "name": "stdout",
     "output_type": "stream",
     "text": [
      "10000/10000 [==============================] - 0s 39us/step - loss: 0.1407 - acc: 0.8014\n",
      "Epoch 82/100\n",
      "10000/10000 [==============================] - 0s 35us/step - loss: 0.1403 - acc: 0.8038\n",
      "Epoch 83/100\n",
      "10000/10000 [==============================] - 0s 38us/step - loss: 0.1407 - acc: 0.8025\n",
      "Epoch 84/100\n",
      "10000/10000 [==============================] - 0s 36us/step - loss: 0.1401 - acc: 0.8017\n",
      "Epoch 85/100\n",
      "10000/10000 [==============================] - 0s 38us/step - loss: 0.1404 - acc: 0.8060\n",
      "Epoch 86/100\n",
      "10000/10000 [==============================] - 0s 36us/step - loss: 0.1404 - acc: 0.8030\n",
      "Epoch 87/100\n",
      "10000/10000 [==============================] - 0s 35us/step - loss: 0.1409 - acc: 0.8013\n",
      "Epoch 88/100\n",
      "10000/10000 [==============================] - 0s 37us/step - loss: 0.1405 - acc: 0.8050\n",
      "Epoch 89/100\n",
      "10000/10000 [==============================] - 0s 35us/step - loss: 0.1404 - acc: 0.8036\n",
      "Epoch 90/100\n",
      "10000/10000 [==============================] - 0s 37us/step - loss: 0.1404 - acc: 0.8044\n",
      "Epoch 91/100\n",
      "10000/10000 [==============================] - 0s 35us/step - loss: 0.1401 - acc: 0.8032\n",
      "Epoch 92/100\n",
      "10000/10000 [==============================] - 0s 36us/step - loss: 0.1405 - acc: 0.8052\n",
      "Epoch 93/100\n",
      "10000/10000 [==============================] - 0s 36us/step - loss: 0.1404 - acc: 0.8031\n",
      "Epoch 94/100\n",
      "10000/10000 [==============================] - 0s 35us/step - loss: 0.1409 - acc: 0.8040\n",
      "Epoch 95/100\n",
      "10000/10000 [==============================] - 0s 36us/step - loss: 0.1407 - acc: 0.8049\n",
      "Epoch 96/100\n",
      "10000/10000 [==============================] - 0s 38us/step - loss: 0.1406 - acc: 0.8035\n",
      "Epoch 97/100\n",
      "10000/10000 [==============================] - 0s 36us/step - loss: 0.1410 - acc: 0.8040\n",
      "Epoch 98/100\n",
      "10000/10000 [==============================] - 0s 40us/step - loss: 0.1401 - acc: 0.8077\n",
      "Epoch 99/100\n",
      "10000/10000 [==============================] - 0s 39us/step - loss: 0.1408 - acc: 0.8036\n",
      "Epoch 100/100\n",
      "10000/10000 [==============================] - 0s 41us/step - loss: 0.1405 - acc: 0.8035\n"
     ]
    },
    {
     "data": {
      "text/plain": [
       "<tensorflow.python.keras.callbacks.History at 0x1631d9b5908>"
      ]
     },
     "execution_count": 61,
     "metadata": {},
     "output_type": "execute_result"
    }
   ],
   "source": [
    "model.fit(features, target, epochs=100)"
   ]
  },
  {
   "cell_type": "code",
   "execution_count": 64,
   "metadata": {},
   "outputs": [],
   "source": [
    "y_pred = model.predict(X_test)"
   ]
  },
  {
   "cell_type": "code",
   "execution_count": 69,
   "metadata": {},
   "outputs": [
    {
     "name": "stdout",
     "output_type": "stream",
     "text": [
      "_________________________________________________________________\n",
      "Layer (type)                 Output Shape              Param #   \n",
      "=================================================================\n",
      "dense_22 (Dense)             (None, 100)               1100      \n",
      "=================================================================\n",
      "Total params: 1,100\n",
      "Trainable params: 1,100\n",
      "Non-trainable params: 0\n",
      "_________________________________________________________________\n"
     ]
    }
   ],
   "source": [
    "model.summary()"
   ]
  },
  {
   "cell_type": "code",
   "execution_count": 67,
   "metadata": {},
   "outputs": [
    {
     "data": {
      "text/plain": [
       "(3000,)"
      ]
     },
     "execution_count": 67,
     "metadata": {},
     "output_type": "execute_result"
    }
   ],
   "source": [
    "y_test.shape"
   ]
  },
  {
   "cell_type": "code",
   "execution_count": 68,
   "metadata": {},
   "outputs": [
    {
     "data": {
      "text/plain": [
       "(3000, 100)"
      ]
     },
     "execution_count": 68,
     "metadata": {},
     "output_type": "execute_result"
    }
   ],
   "source": [
    "y_pred.shape"
   ]
  },
  {
   "cell_type": "markdown",
   "metadata": {},
   "source": [
    "# Print the Accuracy score and confusion matrix "
   ]
  },
  {
   "cell_type": "code",
   "execution_count": 71,
   "metadata": {},
   "outputs": [],
   "source": [
    "import numpy as np\n",
    "#y_test_class = np.argmax(y_test,axis=1)\n",
    "y_pred_class = np.argmax(y_pred,axis=1)"
   ]
  },
  {
   "cell_type": "code",
   "execution_count": 72,
   "metadata": {},
   "outputs": [
    {
     "name": "stderr",
     "output_type": "stream",
     "text": [
      "C:\\Users\\Sahanaa_M\\Anaconda3\\lib\\site-packages\\sklearn\\metrics\\classification.py:1143: UndefinedMetricWarning: Precision and F-score are ill-defined and being set to 0.0 in labels with no predicted samples.\n",
      "  'precision', 'predicted', average, warn_for)\n",
      "C:\\Users\\Sahanaa_M\\Anaconda3\\lib\\site-packages\\sklearn\\metrics\\classification.py:1145: UndefinedMetricWarning: Recall and F-score are ill-defined and being set to 0.0 in labels with no true samples.\n",
      "  'recall', 'true', average, warn_for)\n"
     ]
    },
    {
     "name": "stdout",
     "output_type": "stream",
     "text": [
      "              precision    recall  f1-score   support\n",
      "\n",
      "           0       0.00      0.00      0.00      2380\n",
      "           1       0.00      0.00      0.00       620\n",
      "          32       0.00      0.00      0.00         0\n",
      "          42       0.00      0.00      0.00         0\n",
      "          58       0.00      0.00      0.00         0\n",
      "\n",
      "   micro avg       0.00      0.00      0.00      3000\n",
      "   macro avg       0.00      0.00      0.00      3000\n",
      "weighted avg       0.00      0.00      0.00      3000\n",
      "\n",
      "[[   0    0  886 1491    3]\n",
      " [   0    0  155  463    2]\n",
      " [   0    0    0    0    0]\n",
      " [   0    0    0    0    0]\n",
      " [   0    0    0    0    0]]\n"
     ]
    }
   ],
   "source": [
    "from sklearn.metrics import classification_report,confusion_matrix\n",
    "print(classification_report(y_test,y_pred_class))\n",
    "print(confusion_matrix(y_test,y_pred_class))"
   ]
  },
  {
   "cell_type": "code",
   "execution_count": null,
   "metadata": {},
   "outputs": [],
   "source": []
  }
 ],
 "metadata": {
  "colab": {
   "name": "Classification_F-MNIST.ipynb",
   "provenance": [],
   "version": "0.3.2"
  },
  "kernelspec": {
   "display_name": "Python 3",
   "language": "python",
   "name": "python3"
  },
  "language_info": {
   "codemirror_mode": {
    "name": "ipython",
    "version": 3
   },
   "file_extension": ".py",
   "mimetype": "text/x-python",
   "name": "python",
   "nbconvert_exporter": "python",
   "pygments_lexer": "ipython3",
   "version": "3.6.5"
  }
 },
 "nbformat": 4,
 "nbformat_minor": 1
}
